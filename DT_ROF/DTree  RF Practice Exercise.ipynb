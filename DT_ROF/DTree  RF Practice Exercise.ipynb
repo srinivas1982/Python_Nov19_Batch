{
 "cells": [
  {
   "cell_type": "markdown",
   "metadata": {},
   "source": [
    "## Practice Exercise for Decision Trees and Bagged Tree Ensembles\n",
    "<ol>\n",
    "<li>Decision Tree based models can be used for regression problems as well. Use grid search cv [Not RandomSearchCV] to tune a single decision tree for interest rate prediction problem and compare this best tree's performance with linear regression model with l1 penalty </li>\n",
    "<br></br>\n",
    "<li> Payday Loans are high risk short term lending financial products and its very important to asses risk of payment default. Use dataset \"paydayloan_collections.csv\" to build a model whether repayment will be successful or not. All variables and values have been masked in order to hide sensitive information about consumers.\n",
    "<br></br>\n",
    "Use RandomForest and ExtraTreeClassifier to build your model and compare their performance on test data. Prepare partial dependence plots for 4 most important variables for both RandomForest and ExtraTrees</li>\n",
    "<br></br>\n",
    "<li> RandomSearchCV uses default score of the algorithm for parameter selection. Consider \"emission.csv\" which contains first one year average emission data for 10000 vehicles along with measurements of their various tehcnical specifications. \n",
    "<br></br>\n",
    "Build a model for ppm emission  as function of tehcnical specifications of vehicles. Use average absolute error [Instead of squared error loss] for parameter selection in RandomSearchCV with RandomForest Regressior.</li>\n",
    "</ol>"
   ]
  }
 ],
 "metadata": {
  "kernelspec": {
   "display_name": "Python [Root]",
   "language": "python",
   "name": "Python [Root]"
  },
  "language_info": {
   "codemirror_mode": {
    "name": "ipython",
    "version": 3
   },
   "file_extension": ".py",
   "mimetype": "text/x-python",
   "name": "python",
   "nbconvert_exporter": "python",
   "pygments_lexer": "ipython3",
   "version": "3.5.2"
  }
 },
 "nbformat": 4,
 "nbformat_minor": 0
}
