{
 "cells": [
  {
   "cell_type": "markdown",
   "metadata": {},
   "source": [
    "## Practice Exercise for KNN and SVM\n",
    "<ol>\n",
    "<li>  Use dataset \"paydayloan_collections.csv\" to build a model whether repayment will be successful or not using KNN and SVM.Use any of the tuning algorithm to tune the hyper parameters and compare their performance on test data.\n",
    "<br></br>\n",
    "\n",
    "\n",
    "<li>  Use dataset \"emission.csv\" to build a model ppm emission  as function of tehcnical specifications of vehicles using KNN and SVM.Use any of the tuning algorithm to tune the hyper parameters and compare their performance on test data.\n",
    "<br></br>\n",
    "<ol>"
   ]
  }
 ],
 "metadata": {
  "kernelspec": {
   "display_name": "Python [Root]",
   "language": "python",
   "name": "Python [Root]"
  },
  "language_info": {
   "codemirror_mode": {
    "name": "ipython",
    "version": 3
   },
   "file_extension": ".py",
   "mimetype": "text/x-python",
   "name": "python",
   "nbconvert_exporter": "python",
   "pygments_lexer": "ipython3",
   "version": "3.5.2"
  }
 },
 "nbformat": 4,
 "nbformat_minor": 0
}
