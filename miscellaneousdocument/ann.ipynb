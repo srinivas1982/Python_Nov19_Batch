{
 "cells": [
  {
   "cell_type": "code",
   "execution_count": 1,
   "metadata": {},
   "outputs": [
    {
     "name": "stderr",
     "output_type": "stream",
     "text": [
      "C:\\Users\\vishk\\AppData\\Roaming\\Python\\Python37\\site-packages\\numpy\\_distributor_init.py:32: UserWarning: loaded more than 1 DLL from .libs:\n",
      "C:\\Users\\vishk\\AppData\\Roaming\\Python\\Python37\\site-packages\\numpy\\.libs\\libopenblas.PYQHXLVVQ7VESDPUVUADXEVJOBGHJPAY.gfortran-win_amd64.dll\n",
      "C:\\Users\\vishk\\AppData\\Roaming\\Python\\Python37\\site-packages\\numpy\\.libs\\libopenblas.TXA6YQSD3GCQQC22GEQ54J2UDCXDXHWN.gfortran-win_amd64.dll\n",
      "  stacklevel=1)\n"
     ]
    }
   ],
   "source": [
    "# Installing Tensorflow\n",
    "#!pip install tensorflow --user\n",
    "\n",
    "# Installing Keras, it runs on TensorFlow\n",
    "#!pip install --upgrade keras\n",
    "\n",
    "# Part 1 - Data Preprocessing\n",
    "\n",
    "# Importing the libraries\n",
    "import numpy as np\n",
    "import matplotlib.pyplot as plt\n",
    "import pandas as pd"
   ]
  },
  {
   "cell_type": "code",
   "execution_count": 13,
   "metadata": {},
   "outputs": [],
   "source": [
    "# Importing the dataset\n",
    "dataset = pd.read_csv('Churn_Modelling.csv')"
   ]
  },
  {
   "cell_type": "code",
   "execution_count": 14,
   "metadata": {},
   "outputs": [
    {
     "data": {
      "text/html": [
       "<div>\n",
       "<style scoped>\n",
       "    .dataframe tbody tr th:only-of-type {\n",
       "        vertical-align: middle;\n",
       "    }\n",
       "\n",
       "    .dataframe tbody tr th {\n",
       "        vertical-align: top;\n",
       "    }\n",
       "\n",
       "    .dataframe thead th {\n",
       "        text-align: right;\n",
       "    }\n",
       "</style>\n",
       "<table border=\"1\" class=\"dataframe\">\n",
       "  <thead>\n",
       "    <tr style=\"text-align: right;\">\n",
       "      <th></th>\n",
       "      <th>RowNumber</th>\n",
       "      <th>CustomerId</th>\n",
       "      <th>Surname</th>\n",
       "      <th>CreditScore</th>\n",
       "      <th>Geography</th>\n",
       "      <th>Gender</th>\n",
       "      <th>Age</th>\n",
       "      <th>Tenure</th>\n",
       "      <th>Balance</th>\n",
       "      <th>NumOfProducts</th>\n",
       "      <th>HasCrCard</th>\n",
       "      <th>IsActiveMember</th>\n",
       "      <th>EstimatedSalary</th>\n",
       "      <th>Exited</th>\n",
       "    </tr>\n",
       "  </thead>\n",
       "  <tbody>\n",
       "    <tr>\n",
       "      <td>0</td>\n",
       "      <td>1</td>\n",
       "      <td>15634602</td>\n",
       "      <td>Hargrave</td>\n",
       "      <td>619</td>\n",
       "      <td>France</td>\n",
       "      <td>Female</td>\n",
       "      <td>42</td>\n",
       "      <td>2</td>\n",
       "      <td>0.00</td>\n",
       "      <td>1</td>\n",
       "      <td>1</td>\n",
       "      <td>1</td>\n",
       "      <td>101348.88</td>\n",
       "      <td>1</td>\n",
       "    </tr>\n",
       "    <tr>\n",
       "      <td>1</td>\n",
       "      <td>2</td>\n",
       "      <td>15647311</td>\n",
       "      <td>Hill</td>\n",
       "      <td>608</td>\n",
       "      <td>Spain</td>\n",
       "      <td>Female</td>\n",
       "      <td>41</td>\n",
       "      <td>1</td>\n",
       "      <td>83807.86</td>\n",
       "      <td>1</td>\n",
       "      <td>0</td>\n",
       "      <td>1</td>\n",
       "      <td>112542.58</td>\n",
       "      <td>0</td>\n",
       "    </tr>\n",
       "    <tr>\n",
       "      <td>2</td>\n",
       "      <td>3</td>\n",
       "      <td>15619304</td>\n",
       "      <td>Onio</td>\n",
       "      <td>502</td>\n",
       "      <td>France</td>\n",
       "      <td>Female</td>\n",
       "      <td>42</td>\n",
       "      <td>8</td>\n",
       "      <td>159660.80</td>\n",
       "      <td>3</td>\n",
       "      <td>1</td>\n",
       "      <td>0</td>\n",
       "      <td>113931.57</td>\n",
       "      <td>1</td>\n",
       "    </tr>\n",
       "    <tr>\n",
       "      <td>3</td>\n",
       "      <td>4</td>\n",
       "      <td>15701354</td>\n",
       "      <td>Boni</td>\n",
       "      <td>699</td>\n",
       "      <td>France</td>\n",
       "      <td>Female</td>\n",
       "      <td>39</td>\n",
       "      <td>1</td>\n",
       "      <td>0.00</td>\n",
       "      <td>2</td>\n",
       "      <td>0</td>\n",
       "      <td>0</td>\n",
       "      <td>93826.63</td>\n",
       "      <td>0</td>\n",
       "    </tr>\n",
       "    <tr>\n",
       "      <td>4</td>\n",
       "      <td>5</td>\n",
       "      <td>15737888</td>\n",
       "      <td>Mitchell</td>\n",
       "      <td>850</td>\n",
       "      <td>Spain</td>\n",
       "      <td>Female</td>\n",
       "      <td>43</td>\n",
       "      <td>2</td>\n",
       "      <td>125510.82</td>\n",
       "      <td>1</td>\n",
       "      <td>1</td>\n",
       "      <td>1</td>\n",
       "      <td>79084.10</td>\n",
       "      <td>0</td>\n",
       "    </tr>\n",
       "    <tr>\n",
       "      <td>5</td>\n",
       "      <td>6</td>\n",
       "      <td>15574012</td>\n",
       "      <td>Chu</td>\n",
       "      <td>645</td>\n",
       "      <td>Spain</td>\n",
       "      <td>Male</td>\n",
       "      <td>44</td>\n",
       "      <td>8</td>\n",
       "      <td>113755.78</td>\n",
       "      <td>2</td>\n",
       "      <td>1</td>\n",
       "      <td>0</td>\n",
       "      <td>149756.71</td>\n",
       "      <td>1</td>\n",
       "    </tr>\n",
       "    <tr>\n",
       "      <td>6</td>\n",
       "      <td>7</td>\n",
       "      <td>15592531</td>\n",
       "      <td>Bartlett</td>\n",
       "      <td>822</td>\n",
       "      <td>France</td>\n",
       "      <td>Male</td>\n",
       "      <td>50</td>\n",
       "      <td>7</td>\n",
       "      <td>0.00</td>\n",
       "      <td>2</td>\n",
       "      <td>1</td>\n",
       "      <td>1</td>\n",
       "      <td>10062.80</td>\n",
       "      <td>0</td>\n",
       "    </tr>\n",
       "    <tr>\n",
       "      <td>7</td>\n",
       "      <td>8</td>\n",
       "      <td>15656148</td>\n",
       "      <td>Obinna</td>\n",
       "      <td>376</td>\n",
       "      <td>Germany</td>\n",
       "      <td>Female</td>\n",
       "      <td>29</td>\n",
       "      <td>4</td>\n",
       "      <td>115046.74</td>\n",
       "      <td>4</td>\n",
       "      <td>1</td>\n",
       "      <td>0</td>\n",
       "      <td>119346.88</td>\n",
       "      <td>1</td>\n",
       "    </tr>\n",
       "    <tr>\n",
       "      <td>8</td>\n",
       "      <td>9</td>\n",
       "      <td>15792365</td>\n",
       "      <td>He</td>\n",
       "      <td>501</td>\n",
       "      <td>France</td>\n",
       "      <td>Male</td>\n",
       "      <td>44</td>\n",
       "      <td>4</td>\n",
       "      <td>142051.07</td>\n",
       "      <td>2</td>\n",
       "      <td>0</td>\n",
       "      <td>1</td>\n",
       "      <td>74940.50</td>\n",
       "      <td>0</td>\n",
       "    </tr>\n",
       "    <tr>\n",
       "      <td>9</td>\n",
       "      <td>10</td>\n",
       "      <td>15592389</td>\n",
       "      <td>H?</td>\n",
       "      <td>684</td>\n",
       "      <td>France</td>\n",
       "      <td>Male</td>\n",
       "      <td>27</td>\n",
       "      <td>2</td>\n",
       "      <td>134603.88</td>\n",
       "      <td>1</td>\n",
       "      <td>1</td>\n",
       "      <td>1</td>\n",
       "      <td>71725.73</td>\n",
       "      <td>0</td>\n",
       "    </tr>\n",
       "  </tbody>\n",
       "</table>\n",
       "</div>"
      ],
      "text/plain": [
       "   RowNumber  CustomerId   Surname  CreditScore Geography  Gender  Age  \\\n",
       "0          1    15634602  Hargrave          619    France  Female   42   \n",
       "1          2    15647311      Hill          608     Spain  Female   41   \n",
       "2          3    15619304      Onio          502    France  Female   42   \n",
       "3          4    15701354      Boni          699    France  Female   39   \n",
       "4          5    15737888  Mitchell          850     Spain  Female   43   \n",
       "5          6    15574012       Chu          645     Spain    Male   44   \n",
       "6          7    15592531  Bartlett          822    France    Male   50   \n",
       "7          8    15656148    Obinna          376   Germany  Female   29   \n",
       "8          9    15792365        He          501    France    Male   44   \n",
       "9         10    15592389        H?          684    France    Male   27   \n",
       "\n",
       "   Tenure    Balance  NumOfProducts  HasCrCard  IsActiveMember  \\\n",
       "0       2       0.00              1          1               1   \n",
       "1       1   83807.86              1          0               1   \n",
       "2       8  159660.80              3          1               0   \n",
       "3       1       0.00              2          0               0   \n",
       "4       2  125510.82              1          1               1   \n",
       "5       8  113755.78              2          1               0   \n",
       "6       7       0.00              2          1               1   \n",
       "7       4  115046.74              4          1               0   \n",
       "8       4  142051.07              2          0               1   \n",
       "9       2  134603.88              1          1               1   \n",
       "\n",
       "   EstimatedSalary  Exited  \n",
       "0        101348.88       1  \n",
       "1        112542.58       0  \n",
       "2        113931.57       1  \n",
       "3         93826.63       0  \n",
       "4         79084.10       0  \n",
       "5        149756.71       1  \n",
       "6         10062.80       0  \n",
       "7        119346.88       1  \n",
       "8         74940.50       0  \n",
       "9         71725.73       0  "
      ]
     },
     "execution_count": 14,
     "metadata": {},
     "output_type": "execute_result"
    }
   ],
   "source": [
    "dataset.head(10)"
   ]
  },
  {
   "cell_type": "code",
   "execution_count": 15,
   "metadata": {},
   "outputs": [],
   "source": [
    "X = dataset.iloc[:, 3:13].values\n",
    "y = dataset.iloc[:, 13].values"
   ]
  },
  {
   "cell_type": "code",
   "execution_count": 16,
   "metadata": {},
   "outputs": [
    {
     "data": {
      "text/plain": [
       "array([[619, 'France', 'Female', ..., 1, 1, 101348.88],\n",
       "       [608, 'Spain', 'Female', ..., 0, 1, 112542.58],\n",
       "       [502, 'France', 'Female', ..., 1, 0, 113931.57],\n",
       "       ...,\n",
       "       [709, 'France', 'Female', ..., 0, 1, 42085.58],\n",
       "       [772, 'Germany', 'Male', ..., 1, 0, 92888.52],\n",
       "       [792, 'France', 'Female', ..., 1, 0, 38190.78]], dtype=object)"
      ]
     },
     "execution_count": 16,
     "metadata": {},
     "output_type": "execute_result"
    }
   ],
   "source": [
    "X"
   ]
  },
  {
   "cell_type": "code",
   "execution_count": 17,
   "metadata": {},
   "outputs": [
    {
     "data": {
      "text/plain": [
       "array([1, 0, 1, ..., 1, 1, 0], dtype=int64)"
      ]
     },
     "execution_count": 17,
     "metadata": {},
     "output_type": "execute_result"
    }
   ],
   "source": [
    "y"
   ]
  },
  {
   "cell_type": "code",
   "execution_count": 18,
   "metadata": {},
   "outputs": [
    {
     "data": {
      "text/plain": [
       "array([['France', 'Female', 42, ..., 1, 1, 101348.88],\n",
       "       ['Spain', 'Female', 41, ..., 0, 1, 112542.58],\n",
       "       ['France', 'Female', 42, ..., 1, 0, 113931.57],\n",
       "       ...,\n",
       "       ['France', 'Female', 36, ..., 0, 1, 42085.58],\n",
       "       ['Germany', 'Male', 42, ..., 1, 0, 92888.52],\n",
       "       ['France', 'Female', 28, ..., 1, 0, 38190.78]], dtype=object)"
      ]
     },
     "execution_count": 18,
     "metadata": {},
     "output_type": "execute_result"
    }
   ],
   "source": [
    "X[:,1:]"
   ]
  },
  {
   "cell_type": "code",
   "execution_count": 19,
   "metadata": {},
   "outputs": [],
   "source": [
    "# Encoding categorical data\n",
    "from sklearn.preprocessing import LabelEncoder, OneHotEncoder"
   ]
  },
  {
   "cell_type": "code",
   "execution_count": 20,
   "metadata": {},
   "outputs": [
    {
     "data": {
      "text/plain": [
       "array(['France', 'Spain', 'France', ..., 'France', 'Germany', 'France'],\n",
       "      dtype=object)"
      ]
     },
     "execution_count": 20,
     "metadata": {},
     "output_type": "execute_result"
    }
   ],
   "source": [
    "X[:,1]"
   ]
  },
  {
   "cell_type": "code",
   "execution_count": 10,
   "metadata": {},
   "outputs": [],
   "source": [
    "labelencoder_X_1 = LabelEncoder()\n",
    "X[:, 1] = labelencoder_X_1.fit_transform(X[:, 1])\n",
    "\n",
    "labelencoder_X_2 = LabelEncoder()\n",
    "X[:, 2] = labelencoder_X_2.fit_transform(X[:, 2])"
   ]
  },
  {
   "cell_type": "code",
   "execution_count": 11,
   "metadata": {},
   "outputs": [
    {
     "data": {
      "text/plain": [
       "array([0, 2, 0, ..., 0, 1, 0], dtype=object)"
      ]
     },
     "execution_count": 11,
     "metadata": {},
     "output_type": "execute_result"
    }
   ],
   "source": [
    "X[:,1]"
   ]
  },
  {
   "cell_type": "code",
   "execution_count": 21,
   "metadata": {},
   "outputs": [
    {
     "ename": "TypeError",
     "evalue": "__init__() got an unexpected keyword argument 'categorical_features'",
     "output_type": "error",
     "traceback": [
      "\u001b[1;31m---------------------------------------------------------------------------\u001b[0m",
      "\u001b[1;31mTypeError\u001b[0m                                 Traceback (most recent call last)",
      "\u001b[1;32m<ipython-input-21-99d3f8212ec4>\u001b[0m in \u001b[0;36m<module>\u001b[1;34m\u001b[0m\n\u001b[1;32m----> 1\u001b[1;33m \u001b[0monehotencoder\u001b[0m \u001b[1;33m=\u001b[0m \u001b[0mOneHotEncoder\u001b[0m\u001b[1;33m(\u001b[0m\u001b[0mcategorical_features\u001b[0m \u001b[1;33m=\u001b[0m \u001b[1;33m[\u001b[0m\u001b[1;36m1\u001b[0m\u001b[1;33m]\u001b[0m\u001b[1;33m)\u001b[0m\u001b[1;33m\u001b[0m\u001b[1;33m\u001b[0m\u001b[0m\n\u001b[0m\u001b[0;32m      2\u001b[0m \u001b[0mX\u001b[0m \u001b[1;33m=\u001b[0m \u001b[0monehotencoder\u001b[0m\u001b[1;33m.\u001b[0m\u001b[0mfit_transform\u001b[0m\u001b[1;33m(\u001b[0m\u001b[0mX\u001b[0m\u001b[1;33m)\u001b[0m\u001b[1;33m.\u001b[0m\u001b[0mtoarray\u001b[0m\u001b[1;33m(\u001b[0m\u001b[1;33m)\u001b[0m\u001b[1;33m\u001b[0m\u001b[1;33m\u001b[0m\u001b[0m\n\u001b[0;32m      3\u001b[0m \u001b[0mX\u001b[0m \u001b[1;33m=\u001b[0m \u001b[0mX\u001b[0m\u001b[1;33m[\u001b[0m\u001b[1;33m:\u001b[0m\u001b[1;33m,\u001b[0m \u001b[1;36m1\u001b[0m\u001b[1;33m:\u001b[0m\u001b[1;33m]\u001b[0m \u001b[1;31m#To overcome dummy variable trap\u001b[0m\u001b[1;33m\u001b[0m\u001b[1;33m\u001b[0m\u001b[0m\n\u001b[0;32m      4\u001b[0m \u001b[0mX\u001b[0m\u001b[1;33m\u001b[0m\u001b[1;33m\u001b[0m\u001b[0m\n",
      "\u001b[1;31mTypeError\u001b[0m: __init__() got an unexpected keyword argument 'categorical_features'"
     ]
    }
   ],
   "source": [
    "onehotencoder = OneHotEncoder(categorical_features = [1])\n",
    "X = onehotencoder.fit_transform(X).toarray()\n",
    "X = X[:, 1:] #To overcome dummy variable trap\n",
    "X"
   ]
  },
  {
   "cell_type": "code",
   "execution_count": 11,
   "metadata": {},
   "outputs": [
    {
     "data": {
      "text/html": [
       "<div>\n",
       "<style scoped>\n",
       "    .dataframe tbody tr th:only-of-type {\n",
       "        vertical-align: middle;\n",
       "    }\n",
       "\n",
       "    .dataframe tbody tr th {\n",
       "        vertical-align: top;\n",
       "    }\n",
       "\n",
       "    .dataframe thead th {\n",
       "        text-align: right;\n",
       "    }\n",
       "</style>\n",
       "<table border=\"1\" class=\"dataframe\">\n",
       "  <thead>\n",
       "    <tr style=\"text-align: right;\">\n",
       "      <th></th>\n",
       "      <th>0</th>\n",
       "      <th>1</th>\n",
       "      <th>2</th>\n",
       "      <th>3</th>\n",
       "      <th>4</th>\n",
       "      <th>5</th>\n",
       "      <th>6</th>\n",
       "      <th>7</th>\n",
       "      <th>8</th>\n",
       "      <th>9</th>\n",
       "      <th>10</th>\n",
       "    </tr>\n",
       "  </thead>\n",
       "  <tbody>\n",
       "    <tr>\n",
       "      <td>0</td>\n",
       "      <td>0.0</td>\n",
       "      <td>0.0</td>\n",
       "      <td>619.0</td>\n",
       "      <td>0.0</td>\n",
       "      <td>42.0</td>\n",
       "      <td>2.0</td>\n",
       "      <td>0.00</td>\n",
       "      <td>1.0</td>\n",
       "      <td>1.0</td>\n",
       "      <td>1.0</td>\n",
       "      <td>101348.88</td>\n",
       "    </tr>\n",
       "    <tr>\n",
       "      <td>1</td>\n",
       "      <td>0.0</td>\n",
       "      <td>1.0</td>\n",
       "      <td>608.0</td>\n",
       "      <td>0.0</td>\n",
       "      <td>41.0</td>\n",
       "      <td>1.0</td>\n",
       "      <td>83807.86</td>\n",
       "      <td>1.0</td>\n",
       "      <td>0.0</td>\n",
       "      <td>1.0</td>\n",
       "      <td>112542.58</td>\n",
       "    </tr>\n",
       "    <tr>\n",
       "      <td>2</td>\n",
       "      <td>0.0</td>\n",
       "      <td>0.0</td>\n",
       "      <td>502.0</td>\n",
       "      <td>0.0</td>\n",
       "      <td>42.0</td>\n",
       "      <td>8.0</td>\n",
       "      <td>159660.80</td>\n",
       "      <td>3.0</td>\n",
       "      <td>1.0</td>\n",
       "      <td>0.0</td>\n",
       "      <td>113931.57</td>\n",
       "    </tr>\n",
       "    <tr>\n",
       "      <td>3</td>\n",
       "      <td>0.0</td>\n",
       "      <td>0.0</td>\n",
       "      <td>699.0</td>\n",
       "      <td>0.0</td>\n",
       "      <td>39.0</td>\n",
       "      <td>1.0</td>\n",
       "      <td>0.00</td>\n",
       "      <td>2.0</td>\n",
       "      <td>0.0</td>\n",
       "      <td>0.0</td>\n",
       "      <td>93826.63</td>\n",
       "    </tr>\n",
       "    <tr>\n",
       "      <td>4</td>\n",
       "      <td>0.0</td>\n",
       "      <td>1.0</td>\n",
       "      <td>850.0</td>\n",
       "      <td>0.0</td>\n",
       "      <td>43.0</td>\n",
       "      <td>2.0</td>\n",
       "      <td>125510.82</td>\n",
       "      <td>1.0</td>\n",
       "      <td>1.0</td>\n",
       "      <td>1.0</td>\n",
       "      <td>79084.10</td>\n",
       "    </tr>\n",
       "  </tbody>\n",
       "</table>\n",
       "</div>"
      ],
      "text/plain": [
       "     0    1      2    3     4    5          6    7    8    9         10\n",
       "0  0.0  0.0  619.0  0.0  42.0  2.0       0.00  1.0  1.0  1.0  101348.88\n",
       "1  0.0  1.0  608.0  0.0  41.0  1.0   83807.86  1.0  0.0  1.0  112542.58\n",
       "2  0.0  0.0  502.0  0.0  42.0  8.0  159660.80  3.0  1.0  0.0  113931.57\n",
       "3  0.0  0.0  699.0  0.0  39.0  1.0       0.00  2.0  0.0  0.0   93826.63\n",
       "4  0.0  1.0  850.0  0.0  43.0  2.0  125510.82  1.0  1.0  1.0   79084.10"
      ]
     },
     "execution_count": 11,
     "metadata": {},
     "output_type": "execute_result"
    }
   ],
   "source": [
    "pd.DataFrame(X).head()"
   ]
  },
  {
   "cell_type": "code",
   "execution_count": 12,
   "metadata": {},
   "outputs": [],
   "source": [
    "# Splitting the dataset into the Training set and Test set\n",
    "from sklearn.model_selection import train_test_split\n",
    "X_train, X_test, y_train, y_test = train_test_split(X, y, test_size = 0.2, random_state = 0)"
   ]
  },
  {
   "cell_type": "code",
   "execution_count": 13,
   "metadata": {},
   "outputs": [],
   "source": [
    "# Feature Scaling\n",
    "from sklearn.preprocessing import StandardScaler\n",
    "sc = StandardScaler()\n",
    "X_train = sc.fit_transform(X_train)\n",
    "X_test = sc.transform(X_test)"
   ]
  },
  {
   "cell_type": "code",
   "execution_count": 14,
   "metadata": {},
   "outputs": [
    {
     "data": {
      "text/html": [
       "<div>\n",
       "<style scoped>\n",
       "    .dataframe tbody tr th:only-of-type {\n",
       "        vertical-align: middle;\n",
       "    }\n",
       "\n",
       "    .dataframe tbody tr th {\n",
       "        vertical-align: top;\n",
       "    }\n",
       "\n",
       "    .dataframe thead th {\n",
       "        text-align: right;\n",
       "    }\n",
       "</style>\n",
       "<table border=\"1\" class=\"dataframe\">\n",
       "  <thead>\n",
       "    <tr style=\"text-align: right;\">\n",
       "      <th></th>\n",
       "      <th>0</th>\n",
       "      <th>1</th>\n",
       "      <th>2</th>\n",
       "      <th>3</th>\n",
       "      <th>4</th>\n",
       "      <th>5</th>\n",
       "      <th>6</th>\n",
       "      <th>7</th>\n",
       "      <th>8</th>\n",
       "      <th>9</th>\n",
       "      <th>10</th>\n",
       "    </tr>\n",
       "  </thead>\n",
       "  <tbody>\n",
       "    <tr>\n",
       "      <td>0</td>\n",
       "      <td>-0.569844</td>\n",
       "      <td>1.743090</td>\n",
       "      <td>0.169582</td>\n",
       "      <td>-1.091687</td>\n",
       "      <td>-0.464608</td>\n",
       "      <td>0.006661</td>\n",
       "      <td>-1.215717</td>\n",
       "      <td>0.809503</td>\n",
       "      <td>0.642595</td>\n",
       "      <td>-1.032270</td>\n",
       "      <td>1.106432</td>\n",
       "    </tr>\n",
       "    <tr>\n",
       "      <td>1</td>\n",
       "      <td>1.754865</td>\n",
       "      <td>-0.573694</td>\n",
       "      <td>-2.304559</td>\n",
       "      <td>0.916013</td>\n",
       "      <td>0.301026</td>\n",
       "      <td>-1.377440</td>\n",
       "      <td>-0.006312</td>\n",
       "      <td>-0.921591</td>\n",
       "      <td>0.642595</td>\n",
       "      <td>0.968738</td>\n",
       "      <td>-0.748664</td>\n",
       "    </tr>\n",
       "    <tr>\n",
       "      <td>2</td>\n",
       "      <td>-0.569844</td>\n",
       "      <td>-0.573694</td>\n",
       "      <td>-1.191196</td>\n",
       "      <td>-1.091687</td>\n",
       "      <td>-0.943129</td>\n",
       "      <td>-1.031415</td>\n",
       "      <td>0.579935</td>\n",
       "      <td>-0.921591</td>\n",
       "      <td>0.642595</td>\n",
       "      <td>-1.032270</td>\n",
       "      <td>1.485335</td>\n",
       "    </tr>\n",
       "    <tr>\n",
       "      <td>3</td>\n",
       "      <td>-0.569844</td>\n",
       "      <td>1.743090</td>\n",
       "      <td>0.035566</td>\n",
       "      <td>0.916013</td>\n",
       "      <td>0.109617</td>\n",
       "      <td>0.006661</td>\n",
       "      <td>0.473128</td>\n",
       "      <td>-0.921591</td>\n",
       "      <td>0.642595</td>\n",
       "      <td>-1.032270</td>\n",
       "      <td>1.276528</td>\n",
       "    </tr>\n",
       "    <tr>\n",
       "      <td>4</td>\n",
       "      <td>-0.569844</td>\n",
       "      <td>1.743090</td>\n",
       "      <td>2.056114</td>\n",
       "      <td>-1.091687</td>\n",
       "      <td>1.736588</td>\n",
       "      <td>1.044737</td>\n",
       "      <td>0.810193</td>\n",
       "      <td>0.809503</td>\n",
       "      <td>0.642595</td>\n",
       "      <td>0.968738</td>\n",
       "      <td>0.558378</td>\n",
       "    </tr>\n",
       "  </tbody>\n",
       "</table>\n",
       "</div>"
      ],
      "text/plain": [
       "          0         1         2         3         4         5         6  \\\n",
       "0 -0.569844  1.743090  0.169582 -1.091687 -0.464608  0.006661 -1.215717   \n",
       "1  1.754865 -0.573694 -2.304559  0.916013  0.301026 -1.377440 -0.006312   \n",
       "2 -0.569844 -0.573694 -1.191196 -1.091687 -0.943129 -1.031415  0.579935   \n",
       "3 -0.569844  1.743090  0.035566  0.916013  0.109617  0.006661  0.473128   \n",
       "4 -0.569844  1.743090  2.056114 -1.091687  1.736588  1.044737  0.810193   \n",
       "\n",
       "          7         8         9        10  \n",
       "0  0.809503  0.642595 -1.032270  1.106432  \n",
       "1 -0.921591  0.642595  0.968738 -0.748664  \n",
       "2 -0.921591  0.642595 -1.032270  1.485335  \n",
       "3 -0.921591  0.642595 -1.032270  1.276528  \n",
       "4  0.809503  0.642595  0.968738  0.558378  "
      ]
     },
     "execution_count": 14,
     "metadata": {},
     "output_type": "execute_result"
    }
   ],
   "source": [
    "pd.DataFrame(X_train).head()"
   ]
  },
  {
   "cell_type": "code",
   "execution_count": 15,
   "metadata": {},
   "outputs": [],
   "source": [
    "#!pip install tensorflow==2.0.0b1 --ignore-installed --user\n",
    "#!pip install tensorflow --user"
   ]
  },
  {
   "cell_type": "code",
   "execution_count": 16,
   "metadata": {},
   "outputs": [
    {
     "name": "stderr",
     "output_type": "stream",
     "text": [
      "Using TensorFlow backend.\n",
      "C:\\Users\\vishk\\AppData\\Roaming\\Python\\Python37\\site-packages\\tensorflow\\python\\framework\\dtypes.py:516: FutureWarning: Passing (type, 1) or '1type' as a synonym of type is deprecated; in a future version of numpy, it will be understood as (type, (1,)) / '(1,)type'.\n",
      "  _np_qint8 = np.dtype([(\"qint8\", np.int8, 1)])\n",
      "C:\\Users\\vishk\\AppData\\Roaming\\Python\\Python37\\site-packages\\tensorflow\\python\\framework\\dtypes.py:517: FutureWarning: Passing (type, 1) or '1type' as a synonym of type is deprecated; in a future version of numpy, it will be understood as (type, (1,)) / '(1,)type'.\n",
      "  _np_quint8 = np.dtype([(\"quint8\", np.uint8, 1)])\n",
      "C:\\Users\\vishk\\AppData\\Roaming\\Python\\Python37\\site-packages\\tensorflow\\python\\framework\\dtypes.py:518: FutureWarning: Passing (type, 1) or '1type' as a synonym of type is deprecated; in a future version of numpy, it will be understood as (type, (1,)) / '(1,)type'.\n",
      "  _np_qint16 = np.dtype([(\"qint16\", np.int16, 1)])\n",
      "C:\\Users\\vishk\\AppData\\Roaming\\Python\\Python37\\site-packages\\tensorflow\\python\\framework\\dtypes.py:519: FutureWarning: Passing (type, 1) or '1type' as a synonym of type is deprecated; in a future version of numpy, it will be understood as (type, (1,)) / '(1,)type'.\n",
      "  _np_quint16 = np.dtype([(\"quint16\", np.uint16, 1)])\n",
      "C:\\Users\\vishk\\AppData\\Roaming\\Python\\Python37\\site-packages\\tensorflow\\python\\framework\\dtypes.py:520: FutureWarning: Passing (type, 1) or '1type' as a synonym of type is deprecated; in a future version of numpy, it will be understood as (type, (1,)) / '(1,)type'.\n",
      "  _np_qint32 = np.dtype([(\"qint32\", np.int32, 1)])\n",
      "C:\\Users\\vishk\\AppData\\Roaming\\Python\\Python37\\site-packages\\tensorflow\\python\\framework\\dtypes.py:525: FutureWarning: Passing (type, 1) or '1type' as a synonym of type is deprecated; in a future version of numpy, it will be understood as (type, (1,)) / '(1,)type'.\n",
      "  np_resource = np.dtype([(\"resource\", np.ubyte, 1)])\n",
      "C:\\Users\\vishk\\AppData\\Roaming\\Python\\Python37\\site-packages\\tensorboard\\compat\\tensorflow_stub\\dtypes.py:541: FutureWarning: Passing (type, 1) or '1type' as a synonym of type is deprecated; in a future version of numpy, it will be understood as (type, (1,)) / '(1,)type'.\n",
      "  _np_qint8 = np.dtype([(\"qint8\", np.int8, 1)])\n",
      "C:\\Users\\vishk\\AppData\\Roaming\\Python\\Python37\\site-packages\\tensorboard\\compat\\tensorflow_stub\\dtypes.py:542: FutureWarning: Passing (type, 1) or '1type' as a synonym of type is deprecated; in a future version of numpy, it will be understood as (type, (1,)) / '(1,)type'.\n",
      "  _np_quint8 = np.dtype([(\"quint8\", np.uint8, 1)])\n",
      "C:\\Users\\vishk\\AppData\\Roaming\\Python\\Python37\\site-packages\\tensorboard\\compat\\tensorflow_stub\\dtypes.py:543: FutureWarning: Passing (type, 1) or '1type' as a synonym of type is deprecated; in a future version of numpy, it will be understood as (type, (1,)) / '(1,)type'.\n",
      "  _np_qint16 = np.dtype([(\"qint16\", np.int16, 1)])\n",
      "C:\\Users\\vishk\\AppData\\Roaming\\Python\\Python37\\site-packages\\tensorboard\\compat\\tensorflow_stub\\dtypes.py:544: FutureWarning: Passing (type, 1) or '1type' as a synonym of type is deprecated; in a future version of numpy, it will be understood as (type, (1,)) / '(1,)type'.\n",
      "  _np_quint16 = np.dtype([(\"quint16\", np.uint16, 1)])\n",
      "C:\\Users\\vishk\\AppData\\Roaming\\Python\\Python37\\site-packages\\tensorboard\\compat\\tensorflow_stub\\dtypes.py:545: FutureWarning: Passing (type, 1) or '1type' as a synonym of type is deprecated; in a future version of numpy, it will be understood as (type, (1,)) / '(1,)type'.\n",
      "  _np_qint32 = np.dtype([(\"qint32\", np.int32, 1)])\n",
      "C:\\Users\\vishk\\AppData\\Roaming\\Python\\Python37\\site-packages\\tensorboard\\compat\\tensorflow_stub\\dtypes.py:550: FutureWarning: Passing (type, 1) or '1type' as a synonym of type is deprecated; in a future version of numpy, it will be understood as (type, (1,)) / '(1,)type'.\n",
      "  np_resource = np.dtype([(\"resource\", np.ubyte, 1)])\n"
     ]
    }
   ],
   "source": [
    "# Part 2 - Now let's make the ANN!\n",
    "\n",
    "# Importing the Keras libraries and packages\n",
    "import keras\n",
    "import tensorflow\n",
    "from keras.models import Sequential\n",
    "from keras.layers import Dense"
   ]
  },
  {
   "cell_type": "code",
   "execution_count": 17,
   "metadata": {},
   "outputs": [],
   "source": [
    "# Initialising the ANN\n",
    "classifier = Sequential()\n",
    "\n",
    "# Adding the input layer and the first hidden layer\n",
    "classifier.add(Dense(units = 6, kernel_initializer = 'uniform', activation = 'relu', input_dim = 11))"
   ]
  },
  {
   "cell_type": "code",
   "execution_count": 18,
   "metadata": {},
   "outputs": [],
   "source": [
    "# Adding the second hidden layer\n",
    "classifier.add(Dense(units = 6, kernel_initializer = 'uniform', activation = 'relu'))"
   ]
  },
  {
   "cell_type": "code",
   "execution_count": 19,
   "metadata": {},
   "outputs": [],
   "source": [
    "# Adding the output layer\n",
    "classifier.add(Dense(units = 1, kernel_initializer = 'uniform', activation = 'sigmoid'))\n",
    "#soft max function for more than 2 output variables"
   ]
  },
  {
   "cell_type": "code",
   "execution_count": 20,
   "metadata": {},
   "outputs": [
    {
     "name": "stderr",
     "output_type": "stream",
     "text": [
      "WARNING: Logging before flag parsing goes to stderr.\n",
      "W1217 07:13:25.043720 23596 deprecation.py:323] From C:\\Users\\vishk\\AppData\\Roaming\\Python\\Python37\\site-packages\\tensorflow\\python\\ops\\nn_impl.py:180: add_dispatch_support.<locals>.wrapper (from tensorflow.python.ops.array_ops) is deprecated and will be removed in a future version.\n",
      "Instructions for updating:\n",
      "Use tf.where in 2.0, which has the same broadcast rule as np.where\n"
     ]
    }
   ],
   "source": [
    "# Compiling the ANN means applying SGD on NN\n",
    "# optimizer: Algorithm(SGD) one of the type is adam, to be applied for finding best weights\n",
    "# logarthmic loss function is binary_crossentropy else categorical_crossentropy(>2)\n",
    "classifier.compile(optimizer = 'adam', loss = 'binary_crossentropy', metrics = ['accuracy'])"
   ]
  },
  {
   "cell_type": "code",
   "execution_count": 21,
   "metadata": {},
   "outputs": [
    {
     "name": "stderr",
     "output_type": "stream",
     "text": [
      "W1217 07:13:26.289287 23596 deprecation_wrapper.py:119] From C:\\Users\\vishk\\AppData\\Local\\Continuum\\anaconda3\\lib\\site-packages\\keras\\backend\\tensorflow_backend.py:422: The name tf.global_variables is deprecated. Please use tf.compat.v1.global_variables instead.\n",
      "\n"
     ]
    },
    {
     "name": "stdout",
     "output_type": "stream",
     "text": [
      "Epoch 1/100\n",
      "8000/8000 [==============================] - 2s 301us/step - loss: 0.4864 - accuracy: 0.7961\n",
      "Epoch 2/100\n",
      "8000/8000 [==============================] - 2s 230us/step - loss: 0.4280 - accuracy: 0.7960\n",
      "Epoch 3/100\n",
      "8000/8000 [==============================] - 2s 242us/step - loss: 0.4226 - accuracy: 0.7960\n",
      "Epoch 4/100\n",
      "8000/8000 [==============================] - 2s 232us/step - loss: 0.4187 - accuracy: 0.8183\n",
      "Epoch 5/100\n",
      "8000/8000 [==============================] - 2s 242us/step - loss: 0.4167 - accuracy: 0.8265\n",
      "Epoch 6/100\n",
      "8000/8000 [==============================] - 2s 235us/step - loss: 0.4148 - accuracy: 0.8285\n",
      "Epoch 7/100\n",
      "8000/8000 [==============================] - 2s 231us/step - loss: 0.4131 - accuracy: 0.8304\n",
      "Epoch 8/100\n",
      "8000/8000 [==============================] - 2s 220us/step - loss: 0.4122 - accuracy: 0.8316\n",
      "Epoch 9/100\n",
      "8000/8000 [==============================] - 2s 251us/step - loss: 0.4110 - accuracy: 0.8319\n",
      "Epoch 10/100\n",
      "8000/8000 [==============================] - 2s 278us/step - loss: 0.4099 - accuracy: 0.8330\n",
      "Epoch 11/100\n",
      "8000/8000 [==============================] - 2s 275us/step - loss: 0.4089 - accuracy: 0.8341\n",
      "Epoch 12/100\n",
      "8000/8000 [==============================] - 2s 254us/step - loss: 0.4079 - accuracy: 0.8339\n",
      "Epoch 13/100\n",
      "8000/8000 [==============================] - 2s 263us/step - loss: 0.4073 - accuracy: 0.8341\n",
      "Epoch 14/100\n",
      "8000/8000 [==============================] - 2s 264us/step - loss: 0.4068 - accuracy: 0.8339\n",
      "Epoch 15/100\n",
      "8000/8000 [==============================] - 2s 249us/step - loss: 0.4061 - accuracy: 0.8349\n",
      "Epoch 16/100\n",
      "8000/8000 [==============================] - 2s 239us/step - loss: 0.4055 - accuracy: 0.8351\n",
      "Epoch 17/100\n",
      "8000/8000 [==============================] - 2s 249us/step - loss: 0.4043 - accuracy: 0.8344\n",
      "Epoch 18/100\n",
      "8000/8000 [==============================] - 2s 247us/step - loss: 0.4047 - accuracy: 0.8356\n",
      "Epoch 19/100\n",
      "8000/8000 [==============================] - 2s 264us/step - loss: 0.4039 - accuracy: 0.8351\n",
      "Epoch 20/100\n",
      "8000/8000 [==============================] - 2s 275us/step - loss: 0.4039 - accuracy: 0.8356\n",
      "Epoch 21/100\n",
      "8000/8000 [==============================] - 2s 271us/step - loss: 0.4037 - accuracy: 0.8353\n",
      "Epoch 22/100\n",
      "8000/8000 [==============================] - 2s 235us/step - loss: 0.4033 - accuracy: 0.8355\n",
      "Epoch 23/100\n",
      "8000/8000 [==============================] - 2s 245us/step - loss: 0.4032 - accuracy: 0.8355\n",
      "Epoch 24/100\n",
      "8000/8000 [==============================] - 2s 240us/step - loss: 0.4032 - accuracy: 0.8335\n",
      "Epoch 25/100\n",
      "8000/8000 [==============================] - 2s 241us/step - loss: 0.4026 - accuracy: 0.8342\n",
      "Epoch 26/100\n",
      "8000/8000 [==============================] - 2s 253us/step - loss: 0.4021 - accuracy: 0.8341\n",
      "Epoch 27/100\n",
      "8000/8000 [==============================] - 2s 263us/step - loss: 0.4029 - accuracy: 0.8365\n",
      "Epoch 28/100\n",
      "8000/8000 [==============================] - 2s 222us/step - loss: 0.4025 - accuracy: 0.8351\n",
      "Epoch 29/100\n",
      "8000/8000 [==============================] - 2s 242us/step - loss: 0.4022 - accuracy: 0.8357\n",
      "Epoch 30/100\n",
      "8000/8000 [==============================] - 2s 248us/step - loss: 0.4018 - accuracy: 0.8344\n",
      "Epoch 31/100\n",
      "8000/8000 [==============================] - 2s 233us/step - loss: 0.4015 - accuracy: 0.8351\n",
      "Epoch 32/100\n",
      "8000/8000 [==============================] - 2s 226us/step - loss: 0.4021 - accuracy: 0.8353\n",
      "Epoch 33/100\n",
      "8000/8000 [==============================] - 2s 230us/step - loss: 0.4019 - accuracy: 0.8363\n",
      "Epoch 34/100\n",
      "8000/8000 [==============================] - 2s 227us/step - loss: 0.4017 - accuracy: 0.8353\n",
      "Epoch 35/100\n",
      "8000/8000 [==============================] - 2s 222us/step - loss: 0.4016 - accuracy: 0.8345\n",
      "Epoch 36/100\n",
      "8000/8000 [==============================] - 2s 226us/step - loss: 0.4016 - accuracy: 0.8342\n",
      "Epoch 37/100\n",
      "8000/8000 [==============================] - 2s 223us/step - loss: 0.4007 - accuracy: 0.8351\n",
      "Epoch 38/100\n",
      "8000/8000 [==============================] - 2s 218us/step - loss: 0.4011 - accuracy: 0.8335\n",
      "Epoch 39/100\n",
      "8000/8000 [==============================] - 2s 226us/step - loss: 0.4014 - accuracy: 0.8364\n",
      "Epoch 40/100\n",
      "8000/8000 [==============================] - 2s 222us/step - loss: 0.4012 - accuracy: 0.8342\n",
      "Epoch 41/100\n",
      "8000/8000 [==============================] - 2s 211us/step - loss: 0.4011 - accuracy: 0.8347\n",
      "Epoch 42/100\n",
      "8000/8000 [==============================] - 2s 237us/step - loss: 0.4009 - accuracy: 0.8345\n",
      "Epoch 43/100\n",
      "8000/8000 [==============================] - 2s 247us/step - loss: 0.4006 - accuracy: 0.8370\n",
      "Epoch 44/100\n",
      "8000/8000 [==============================] - 2s 238us/step - loss: 0.4006 - accuracy: 0.8351\n",
      "Epoch 45/100\n",
      "8000/8000 [==============================] - 2s 243us/step - loss: 0.4007 - accuracy: 0.8369\n",
      "Epoch 46/100\n",
      "8000/8000 [==============================] - 2s 239us/step - loss: 0.4003 - accuracy: 0.8366\n",
      "Epoch 47/100\n",
      "8000/8000 [==============================] - 2s 245us/step - loss: 0.4004 - accuracy: 0.8350\n",
      "Epoch 48/100\n",
      "8000/8000 [==============================] - 2s 243us/step - loss: 0.4008 - accuracy: 0.8349\n",
      "Epoch 49/100\n",
      "8000/8000 [==============================] - 2s 246us/step - loss: 0.4006 - accuracy: 0.8354\n",
      "Epoch 50/100\n",
      "8000/8000 [==============================] - 2s 245us/step - loss: 0.4004 - accuracy: 0.8366\n",
      "Epoch 51/100\n",
      "8000/8000 [==============================] - 2s 243us/step - loss: 0.4007 - accuracy: 0.8345\n",
      "Epoch 52/100\n",
      "8000/8000 [==============================] - 2s 241us/step - loss: 0.4006 - accuracy: 0.8351\n",
      "Epoch 53/100\n",
      "8000/8000 [==============================] - 2s 242us/step - loss: 0.4007 - accuracy: 0.8370\n",
      "Epoch 54/100\n",
      "8000/8000 [==============================] - 2s 249us/step - loss: 0.4003 - accuracy: 0.8347\n",
      "Epoch 55/100\n",
      "8000/8000 [==============================] - 2s 223us/step - loss: 0.4003 - accuracy: 0.8354\n",
      "Epoch 56/100\n",
      "8000/8000 [==============================] - 2s 219us/step - loss: 0.4004 - accuracy: 0.8365\n",
      "Epoch 57/100\n",
      "8000/8000 [==============================] - 2s 232us/step - loss: 0.4004 - accuracy: 0.8349\n",
      "Epoch 58/100\n",
      "8000/8000 [==============================] - 2s 228us/step - loss: 0.4002 - accuracy: 0.8354\n",
      "Epoch 59/100\n",
      "8000/8000 [==============================] - 2s 213us/step - loss: 0.4004 - accuracy: 0.8342\n",
      "Epoch 60/100\n",
      "8000/8000 [==============================] - 2s 214us/step - loss: 0.3997 - accuracy: 0.8339\n",
      "Epoch 61/100\n",
      "8000/8000 [==============================] - 2s 250us/step - loss: 0.4001 - accuracy: 0.8345\n",
      "Epoch 62/100\n",
      "8000/8000 [==============================] - 2s 222us/step - loss: 0.4000 - accuracy: 0.8353\n",
      "Epoch 63/100\n",
      "8000/8000 [==============================] - 2s 217us/step - loss: 0.4000 - accuracy: 0.8351\n",
      "Epoch 64/100\n",
      "8000/8000 [==============================] - 2s 216us/step - loss: 0.4005 - accuracy: 0.8353\n",
      "Epoch 65/100\n",
      "8000/8000 [==============================] - 2s 215us/step - loss: 0.4003 - accuracy: 0.8351\n",
      "Epoch 66/100\n",
      "8000/8000 [==============================] - 2s 217us/step - loss: 0.4002 - accuracy: 0.8355\n",
      "Epoch 67/100\n",
      "8000/8000 [==============================] - 2s 215us/step - loss: 0.4002 - accuracy: 0.8355\n",
      "Epoch 68/100\n",
      "8000/8000 [==============================] - 2s 215us/step - loss: 0.4001 - accuracy: 0.8366\n",
      "Epoch 69/100\n",
      "8000/8000 [==============================] - 2s 213us/step - loss: 0.4003 - accuracy: 0.8351\n",
      "Epoch 70/100\n",
      "8000/8000 [==============================] - 2s 220us/step - loss: 0.3998 - accuracy: 0.8363\n",
      "Epoch 71/100\n",
      "8000/8000 [==============================] - 2s 215us/step - loss: 0.4003 - accuracy: 0.8353\n",
      "Epoch 72/100\n",
      "8000/8000 [==============================] - 2s 218us/step - loss: 0.4002 - accuracy: 0.8344\n",
      "Epoch 73/100\n",
      "8000/8000 [==============================] - 2s 222us/step - loss: 0.4005 - accuracy: 0.8350\n",
      "Epoch 74/100\n",
      "8000/8000 [==============================] - 2s 233us/step - loss: 0.4001 - accuracy: 0.8339\n",
      "Epoch 75/100\n",
      "8000/8000 [==============================] - 2s 248us/step - loss: 0.4002 - accuracy: 0.8361\n",
      "Epoch 76/100\n",
      "8000/8000 [==============================] - 2s 217us/step - loss: 0.3999 - accuracy: 0.8359\n",
      "Epoch 77/100\n",
      "8000/8000 [==============================] - 2s 215us/step - loss: 0.4000 - accuracy: 0.8354\n",
      "Epoch 78/100\n",
      "8000/8000 [==============================] - 2s 225us/step - loss: 0.3994 - accuracy: 0.8365\n",
      "Epoch 79/100\n",
      "8000/8000 [==============================] - 2s 228us/step - loss: 0.3997 - accuracy: 0.8332\n",
      "Epoch 80/100\n",
      "8000/8000 [==============================] - ETA: 0s - loss: 0.4005 - accuracy: 0.83 - 2s 236us/step - loss: 0.3999 - accuracy: 0.8369\n",
      "Epoch 81/100\n",
      "8000/8000 [==============================] - 2s 250us/step - loss: 0.3997 - accuracy: 0.8347\n",
      "Epoch 82/100\n",
      "8000/8000 [==============================] - 2s 240us/step - loss: 0.3999 - accuracy: 0.8365\n",
      "Epoch 83/100\n",
      "8000/8000 [==============================] - 2s 244us/step - loss: 0.3996 - accuracy: 0.8356\n",
      "Epoch 84/100\n",
      "8000/8000 [==============================] - 2s 241us/step - loss: 0.4002 - accuracy: 0.8357\n",
      "Epoch 85/100\n",
      "8000/8000 [==============================] - 2s 239us/step - loss: 0.3996 - accuracy: 0.8338\n",
      "Epoch 86/100\n",
      "8000/8000 [==============================] - 2s 238us/step - loss: 0.4003 - accuracy: 0.8361\n",
      "Epoch 87/100\n",
      "8000/8000 [==============================] - 2s 233us/step - loss: 0.4001 - accuracy: 0.8357\n",
      "Epoch 88/100\n",
      "8000/8000 [==============================] - 2s 230us/step - loss: 0.3995 - accuracy: 0.8353\n",
      "Epoch 89/100\n",
      "8000/8000 [==============================] - 2s 237us/step - loss: 0.3996 - accuracy: 0.8361\n",
      "Epoch 90/100\n",
      "8000/8000 [==============================] - 2s 228us/step - loss: 0.3998 - accuracy: 0.8364\n",
      "Epoch 91/100\n",
      "8000/8000 [==============================] - 2s 225us/step - loss: 0.4000 - accuracy: 0.8353\n",
      "Epoch 92/100\n",
      "8000/8000 [==============================] - 2s 220us/step - loss: 0.4002 - accuracy: 0.8357\n",
      "Epoch 93/100\n",
      "8000/8000 [==============================] - 2s 219us/step - loss: 0.3994 - accuracy: 0.8363\n",
      "Epoch 94/100\n",
      "8000/8000 [==============================] - 2s 225us/step - loss: 0.3999 - accuracy: 0.8355\n",
      "Epoch 95/100\n",
      "8000/8000 [==============================] - 2s 219us/step - loss: 0.3998 - accuracy: 0.8351\n",
      "Epoch 96/100\n",
      "8000/8000 [==============================] - 2s 222us/step - loss: 0.4001 - accuracy: 0.8351\n",
      "Epoch 97/100\n",
      "8000/8000 [==============================] - 2s 233us/step - loss: 0.3997 - accuracy: 0.8359\n",
      "Epoch 98/100\n",
      "8000/8000 [==============================] - 2s 240us/step - loss: 0.3994 - accuracy: 0.8357\n",
      "Epoch 99/100\n",
      "8000/8000 [==============================] - 2s 233us/step - loss: 0.3999 - accuracy: 0.8361\n",
      "Epoch 100/100\n",
      "8000/8000 [==============================] - 2s 234us/step - loss: 0.3997 - accuracy: 0.8367\n"
     ]
    },
    {
     "data": {
      "text/plain": [
       "<keras.callbacks.callbacks.History at 0x1865028f908>"
      ]
     },
     "execution_count": 21,
     "metadata": {},
     "output_type": "execute_result"
    }
   ],
   "source": [
    "# Fitting the ANN to the Training set\n",
    "#batch size: Number of samples per gradient update\n",
    "#Number of epochs to train the model. An epoch is an iteration over the entire x and y data provided\n",
    "classifier.fit(X_train, y_train, batch_size = 10, epochs = 100)"
   ]
  },
  {
   "cell_type": "code",
   "execution_count": 22,
   "metadata": {},
   "outputs": [],
   "source": [
    "# Part 3 - Making predictions and evaluating the model\n",
    "\n",
    "# Predicting the Test set results\n",
    "y_pred = classifier.predict(X_test)\n",
    "y_pred = (y_pred > 0.5)"
   ]
  },
  {
   "cell_type": "code",
   "execution_count": 23,
   "metadata": {},
   "outputs": [],
   "source": [
    "# Making the Confusion Matrix\n",
    "from sklearn.metrics import confusion_matrix\n",
    "cm = confusion_matrix(y_test, y_pred)"
   ]
  },
  {
   "cell_type": "code",
   "execution_count": 24,
   "metadata": {},
   "outputs": [
    {
     "data": {
      "text/plain": [
       "array([[1537,   58],\n",
       "       [ 260,  145]], dtype=int64)"
      ]
     },
     "execution_count": 24,
     "metadata": {},
     "output_type": "execute_result"
    }
   ],
   "source": [
    "cm"
   ]
  },
  {
   "cell_type": "code",
   "execution_count": 25,
   "metadata": {},
   "outputs": [],
   "source": [
    "from sklearn.metrics import accuracy_score\n",
    "from sklearn.metrics import make_scorer\n",
    "scoring = {'accuracy': make_scorer(accuracy_score),\n",
    "            'prec': 'precision'}"
   ]
  },
  {
   "cell_type": "code",
   "execution_count": 26,
   "metadata": {},
   "outputs": [
    {
     "name": "stdout",
     "output_type": "stream",
     "text": [
      "Train Accuracy 84.10%\n"
     ]
    }
   ],
   "source": [
    "print(\"Train Accuracy {:.2%}\".format(accuracy_score(y_test,y_pred)))"
   ]
  }
 ],
 "metadata": {
  "kernelspec": {
   "display_name": "Python 3",
   "language": "python",
   "name": "python3"
  },
  "language_info": {
   "codemirror_mode": {
    "name": "ipython",
    "version": 3
   },
   "file_extension": ".py",
   "mimetype": "text/x-python",
   "name": "python",
   "nbconvert_exporter": "python",
   "pygments_lexer": "ipython3",
   "version": "3.7.4"
  }
 },
 "nbformat": 4,
 "nbformat_minor": 2
}
