{
 "cells": [
  {
   "cell_type": "markdown",
   "metadata": {},
   "source": [
    "# Linear Regression "
   ]
  },
  {
   "cell_type": "code",
   "execution_count": 1,
   "metadata": {},
   "outputs": [],
   "source": [
    "import pandas as pd \n",
    "import numpy as np"
   ]
  },
  {
   "cell_type": "code",
   "execution_count": 2,
   "metadata": {},
   "outputs": [],
   "source": [
    "train_file='/home/dell/GIT_REPO/Python_AI_ML/intro-to-ml-with-python-master/week4/data//loan_data_train.csv'\n",
    "test_file='/home/dell/GIT_REPO/Python_AI_ML/intro-to-ml-with-python-master/week4/data/loan_data_test.csv'\n",
    "\n",
    "ld_train=pd.read_csv(train_file)\n",
    "ld_test=pd.read_csv(test_file)               "
   ]
  },
  {
   "cell_type": "code",
   "execution_count": 3,
   "metadata": {},
   "outputs": [
    {
     "data": {
      "text/html": [
       "<div>\n",
       "<style scoped>\n",
       "    .dataframe tbody tr th:only-of-type {\n",
       "        vertical-align: middle;\n",
       "    }\n",
       "\n",
       "    .dataframe tbody tr th {\n",
       "        vertical-align: top;\n",
       "    }\n",
       "\n",
       "    .dataframe thead th {\n",
       "        text-align: right;\n",
       "    }\n",
       "</style>\n",
       "<table border=\"1\" class=\"dataframe\">\n",
       "  <thead>\n",
       "    <tr style=\"text-align: right;\">\n",
       "      <th></th>\n",
       "      <th>ID</th>\n",
       "      <th>Amount.Requested</th>\n",
       "      <th>Amount.Funded.By.Investors</th>\n",
       "      <th>Loan.Length</th>\n",
       "      <th>Loan.Purpose</th>\n",
       "      <th>Debt.To.Income.Ratio</th>\n",
       "      <th>State</th>\n",
       "      <th>Home.Ownership</th>\n",
       "      <th>Monthly.Income</th>\n",
       "      <th>FICO.Range</th>\n",
       "      <th>Open.CREDIT.Lines</th>\n",
       "      <th>Revolving.CREDIT.Balance</th>\n",
       "      <th>Inquiries.in.the.Last.6.Months</th>\n",
       "      <th>Employment.Length</th>\n",
       "    </tr>\n",
       "  </thead>\n",
       "  <tbody>\n",
       "    <tr>\n",
       "      <th>0</th>\n",
       "      <td>20093</td>\n",
       "      <td>5000</td>\n",
       "      <td>5000</td>\n",
       "      <td>60 months</td>\n",
       "      <td>moving</td>\n",
       "      <td>12.59%</td>\n",
       "      <td>NY</td>\n",
       "      <td>RENT</td>\n",
       "      <td>4416.67</td>\n",
       "      <td>690-694</td>\n",
       "      <td>13</td>\n",
       "      <td>7686</td>\n",
       "      <td>0</td>\n",
       "      <td>&lt; 1 year</td>\n",
       "    </tr>\n",
       "    <tr>\n",
       "      <th>1</th>\n",
       "      <td>62445</td>\n",
       "      <td>18000</td>\n",
       "      <td>18000</td>\n",
       "      <td>60 months</td>\n",
       "      <td>debt_consolidation</td>\n",
       "      <td>4.93%</td>\n",
       "      <td>CA</td>\n",
       "      <td>RENT</td>\n",
       "      <td>5258.50</td>\n",
       "      <td>710-714</td>\n",
       "      <td>6</td>\n",
       "      <td>11596</td>\n",
       "      <td>0</td>\n",
       "      <td>10+ years</td>\n",
       "    </tr>\n",
       "    <tr>\n",
       "      <th>2</th>\n",
       "      <td>65248</td>\n",
       "      <td>7200</td>\n",
       "      <td>7200</td>\n",
       "      <td>60 months</td>\n",
       "      <td>debt_consolidation</td>\n",
       "      <td>25.16%</td>\n",
       "      <td>LA</td>\n",
       "      <td>MORTGAGE</td>\n",
       "      <td>3750.00</td>\n",
       "      <td>750-754</td>\n",
       "      <td>13</td>\n",
       "      <td>7283</td>\n",
       "      <td>0</td>\n",
       "      <td>6 years</td>\n",
       "    </tr>\n",
       "    <tr>\n",
       "      <th>3</th>\n",
       "      <td>81822</td>\n",
       "      <td>7200</td>\n",
       "      <td>7200</td>\n",
       "      <td>36 months</td>\n",
       "      <td>debt_consolidation</td>\n",
       "      <td>17.27%</td>\n",
       "      <td>NY</td>\n",
       "      <td>MORTGAGE</td>\n",
       "      <td>3416.67</td>\n",
       "      <td>790-794</td>\n",
       "      <td>14</td>\n",
       "      <td>4838</td>\n",
       "      <td>0</td>\n",
       "      <td>10+ years</td>\n",
       "    </tr>\n",
       "    <tr>\n",
       "      <th>4</th>\n",
       "      <td>57923</td>\n",
       "      <td>22000</td>\n",
       "      <td>22000</td>\n",
       "      <td>60 months</td>\n",
       "      <td>debt_consolidation</td>\n",
       "      <td>18.28%</td>\n",
       "      <td>MI</td>\n",
       "      <td>MORTGAGE</td>\n",
       "      <td>6083.33</td>\n",
       "      <td>720-724</td>\n",
       "      <td>9</td>\n",
       "      <td>20181</td>\n",
       "      <td>0</td>\n",
       "      <td>8 years</td>\n",
       "    </tr>\n",
       "  </tbody>\n",
       "</table>\n",
       "</div>"
      ],
      "text/plain": [
       "      ID  Amount.Requested Amount.Funded.By.Investors Loan.Length  \\\n",
       "0  20093              5000                       5000   60 months   \n",
       "1  62445             18000                      18000   60 months   \n",
       "2  65248              7200                       7200   60 months   \n",
       "3  81822              7200                       7200   36 months   \n",
       "4  57923             22000                      22000   60 months   \n",
       "\n",
       "         Loan.Purpose Debt.To.Income.Ratio State Home.Ownership  \\\n",
       "0              moving               12.59%    NY           RENT   \n",
       "1  debt_consolidation                4.93%    CA           RENT   \n",
       "2  debt_consolidation               25.16%    LA       MORTGAGE   \n",
       "3  debt_consolidation               17.27%    NY       MORTGAGE   \n",
       "4  debt_consolidation               18.28%    MI       MORTGAGE   \n",
       "\n",
       "   Monthly.Income FICO.Range Open.CREDIT.Lines  Revolving.CREDIT.Balance  \\\n",
       "0         4416.67    690-694                13                      7686   \n",
       "1         5258.50    710-714                 6                     11596   \n",
       "2         3750.00    750-754                13                      7283   \n",
       "3         3416.67    790-794                14                      4838   \n",
       "4         6083.33    720-724                 9                     20181   \n",
       "\n",
       "   Inquiries.in.the.Last.6.Months Employment.Length  \n",
       "0                               0          < 1 year  \n",
       "1                               0         10+ years  \n",
       "2                               0           6 years  \n",
       "3                               0         10+ years  \n",
       "4                               0           8 years  "
      ]
     },
     "execution_count": 3,
     "metadata": {},
     "output_type": "execute_result"
    }
   ],
   "source": [
    "ld_test.head()"
   ]
  },
  {
   "cell_type": "code",
   "execution_count": 4,
   "metadata": {},
   "outputs": [
    {
     "data": {
      "text/html": [
       "<div>\n",
       "<style scoped>\n",
       "    .dataframe tbody tr th:only-of-type {\n",
       "        vertical-align: middle;\n",
       "    }\n",
       "\n",
       "    .dataframe tbody tr th {\n",
       "        vertical-align: top;\n",
       "    }\n",
       "\n",
       "    .dataframe thead th {\n",
       "        text-align: right;\n",
       "    }\n",
       "</style>\n",
       "<table border=\"1\" class=\"dataframe\">\n",
       "  <thead>\n",
       "    <tr style=\"text-align: right;\">\n",
       "      <th></th>\n",
       "      <th>ID</th>\n",
       "      <th>Amount.Requested</th>\n",
       "      <th>Amount.Funded.By.Investors</th>\n",
       "      <th>Interest.Rate</th>\n",
       "      <th>Loan.Length</th>\n",
       "      <th>Loan.Purpose</th>\n",
       "      <th>Debt.To.Income.Ratio</th>\n",
       "      <th>State</th>\n",
       "      <th>Home.Ownership</th>\n",
       "      <th>Monthly.Income</th>\n",
       "      <th>FICO.Range</th>\n",
       "      <th>Open.CREDIT.Lines</th>\n",
       "      <th>Revolving.CREDIT.Balance</th>\n",
       "      <th>Inquiries.in.the.Last.6.Months</th>\n",
       "      <th>Employment.Length</th>\n",
       "    </tr>\n",
       "  </thead>\n",
       "  <tbody>\n",
       "    <tr>\n",
       "      <th>0</th>\n",
       "      <td>79542.0</td>\n",
       "      <td>25000</td>\n",
       "      <td>25000</td>\n",
       "      <td>18.49%</td>\n",
       "      <td>60 months</td>\n",
       "      <td>debt_consolidation</td>\n",
       "      <td>27.56%</td>\n",
       "      <td>VA</td>\n",
       "      <td>MORTGAGE</td>\n",
       "      <td>8606.56</td>\n",
       "      <td>720-724</td>\n",
       "      <td>11</td>\n",
       "      <td>15210</td>\n",
       "      <td>3.0</td>\n",
       "      <td>5 years</td>\n",
       "    </tr>\n",
       "    <tr>\n",
       "      <th>1</th>\n",
       "      <td>75473.0</td>\n",
       "      <td>19750</td>\n",
       "      <td>19750</td>\n",
       "      <td>17.27%</td>\n",
       "      <td>60 months</td>\n",
       "      <td>debt_consolidation</td>\n",
       "      <td>13.39%</td>\n",
       "      <td>NY</td>\n",
       "      <td>MORTGAGE</td>\n",
       "      <td>6737.50</td>\n",
       "      <td>710-714</td>\n",
       "      <td>14</td>\n",
       "      <td>19070</td>\n",
       "      <td>3.0</td>\n",
       "      <td>4 years</td>\n",
       "    </tr>\n",
       "    <tr>\n",
       "      <th>2</th>\n",
       "      <td>67265.0</td>\n",
       "      <td>2100</td>\n",
       "      <td>2100</td>\n",
       "      <td>14.33%</td>\n",
       "      <td>36 months</td>\n",
       "      <td>major_purchase</td>\n",
       "      <td>3.50%</td>\n",
       "      <td>LA</td>\n",
       "      <td>OWN</td>\n",
       "      <td>1000.00</td>\n",
       "      <td>690-694</td>\n",
       "      <td>13</td>\n",
       "      <td>893</td>\n",
       "      <td>1.0</td>\n",
       "      <td>&lt; 1 year</td>\n",
       "    </tr>\n",
       "    <tr>\n",
       "      <th>3</th>\n",
       "      <td>80167.0</td>\n",
       "      <td>28000</td>\n",
       "      <td>28000</td>\n",
       "      <td>16.29%</td>\n",
       "      <td>36 months</td>\n",
       "      <td>credit_card</td>\n",
       "      <td>19.62%</td>\n",
       "      <td>NV</td>\n",
       "      <td>MORTGAGE</td>\n",
       "      <td>7083.33</td>\n",
       "      <td>710-714</td>\n",
       "      <td>12</td>\n",
       "      <td>38194</td>\n",
       "      <td>1.0</td>\n",
       "      <td>10+ years</td>\n",
       "    </tr>\n",
       "    <tr>\n",
       "      <th>4</th>\n",
       "      <td>17240.0</td>\n",
       "      <td>24250</td>\n",
       "      <td>17431.82</td>\n",
       "      <td>12.23%</td>\n",
       "      <td>60 months</td>\n",
       "      <td>credit_card</td>\n",
       "      <td>23.79%</td>\n",
       "      <td>OH</td>\n",
       "      <td>MORTGAGE</td>\n",
       "      <td>5833.33</td>\n",
       "      <td>730-734</td>\n",
       "      <td>6</td>\n",
       "      <td>31061</td>\n",
       "      <td>2.0</td>\n",
       "      <td>10+ years</td>\n",
       "    </tr>\n",
       "  </tbody>\n",
       "</table>\n",
       "</div>"
      ],
      "text/plain": [
       "        ID Amount.Requested Amount.Funded.By.Investors Interest.Rate  \\\n",
       "0  79542.0            25000                      25000        18.49%   \n",
       "1  75473.0            19750                      19750        17.27%   \n",
       "2  67265.0             2100                       2100        14.33%   \n",
       "3  80167.0            28000                      28000        16.29%   \n",
       "4  17240.0            24250                   17431.82        12.23%   \n",
       "\n",
       "  Loan.Length        Loan.Purpose Debt.To.Income.Ratio State Home.Ownership  \\\n",
       "0   60 months  debt_consolidation               27.56%    VA       MORTGAGE   \n",
       "1   60 months  debt_consolidation               13.39%    NY       MORTGAGE   \n",
       "2   36 months      major_purchase                3.50%    LA            OWN   \n",
       "3   36 months         credit_card               19.62%    NV       MORTGAGE   \n",
       "4   60 months         credit_card               23.79%    OH       MORTGAGE   \n",
       "\n",
       "   Monthly.Income FICO.Range Open.CREDIT.Lines Revolving.CREDIT.Balance  \\\n",
       "0         8606.56    720-724                11                    15210   \n",
       "1         6737.50    710-714                14                    19070   \n",
       "2         1000.00    690-694                13                      893   \n",
       "3         7083.33    710-714                12                    38194   \n",
       "4         5833.33    730-734                 6                    31061   \n",
       "\n",
       "   Inquiries.in.the.Last.6.Months Employment.Length  \n",
       "0                             3.0           5 years  \n",
       "1                             3.0           4 years  \n",
       "2                             1.0          < 1 year  \n",
       "3                             1.0         10+ years  \n",
       "4                             2.0         10+ years  "
      ]
     },
     "execution_count": 4,
     "metadata": {},
     "output_type": "execute_result"
    }
   ],
   "source": [
    "ld_train.head()"
   ]
  },
  {
   "cell_type": "code",
   "execution_count": 5,
   "metadata": {},
   "outputs": [],
   "source": [
    "# lets combine the data for data prep\n",
    "\n",
    "ld_test['Interest.Rate']=np.nan\n",
    "ld_train['data']='train'\n",
    "ld_test['data']='test'\n",
    "ld_test=ld_test[ld_train.columns]\n",
    "ld_all=pd.concat([ld_train,ld_test],axis=0)"
   ]
  },
  {
   "cell_type": "code",
   "execution_count": 6,
   "metadata": {},
   "outputs": [
    {
     "data": {
      "text/html": [
       "<div>\n",
       "<style scoped>\n",
       "    .dataframe tbody tr th:only-of-type {\n",
       "        vertical-align: middle;\n",
       "    }\n",
       "\n",
       "    .dataframe tbody tr th {\n",
       "        vertical-align: top;\n",
       "    }\n",
       "\n",
       "    .dataframe thead th {\n",
       "        text-align: right;\n",
       "    }\n",
       "</style>\n",
       "<table border=\"1\" class=\"dataframe\">\n",
       "  <thead>\n",
       "    <tr style=\"text-align: right;\">\n",
       "      <th></th>\n",
       "      <th>ID</th>\n",
       "      <th>Amount.Requested</th>\n",
       "      <th>Amount.Funded.By.Investors</th>\n",
       "      <th>Interest.Rate</th>\n",
       "      <th>Loan.Length</th>\n",
       "      <th>Loan.Purpose</th>\n",
       "      <th>Debt.To.Income.Ratio</th>\n",
       "      <th>State</th>\n",
       "      <th>Home.Ownership</th>\n",
       "      <th>Monthly.Income</th>\n",
       "      <th>FICO.Range</th>\n",
       "      <th>Open.CREDIT.Lines</th>\n",
       "      <th>Revolving.CREDIT.Balance</th>\n",
       "      <th>Inquiries.in.the.Last.6.Months</th>\n",
       "      <th>Employment.Length</th>\n",
       "      <th>data</th>\n",
       "    </tr>\n",
       "  </thead>\n",
       "  <tbody>\n",
       "    <tr>\n",
       "      <th>0</th>\n",
       "      <td>79542.0</td>\n",
       "      <td>25000</td>\n",
       "      <td>25000</td>\n",
       "      <td>18.49%</td>\n",
       "      <td>60 months</td>\n",
       "      <td>debt_consolidation</td>\n",
       "      <td>27.56%</td>\n",
       "      <td>VA</td>\n",
       "      <td>MORTGAGE</td>\n",
       "      <td>8606.56</td>\n",
       "      <td>720-724</td>\n",
       "      <td>11</td>\n",
       "      <td>15210</td>\n",
       "      <td>3.0</td>\n",
       "      <td>5 years</td>\n",
       "      <td>train</td>\n",
       "    </tr>\n",
       "    <tr>\n",
       "      <th>1</th>\n",
       "      <td>75473.0</td>\n",
       "      <td>19750</td>\n",
       "      <td>19750</td>\n",
       "      <td>17.27%</td>\n",
       "      <td>60 months</td>\n",
       "      <td>debt_consolidation</td>\n",
       "      <td>13.39%</td>\n",
       "      <td>NY</td>\n",
       "      <td>MORTGAGE</td>\n",
       "      <td>6737.50</td>\n",
       "      <td>710-714</td>\n",
       "      <td>14</td>\n",
       "      <td>19070</td>\n",
       "      <td>3.0</td>\n",
       "      <td>4 years</td>\n",
       "      <td>train</td>\n",
       "    </tr>\n",
       "    <tr>\n",
       "      <th>2</th>\n",
       "      <td>67265.0</td>\n",
       "      <td>2100</td>\n",
       "      <td>2100</td>\n",
       "      <td>14.33%</td>\n",
       "      <td>36 months</td>\n",
       "      <td>major_purchase</td>\n",
       "      <td>3.50%</td>\n",
       "      <td>LA</td>\n",
       "      <td>OWN</td>\n",
       "      <td>1000.00</td>\n",
       "      <td>690-694</td>\n",
       "      <td>13</td>\n",
       "      <td>893</td>\n",
       "      <td>1.0</td>\n",
       "      <td>&lt; 1 year</td>\n",
       "      <td>train</td>\n",
       "    </tr>\n",
       "    <tr>\n",
       "      <th>3</th>\n",
       "      <td>80167.0</td>\n",
       "      <td>28000</td>\n",
       "      <td>28000</td>\n",
       "      <td>16.29%</td>\n",
       "      <td>36 months</td>\n",
       "      <td>credit_card</td>\n",
       "      <td>19.62%</td>\n",
       "      <td>NV</td>\n",
       "      <td>MORTGAGE</td>\n",
       "      <td>7083.33</td>\n",
       "      <td>710-714</td>\n",
       "      <td>12</td>\n",
       "      <td>38194</td>\n",
       "      <td>1.0</td>\n",
       "      <td>10+ years</td>\n",
       "      <td>train</td>\n",
       "    </tr>\n",
       "    <tr>\n",
       "      <th>4</th>\n",
       "      <td>17240.0</td>\n",
       "      <td>24250</td>\n",
       "      <td>17431.82</td>\n",
       "      <td>12.23%</td>\n",
       "      <td>60 months</td>\n",
       "      <td>credit_card</td>\n",
       "      <td>23.79%</td>\n",
       "      <td>OH</td>\n",
       "      <td>MORTGAGE</td>\n",
       "      <td>5833.33</td>\n",
       "      <td>730-734</td>\n",
       "      <td>6</td>\n",
       "      <td>31061</td>\n",
       "      <td>2.0</td>\n",
       "      <td>10+ years</td>\n",
       "      <td>train</td>\n",
       "    </tr>\n",
       "  </tbody>\n",
       "</table>\n",
       "</div>"
      ],
      "text/plain": [
       "        ID Amount.Requested Amount.Funded.By.Investors Interest.Rate  \\\n",
       "0  79542.0            25000                      25000        18.49%   \n",
       "1  75473.0            19750                      19750        17.27%   \n",
       "2  67265.0             2100                       2100        14.33%   \n",
       "3  80167.0            28000                      28000        16.29%   \n",
       "4  17240.0            24250                   17431.82        12.23%   \n",
       "\n",
       "  Loan.Length        Loan.Purpose Debt.To.Income.Ratio State Home.Ownership  \\\n",
       "0   60 months  debt_consolidation               27.56%    VA       MORTGAGE   \n",
       "1   60 months  debt_consolidation               13.39%    NY       MORTGAGE   \n",
       "2   36 months      major_purchase                3.50%    LA            OWN   \n",
       "3   36 months         credit_card               19.62%    NV       MORTGAGE   \n",
       "4   60 months         credit_card               23.79%    OH       MORTGAGE   \n",
       "\n",
       "   Monthly.Income FICO.Range Open.CREDIT.Lines Revolving.CREDIT.Balance  \\\n",
       "0         8606.56    720-724                11                    15210   \n",
       "1         6737.50    710-714                14                    19070   \n",
       "2         1000.00    690-694                13                      893   \n",
       "3         7083.33    710-714                12                    38194   \n",
       "4         5833.33    730-734                 6                    31061   \n",
       "\n",
       "   Inquiries.in.the.Last.6.Months Employment.Length   data  \n",
       "0                             3.0           5 years  train  \n",
       "1                             3.0           4 years  train  \n",
       "2                             1.0          < 1 year  train  \n",
       "3                             1.0         10+ years  train  \n",
       "4                             2.0         10+ years  train  "
      ]
     },
     "execution_count": 6,
     "metadata": {},
     "output_type": "execute_result"
    }
   ],
   "source": [
    "ld_all.head()"
   ]
  },
  {
   "cell_type": "code",
   "execution_count": 7,
   "metadata": {},
   "outputs": [
    {
     "data": {
      "text/plain": [
       "ID                                float64\n",
       "Amount.Requested                   object\n",
       "Amount.Funded.By.Investors         object\n",
       "Interest.Rate                      object\n",
       "Loan.Length                        object\n",
       "Loan.Purpose                       object\n",
       "Debt.To.Income.Ratio               object\n",
       "State                              object\n",
       "Home.Ownership                     object\n",
       "Monthly.Income                    float64\n",
       "FICO.Range                         object\n",
       "Open.CREDIT.Lines                  object\n",
       "Revolving.CREDIT.Balance           object\n",
       "Inquiries.in.the.Last.6.Months    float64\n",
       "Employment.Length                  object\n",
       "data                               object\n",
       "dtype: object"
      ]
     },
     "execution_count": 7,
     "metadata": {},
     "output_type": "execute_result"
    }
   ],
   "source": [
    "ld_all.dtypes"
   ]
  },
  {
   "cell_type": "code",
   "execution_count": 8,
   "metadata": {},
   "outputs": [],
   "source": [
    "# ID,Amount.Funded.By.Investors : drop \n",
    "# Interest Rate , Debt to income ratio : remove % and then to numeric\n",
    "# Amount.Requested , 'Open.CREDIT.Lines','Revolving.CREDIT.Balance': convert it to numeric \n",
    "# FICO.Range : replace it by a numeric column which is average of the range\n",
    "# Employment Length : convert to number\n",
    "# Loan Lenth, Loan Purpose , State , Home ownership: dummies for categories with good occurence rate"
   ]
  },
  {
   "cell_type": "code",
   "execution_count": 9,
   "metadata": {},
   "outputs": [],
   "source": [
    "ld_all.drop(['ID','Amount.Funded.By.Investors'],axis=1,inplace=True)"
   ]
  },
  {
   "cell_type": "code",
   "execution_count": 10,
   "metadata": {},
   "outputs": [],
   "source": [
    "for col in ['Interest.Rate','Debt.To.Income.Ratio']:\n",
    "    ld_all[col]=ld_all[col].str.replace(\"%\",\"\")"
   ]
  },
  {
   "cell_type": "code",
   "execution_count": 11,
   "metadata": {},
   "outputs": [],
   "source": [
    "for col in ['Amount.Requested', 'Interest.Rate','Debt.To.Income.Ratio',\n",
    "            'Open.CREDIT.Lines','Revolving.CREDIT.Balance']:\n",
    "    ld_all[col]=pd.to_numeric(ld_all[col],errors='coerce')\n",
    "    "
   ]
  },
  {
   "cell_type": "code",
   "execution_count": 12,
   "metadata": {},
   "outputs": [],
   "source": [
    "k=ld_all['FICO.Range'].str.split(\"-\",expand=True).astype(float)\n",
    "\n",
    "ld_all['fico']=0.5*(k[0]+k[1])\n",
    "\n",
    "del ld_all['FICO.Range']\n",
    "\n"
   ]
  },
  {
   "cell_type": "code",
   "execution_count": 13,
   "metadata": {},
   "outputs": [
    {
     "data": {
      "text/plain": [
       "10+ years    653\n",
       "< 1 year     249\n",
       "2 years      243\n",
       "3 years      235\n",
       "5 years      202\n",
       "4 years      191\n",
       "1 year       177\n",
       "6 years      163\n",
       "7 years      127\n",
       "8 years      108\n",
       "9 years       72\n",
       ".              2\n",
       "Name: Employment.Length, dtype: int64"
      ]
     },
     "execution_count": 13,
     "metadata": {},
     "output_type": "execute_result"
    }
   ],
   "source": [
    "ld_all['Employment.Length'].value_counts()"
   ]
  },
  {
   "cell_type": "code",
   "execution_count": 14,
   "metadata": {},
   "outputs": [],
   "source": [
    "ld_all['Employment.Length']=ld_all['Employment.Length'].str.replace('years',\"\")\n",
    "\n",
    "ld_all['Employment.Length']=ld_all['Employment.Length'].str.replace('year',\"\")\n",
    "\n",
    "ld_all['Employment.Length']=np.where(ld_all['Employment.Length'].str[:2]==\"10\",10,ld_all['Employment.Length'])\n",
    "\n",
    "ld_all['Employment.Length']=np.where(ld_all['Employment.Length'].str[0]==\"<\",0,ld_all['Employment.Length'])\n",
    "\n",
    "ld_all['Employment.Length']=pd.to_numeric(ld_all['Employment.Length'],errors='coerce')"
   ]
  },
  {
   "cell_type": "code",
   "execution_count": 15,
   "metadata": {},
   "outputs": [],
   "source": [
    "# Notice that to apply string function on pandas data frame columns you need to str attribute\n",
    "cat_cols=ld_all.select_dtypes(['object']).columns"
   ]
  },
  {
   "cell_type": "code",
   "execution_count": 16,
   "metadata": {},
   "outputs": [
    {
     "data": {
      "text/plain": [
       "Index(['Loan.Length', 'Loan.Purpose', 'State', 'Home.Ownership', 'data'], dtype='object')"
      ]
     },
     "execution_count": 16,
     "metadata": {},
     "output_type": "execute_result"
    }
   ],
   "source": [
    "cat_cols"
   ]
  },
  {
   "cell_type": "code",
   "execution_count": 17,
   "metadata": {},
   "outputs": [],
   "source": [
    "cat_cols=cat_cols[:-1]"
   ]
  },
  {
   "cell_type": "code",
   "execution_count": 18,
   "metadata": {},
   "outputs": [
    {
     "data": {
      "text/plain": [
       "Index(['Loan.Length', 'Loan.Purpose', 'State', 'Home.Ownership'], dtype='object')"
      ]
     },
     "execution_count": 18,
     "metadata": {},
     "output_type": "execute_result"
    }
   ],
   "source": [
    "cat_cols"
   ]
  },
  {
   "cell_type": "code",
   "execution_count": 19,
   "metadata": {},
   "outputs": [
    {
     "name": "stdout",
     "output_type": "stream",
     "text": [
      "Loan.Length\n",
      "Loan.Purpose\n",
      "State\n",
      "Home.Ownership\n"
     ]
    }
   ],
   "source": [
    "# you can use following method if you want to ignore categories with too low frequencies ,\n",
    "#in next section for logistic regression we will be using  pandas' get dummies function. \n",
    "# you can work with either of these . \n",
    "#ignoring categories with low frequencies however will result in fewer columns without \n",
    "# affecting model performance too much .\n",
    "\n",
    "for col in cat_cols:\n",
    "    freqs=ld_all[col].value_counts()\n",
    "    k=freqs.index[freqs>20][:-1]\n",
    "    for cat in k:\n",
    "        name=col+'_'+cat\n",
    "        ld_all[name]=(ld_all[col]==cat).astype(int)\n",
    "    del ld_all[col]\n",
    "    print(col)\n",
    "    \n",
    "    "
   ]
  },
  {
   "cell_type": "code",
   "execution_count": 20,
   "metadata": {},
   "outputs": [
    {
     "data": {
      "text/plain": [
       "(2500, 51)"
      ]
     },
     "execution_count": 20,
     "metadata": {},
     "output_type": "execute_result"
    }
   ],
   "source": [
    "ld_all.shape"
   ]
  },
  {
   "cell_type": "code",
   "execution_count": 21,
   "metadata": {},
   "outputs": [
    {
     "data": {
      "text/plain": [
       "Amount.Requested                     5\n",
       "Interest.Rate                      300\n",
       "Debt.To.Income.Ratio                 1\n",
       "Monthly.Income                       3\n",
       "Open.CREDIT.Lines                    9\n",
       "Revolving.CREDIT.Balance             5\n",
       "Inquiries.in.the.Last.6.Months       3\n",
       "Employment.Length                   80\n",
       "data                                 0\n",
       "fico                                 0\n",
       "Loan.Length_36 months                0\n",
       "Loan.Purpose_debt_consolidation      0\n",
       "Loan.Purpose_credit_card             0\n",
       "Loan.Purpose_other                   0\n",
       "Loan.Purpose_home_improvement        0\n",
       "Loan.Purpose_major_purchase          0\n",
       "Loan.Purpose_small_business          0\n",
       "Loan.Purpose_car                     0\n",
       "Loan.Purpose_wedding                 0\n",
       "Loan.Purpose_medical                 0\n",
       "Loan.Purpose_moving                  0\n",
       "State_CA                             0\n",
       "State_NY                             0\n",
       "State_TX                             0\n",
       "State_FL                             0\n",
       "State_IL                             0\n",
       "State_GA                             0\n",
       "State_PA                             0\n",
       "State_NJ                             0\n",
       "State_VA                             0\n",
       "State_MA                             0\n",
       "State_OH                             0\n",
       "State_MD                             0\n",
       "State_NC                             0\n",
       "State_CO                             0\n",
       "State_WA                             0\n",
       "State_CT                             0\n",
       "State_AZ                             0\n",
       "State_MI                             0\n",
       "State_AL                             0\n",
       "State_MN                             0\n",
       "State_MO                             0\n",
       "State_NV                             0\n",
       "State_OR                             0\n",
       "State_SC                             0\n",
       "State_WI                             0\n",
       "State_KY                             0\n",
       "State_LA                             0\n",
       "State_OK                             0\n",
       "Home.Ownership_MORTGAGE              0\n",
       "Home.Ownership_RENT                  0\n",
       "dtype: int64"
      ]
     },
     "execution_count": 21,
     "metadata": {},
     "output_type": "execute_result"
    }
   ],
   "source": [
    "ld_all.isnull().sum()"
   ]
  },
  {
   "cell_type": "code",
   "execution_count": 22,
   "metadata": {},
   "outputs": [],
   "source": [
    "for col in ld_all.columns:\n",
    "    if (col not in ['Interest.Rate','data'])& (ld_all[col].isnull().sum()>0):\n",
    "        ld_all.loc[ld_all[col].isnull(),col]=ld_all.loc[ld_all['data']=='train',col].mean()"
   ]
  },
  {
   "cell_type": "code",
   "execution_count": 23,
   "metadata": {},
   "outputs": [
    {
     "data": {
      "text/plain": [
       "Amount.Requested                     0\n",
       "Interest.Rate                      300\n",
       "Debt.To.Income.Ratio                 0\n",
       "Monthly.Income                       0\n",
       "Open.CREDIT.Lines                    0\n",
       "Revolving.CREDIT.Balance             0\n",
       "Inquiries.in.the.Last.6.Months       0\n",
       "Employment.Length                    0\n",
       "data                                 0\n",
       "fico                                 0\n",
       "Loan.Length_36 months                0\n",
       "Loan.Purpose_debt_consolidation      0\n",
       "Loan.Purpose_credit_card             0\n",
       "Loan.Purpose_other                   0\n",
       "Loan.Purpose_home_improvement        0\n",
       "Loan.Purpose_major_purchase          0\n",
       "Loan.Purpose_small_business          0\n",
       "Loan.Purpose_car                     0\n",
       "Loan.Purpose_wedding                 0\n",
       "Loan.Purpose_medical                 0\n",
       "Loan.Purpose_moving                  0\n",
       "State_CA                             0\n",
       "State_NY                             0\n",
       "State_TX                             0\n",
       "State_FL                             0\n",
       "State_IL                             0\n",
       "State_GA                             0\n",
       "State_PA                             0\n",
       "State_NJ                             0\n",
       "State_VA                             0\n",
       "State_MA                             0\n",
       "State_OH                             0\n",
       "State_MD                             0\n",
       "State_NC                             0\n",
       "State_CO                             0\n",
       "State_WA                             0\n",
       "State_CT                             0\n",
       "State_AZ                             0\n",
       "State_MI                             0\n",
       "State_AL                             0\n",
       "State_MN                             0\n",
       "State_MO                             0\n",
       "State_NV                             0\n",
       "State_OR                             0\n",
       "State_SC                             0\n",
       "State_WI                             0\n",
       "State_KY                             0\n",
       "State_LA                             0\n",
       "State_OK                             0\n",
       "Home.Ownership_MORTGAGE              0\n",
       "Home.Ownership_RENT                  0\n",
       "dtype: int64"
      ]
     },
     "execution_count": 23,
     "metadata": {},
     "output_type": "execute_result"
    }
   ],
   "source": [
    "ld_all.isnull().sum()"
   ]
  },
  {
   "cell_type": "code",
   "execution_count": 24,
   "metadata": {},
   "outputs": [
    {
     "name": "stderr",
     "output_type": "stream",
     "text": [
      "/home/dell/anaconda3/lib/python3.7/site-packages/pandas/core/frame.py:3697: SettingWithCopyWarning: \n",
      "A value is trying to be set on a copy of a slice from a DataFrame\n",
      "\n",
      "See the caveats in the documentation: http://pandas.pydata.org/pandas-docs/stable/indexing.html#indexing-view-versus-copy\n",
      "  errors=errors)\n"
     ]
    }
   ],
   "source": [
    "ld_train=ld_all[ld_all['data']=='train']\n",
    "del ld_train['data']\n",
    "ld_test=ld_all[ld_all['data']=='test']\n",
    "ld_test.drop(['Interest.Rate','data'],axis=1,inplace=True)"
   ]
  },
  {
   "cell_type": "code",
   "execution_count": 25,
   "metadata": {},
   "outputs": [],
   "source": [
    "del ld_all"
   ]
  },
  {
   "cell_type": "code",
   "execution_count": 26,
   "metadata": {},
   "outputs": [],
   "source": [
    "from sklearn.model_selection import train_test_split"
   ]
  },
  {
   "cell_type": "code",
   "execution_count": 27,
   "metadata": {},
   "outputs": [],
   "source": [
    "ld_train1,ld_train2=train_test_split(ld_train,test_size=0.2,random_state=2)"
   ]
  },
  {
   "cell_type": "code",
   "execution_count": 76,
   "metadata": {},
   "outputs": [
    {
     "data": {
      "text/plain": [
       "1936    19.91\n",
       "610     14.27\n",
       "372      6.03\n",
       "1559    15.80\n",
       "1500    19.69\n",
       "Name: Interest.Rate, dtype: float64"
      ]
     },
     "execution_count": 76,
     "metadata": {},
     "output_type": "execute_result"
    }
   ],
   "source": [
    "# Notice that only train data is used for imputing missing values in both train and test \n",
    "\n",
    "x_train1=ld_train1.drop('Interest.Rate',axis=1)\n",
    "y_train1=ld_train1['Interest.Rate']\n",
    "y_train1.head()"
   ]
  },
  {
   "cell_type": "code",
   "execution_count": 29,
   "metadata": {},
   "outputs": [],
   "source": [
    "from sklearn.linear_model import LinearRegression"
   ]
  },
  {
   "cell_type": "code",
   "execution_count": 30,
   "metadata": {},
   "outputs": [],
   "source": [
    "lm=LinearRegression()"
   ]
  },
  {
   "cell_type": "code",
   "execution_count": 31,
   "metadata": {},
   "outputs": [
    {
     "data": {
      "text/plain": [
       "LinearRegression(copy_X=True, fit_intercept=True, n_jobs=None, normalize=False)"
      ]
     },
     "execution_count": 31,
     "metadata": {},
     "output_type": "execute_result"
    }
   ],
   "source": [
    "lm.fit(x_train1,y_train1)  "
   ]
  },
  {
   "cell_type": "code",
   "execution_count": 32,
   "metadata": {},
   "outputs": [
    {
     "data": {
      "text/plain": [
       "(1760, 49)"
      ]
     },
     "execution_count": 32,
     "metadata": {},
     "output_type": "execute_result"
    }
   ],
   "source": [
    "x_train1.shape"
   ]
  },
  {
   "cell_type": "code",
   "execution_count": 33,
   "metadata": {},
   "outputs": [
    {
     "data": {
      "text/plain": [
       "76.01913622059084"
      ]
     },
     "execution_count": 33,
     "metadata": {},
     "output_type": "execute_result"
    }
   ],
   "source": [
    "lm.intercept_"
   ]
  },
  {
   "cell_type": "code",
   "execution_count": 34,
   "metadata": {},
   "outputs": [
    {
     "data": {
      "text/plain": [
       "[('Amount.Requested', 0.0001561443101214382),\n",
       " ('Debt.To.Income.Ratio', -0.0038442407741175947),\n",
       " ('Monthly.Income', -2.6406486110283148e-05),\n",
       " ('Open.CREDIT.Lines', -0.04022799798362851),\n",
       " ('Revolving.CREDIT.Balance', -4.04316567242935e-06),\n",
       " ('Inquiries.in.the.Last.6.Months', 0.336761302956464),\n",
       " ('Employment.Length', 0.0347338830221231),\n",
       " ('fico', -0.08669304194244765),\n",
       " ('Loan.Length_36 months', -3.142554743125377),\n",
       " ('Loan.Purpose_debt_consolidation', -0.4713597523618265),\n",
       " ('Loan.Purpose_credit_card', -0.6123429134596093),\n",
       " ('Loan.Purpose_other', 0.44626098118798163),\n",
       " ('Loan.Purpose_home_improvement', -0.36998297809737496),\n",
       " ('Loan.Purpose_major_purchase', -0.09745119837235894),\n",
       " ('Loan.Purpose_small_business', 0.06251542143811326),\n",
       " ('Loan.Purpose_car', 0.018748914316903675),\n",
       " ('Loan.Purpose_wedding', -0.783052054003569),\n",
       " ('Loan.Purpose_medical', -0.4221458946928683),\n",
       " ('Loan.Purpose_moving', 1.2768888222135197),\n",
       " ('State_CA', -0.2912081686519179),\n",
       " ('State_NY', -0.20784181354586106),\n",
       " ('State_TX', 0.38410917314652854),\n",
       " ('State_FL', 0.004847904465573715),\n",
       " ('State_IL', -0.7285946512366293),\n",
       " ('State_GA', -0.10949496877625157),\n",
       " ('State_PA', -0.6344637679429556),\n",
       " ('State_NJ', -0.5044859736086547),\n",
       " ('State_VA', -0.2704124450086851),\n",
       " ('State_MA', 0.010510217191507215),\n",
       " ('State_OH', -0.4428402101320414),\n",
       " ('State_MD', -0.09859435114848572),\n",
       " ('State_NC', -0.3804224871913895),\n",
       " ('State_CO', -0.13743161843769008),\n",
       " ('State_WA', -0.326283640729693),\n",
       " ('State_CT', 0.36543721069965374),\n",
       " ('State_AZ', 0.18311333972876923),\n",
       " ('State_MI', -0.2393622396211744),\n",
       " ('State_AL', -0.40309475046961774),\n",
       " ('State_MN', -0.15863702477325897),\n",
       " ('State_MO', -0.5142321949582139),\n",
       " ('State_NV', -0.20517727901177252),\n",
       " ('State_OR', 0.039027713793425796),\n",
       " ('State_SC', -0.058336173623127374),\n",
       " ('State_WI', -0.245120642345359),\n",
       " ('State_KY', 0.18705420527433653),\n",
       " ('State_LA', -0.1300984046716856),\n",
       " ('State_OK', -0.419212563322682),\n",
       " ('Home.Ownership_MORTGAGE', -0.4916810221538476),\n",
       " ('Home.Ownership_RENT', -0.23217518504343074)]"
      ]
     },
     "execution_count": 34,
     "metadata": {},
     "output_type": "execute_result"
    }
   ],
   "source": [
    "list(zip(x_train1.columns,lm.coef_))"
   ]
  },
  {
   "cell_type": "code",
   "execution_count": 35,
   "metadata": {},
   "outputs": [],
   "source": [
    "x_train2=ld_train2.drop('Interest.Rate',axis=1)"
   ]
  },
  {
   "cell_type": "code",
   "execution_count": 36,
   "metadata": {},
   "outputs": [],
   "source": [
    "predicted_ir=lm.predict(x_train2)"
   ]
  },
  {
   "cell_type": "code",
   "execution_count": 37,
   "metadata": {},
   "outputs": [],
   "source": [
    "from sklearn.metrics import mean_absolute_error\n",
    "mean_absolute_error(ld_train2['Interest.Rate'],predicted_ir)"
   ]
  },
  {
   "cell_type": "code",
   "execution_count": null,
   "metadata": {},
   "outputs": [],
   "source": []
  },
  {
   "cell_type": "code",
   "execution_count": 75,
   "metadata": {},
   "outputs": [],
   "source": [
    "#MSE\n",
    "from sklearn.metrics import mean_squared_error\n",
    "mean_squared_error()"
   ]
  },
  {
   "cell_type": "code",
   "execution_count": null,
   "metadata": {},
   "outputs": [],
   "source": []
  },
  {
   "cell_type": "code",
   "execution_count": null,
   "metadata": {},
   "outputs": [],
   "source": [
    "#RMSE\n",
    "from sklearn.metrics import routr_mean_squared_error"
   ]
  },
  {
   "cell_type": "code",
   "execution_count": null,
   "metadata": {},
   "outputs": [],
   "source": []
  },
  {
   "cell_type": "code",
   "execution_count": 74,
   "metadata": {},
   "outputs": [
    {
     "data": {
      "text/plain": [
       "1.6292292194607279"
      ]
     },
     "execution_count": 74,
     "metadata": {},
     "output_type": "execute_result"
    }
   ],
   "source": []
  },
  {
   "cell_type": "markdown",
   "metadata": {},
   "source": [
    "We know the tentative performance now, lets build the model on entire training to make prediction on test/production"
   ]
  },
  {
   "cell_type": "code",
   "execution_count": 39,
   "metadata": {},
   "outputs": [],
   "source": [
    "x_train=ld_train.drop('Interest.Rate',axis=1)\n",
    "y_train=ld_train['Interest.Rate']"
   ]
  },
  {
   "cell_type": "code",
   "execution_count": 72,
   "metadata": {},
   "outputs": [
    {
     "data": {
      "text/plain": [
       "LinearRegression(copy_X=True, fit_intercept=True, n_jobs=None, normalize=False)"
      ]
     },
     "execution_count": 72,
     "metadata": {},
     "output_type": "execute_result"
    }
   ],
   "source": [
    "lm.fit(x_train,y_train)"
   ]
  },
  {
   "cell_type": "code",
   "execution_count": 71,
   "metadata": {},
   "outputs": [],
   "source": [
    "test_pred=lm.predict(ld_test)"
   ]
  },
  {
   "cell_type": "markdown",
   "metadata": {},
   "source": [
    "We can write these to a csv file for submission like this :"
   ]
  },
  {
   "cell_type": "code",
   "execution_count": 42,
   "metadata": {},
   "outputs": [],
   "source": [
    "#pd.DataFrame(test_pred).to_csv(\"mysubmission.csv\",index=False)"
   ]
  },
  {
   "cell_type": "markdown",
   "metadata": {},
   "source": [
    "# Ridge  Regression"
   ]
  },
  {
   "cell_type": "code",
   "execution_count": 43,
   "metadata": {},
   "outputs": [],
   "source": [
    "from sklearn.linear_model import Ridge,Lasso\n",
    "from sklearn.model_selection import GridSearchCV"
   ]
  },
  {
   "cell_type": "code",
   "execution_count": 44,
   "metadata": {},
   "outputs": [],
   "source": [
    "lambdas=np.linspace(1,100,100)"
   ]
  },
  {
   "cell_type": "code",
   "execution_count": 45,
   "metadata": {},
   "outputs": [],
   "source": [
    "params={'alpha':lambdas}"
   ]
  },
  {
   "cell_type": "code",
   "execution_count": 46,
   "metadata": {},
   "outputs": [],
   "source": [
    "model=Ridge(fit_intercept=True)"
   ]
  },
  {
   "cell_type": "code",
   "execution_count": 47,
   "metadata": {},
   "outputs": [],
   "source": [
    "grid_search=GridSearchCV(model,param_grid=params,cv=10,scoring='neg_mean_absolute_error')"
   ]
  },
  {
   "cell_type": "code",
   "execution_count": 48,
   "metadata": {},
   "outputs": [
    {
     "data": {
      "text/plain": [
       "GridSearchCV(cv=10, error_score='raise-deprecating',\n",
       "             estimator=Ridge(alpha=1.0, copy_X=True, fit_intercept=True,\n",
       "                             max_iter=None, normalize=False, random_state=None,\n",
       "                             solver='auto', tol=0.001),\n",
       "             iid='warn', n_jobs=None,\n",
       "             param_grid={'alpha': array([  1.,   2.,   3.,   4.,   5.,   6.,   7.,   8.,   9.,  10.,  11.,\n",
       "        12.,  13.,  14.,  15.,  16.,  17.,  18.,  19.,  20.,  21.,  22.,\n",
       "        23.,  24.,  25.,  26.,  27.,  28.,  29.,  30.,  31.,  32.,...\n",
       "        34.,  35.,  36.,  37.,  38.,  39.,  40.,  41.,  42.,  43.,  44.,\n",
       "        45.,  46.,  47.,  48.,  49.,  50.,  51.,  52.,  53.,  54.,  55.,\n",
       "        56.,  57.,  58.,  59.,  60.,  61.,  62.,  63.,  64.,  65.,  66.,\n",
       "        67.,  68.,  69.,  70.,  71.,  72.,  73.,  74.,  75.,  76.,  77.,\n",
       "        78.,  79.,  80.,  81.,  82.,  83.,  84.,  85.,  86.,  87.,  88.,\n",
       "        89.,  90.,  91.,  92.,  93.,  94.,  95.,  96.,  97.,  98.,  99.,\n",
       "       100.])},\n",
       "             pre_dispatch='2*n_jobs', refit=True, return_train_score=False,\n",
       "             scoring='neg_mean_absolute_error', verbose=0)"
      ]
     },
     "execution_count": 48,
     "metadata": {},
     "output_type": "execute_result"
    }
   ],
   "source": [
    "grid_search.fit(x_train,y_train)"
   ]
  },
  {
   "cell_type": "code",
   "execution_count": 49,
   "metadata": {},
   "outputs": [
    {
     "data": {
      "text/plain": [
       "Ridge(alpha=33.0, copy_X=True, fit_intercept=True, max_iter=None,\n",
       "      normalize=False, random_state=None, solver='auto', tol=0.001)"
      ]
     },
     "execution_count": 49,
     "metadata": {},
     "output_type": "execute_result"
    }
   ],
   "source": [
    "grid_search.best_estimator_"
   ]
  },
  {
   "cell_type": "code",
   "execution_count": 50,
   "metadata": {},
   "outputs": [
    {
     "data": {
      "text/plain": [
       "{'mean_fit_time': array([0.01692436, 0.00311601, 0.00310903, 0.00311351, 0.00318427,\n",
       "        0.00312104, 0.0030973 , 0.00310147, 0.00309556, 0.00308526,\n",
       "        0.00307605, 0.00308933, 0.00308342, 0.00309923, 0.00331421,\n",
       "        0.00388875, 0.00415311, 0.00364044, 0.00408113, 0.00460012,\n",
       "        0.00395689, 0.00430801, 0.00463991, 0.00420671, 0.00431757,\n",
       "        0.00434616, 0.00411053, 0.00385075, 0.00420575, 0.00452693,\n",
       "        0.00382204, 0.00373533, 0.00382824, 0.0036459 , 0.00320249,\n",
       "        0.00310149, 0.00310028, 0.00308735, 0.00317807, 0.00314121,\n",
       "        0.00310166, 0.00308182, 0.00309713, 0.00310485, 0.00314353,\n",
       "        0.00308442, 0.00309474, 0.00311046, 0.00310206, 0.00308568,\n",
       "        0.00308318, 0.00309975, 0.00308557, 0.00309768, 0.00308602,\n",
       "        0.00308642, 0.00309899, 0.00308166, 0.00309048, 0.00308743,\n",
       "        0.00313818, 0.00310864, 0.00329261, 0.00400651, 0.00404367,\n",
       "        0.00372777, 0.00442834, 0.00362992, 0.00314746, 0.00312746,\n",
       "        0.00310748, 0.00310316, 0.00342259, 0.00334055, 0.00335767,\n",
       "        0.00332329, 0.0033421 , 0.00313568, 0.0031719 , 0.00333447,\n",
       "        0.00338683, 0.00341082, 0.00362947, 0.00315194, 0.00310369,\n",
       "        0.00308578, 0.00311   , 0.0031009 , 0.00319135, 0.00337732,\n",
       "        0.00335543, 0.00325227, 0.00312181, 0.00314496, 0.00310066,\n",
       "        0.00310671, 0.00309191, 0.00312073, 0.00311096, 0.00331392]),\n",
       " 'std_fit_time': array([3.98438181e-02, 6.28722270e-05, 4.14488900e-05, 4.85391185e-05,\n",
       "        1.33520016e-04, 8.66043929e-05, 3.79946768e-05, 6.02699580e-05,\n",
       "        2.68103892e-05, 3.23711064e-05, 1.10840026e-05, 3.99225770e-05,\n",
       "        1.50565816e-05, 2.86401056e-05, 4.54507960e-04, 8.10934625e-04,\n",
       "        7.12355353e-04, 6.87899805e-04, 1.10669153e-03, 1.44352920e-03,\n",
       "        1.10584289e-03, 8.21642336e-04, 1.43781898e-03, 1.07861784e-03,\n",
       "        1.45649961e-03, 1.01949869e-03, 6.49954189e-04, 9.25153802e-04,\n",
       "        8.48677139e-04, 1.22484745e-03, 7.26755597e-04, 1.11848810e-03,\n",
       "        6.68481027e-04, 7.41253761e-04, 1.63061081e-04, 2.12581150e-05,\n",
       "        2.65791808e-05, 2.85947380e-05, 1.95504974e-04, 1.70891073e-04,\n",
       "        1.91065531e-05, 1.26458302e-05, 2.43651773e-05, 5.87787680e-05,\n",
       "        1.34703942e-04, 2.72317439e-05, 1.68735854e-05, 3.09457397e-05,\n",
       "        4.31330774e-05, 1.39518878e-05, 2.97268484e-05, 4.85187432e-05,\n",
       "        1.54512163e-05, 2.35072014e-05, 2.47776559e-05, 2.57485884e-05,\n",
       "        4.23771771e-05, 1.20618125e-05, 2.28061298e-05, 1.91214673e-05,\n",
       "        1.47788185e-04, 4.46546224e-05, 3.37862931e-04, 7.68768286e-04,\n",
       "        7.01961010e-04, 8.16763275e-04, 1.30101846e-03, 6.68859178e-04,\n",
       "        5.74787786e-05, 6.56792990e-05, 3.49895897e-05, 2.31377093e-05,\n",
       "        3.52685122e-04, 1.94004087e-04, 2.23545091e-04, 3.01391912e-04,\n",
       "        2.48024404e-04, 7.36444850e-05, 1.76944576e-04, 1.93616785e-04,\n",
       "        2.31842576e-04, 3.09285840e-04, 6.52326316e-04, 6.81731068e-05,\n",
       "        1.82563257e-05, 1.80566622e-05, 4.75133056e-05, 2.48553970e-05,\n",
       "        1.99578062e-04, 3.47998510e-04, 2.97232438e-04, 1.64727777e-04,\n",
       "        6.59165759e-05, 7.68343924e-05, 3.10997731e-05, 3.40164496e-05,\n",
       "        2.22714604e-05, 8.70285326e-05, 6.32489980e-05, 5.70803996e-04]),\n",
       " 'mean_score_time': array([0.00112419, 0.00098186, 0.00098059, 0.00099082, 0.00101473,\n",
       "        0.00099099, 0.00098441, 0.0009846 , 0.00099316, 0.00097873,\n",
       "        0.00097327, 0.00098326, 0.00097601, 0.00098071, 0.00103741,\n",
       "        0.0011457 , 0.00116856, 0.00141199, 0.00119619, 0.00134263,\n",
       "        0.00128336, 0.00140469, 0.001599  , 0.00121386, 0.00137763,\n",
       "        0.00126922, 0.00157764, 0.00158844, 0.00140152, 0.00146246,\n",
       "        0.00159287, 0.00171635, 0.00144825, 0.00102494, 0.0010066 ,\n",
       "        0.00098374, 0.00099976, 0.00098031, 0.00099008, 0.00099587,\n",
       "        0.00099597, 0.00097678, 0.00097749, 0.00099831, 0.00098355,\n",
       "        0.00097806, 0.00097394, 0.0009793 , 0.00099275, 0.00097883,\n",
       "        0.00098245, 0.00097692, 0.00099363, 0.0009831 , 0.00097406,\n",
       "        0.00097692, 0.00097439, 0.00096917, 0.0009768 , 0.00097954,\n",
       "        0.00098999, 0.00099263, 0.00101607, 0.00110388, 0.00106854,\n",
       "        0.00132241, 0.00116096, 0.00104969, 0.00099118, 0.00100439,\n",
       "        0.00097611, 0.00098357, 0.00108359, 0.00109737, 0.00103383,\n",
       "        0.00108819, 0.00106194, 0.00097651, 0.00101664, 0.00101943,\n",
       "        0.00105422, 0.00104651, 0.00107443, 0.00100811, 0.00098813,\n",
       "        0.00097795, 0.00097899, 0.00097308, 0.00099478, 0.00105445,\n",
       "        0.00104251, 0.00105443, 0.00098441, 0.00100951, 0.00098057,\n",
       "        0.00097678, 0.00097611, 0.0009788 , 0.00097461, 0.00107498]),\n",
       " 'std_score_time': array([1.59243008e-04, 1.19432241e-05, 1.17695012e-05, 2.13394085e-05,\n",
       "        9.65144470e-05, 2.71513125e-05, 1.30441112e-05, 2.75882440e-05,\n",
       "        2.91739402e-05, 1.22610449e-05, 1.16629339e-05, 1.92090374e-05,\n",
       "        1.06560303e-05, 1.41562023e-05, 1.42064899e-04, 2.74675322e-04,\n",
       "        2.26303169e-04, 4.04002348e-04, 2.70409803e-04, 5.28500224e-04,\n",
       "        2.99058467e-04, 4.71791659e-04, 5.12220487e-04, 3.24046444e-04,\n",
       "        4.36889823e-04, 3.66694599e-04, 5.76482610e-04, 5.24750196e-04,\n",
       "        4.73013919e-04, 5.73775856e-04, 5.88597714e-04, 5.37393197e-04,\n",
       "        4.72038986e-04, 3.08463245e-05, 6.17549224e-05, 1.92563264e-05,\n",
       "        4.43418883e-05, 1.30982967e-05, 1.68601049e-05, 6.02319136e-05,\n",
       "        2.55704788e-05, 1.08607187e-05, 1.25795797e-05, 7.50294442e-05,\n",
       "        2.51978211e-05, 2.26866397e-05, 1.49608371e-05, 1.63466322e-05,\n",
       "        5.24940594e-05, 1.86699407e-05, 2.69229476e-05, 1.07707424e-05,\n",
       "        4.99659818e-05, 1.47747207e-05, 1.12705433e-05, 1.24987970e-05,\n",
       "        1.90088398e-05, 9.50390407e-06, 1.37842233e-05, 1.72250617e-05,\n",
       "        4.16689997e-05, 3.40456722e-05, 8.61080014e-05, 1.69059452e-04,\n",
       "        1.25647758e-04, 4.76301682e-04, 2.64255461e-04, 8.72001441e-05,\n",
       "        2.19420363e-05, 5.95390006e-05, 1.11106383e-05, 1.49091508e-05,\n",
       "        1.41401774e-04, 1.34852510e-04, 5.96021461e-05, 1.71714046e-04,\n",
       "        1.10909107e-04, 1.17459811e-05, 5.01207175e-05, 4.71593878e-05,\n",
       "        8.70287286e-05, 8.52064906e-05, 2.30812219e-04, 7.54051329e-05,\n",
       "        1.90437353e-05, 1.59265752e-05, 1.13065722e-05, 9.77469653e-06,\n",
       "        3.71349011e-05, 1.56943330e-04, 7.72982449e-05, 1.08139435e-04,\n",
       "        1.72597432e-05, 3.38671557e-05, 1.44115305e-05, 1.42519479e-05,\n",
       "        1.54999400e-05, 1.12154086e-05, 1.05771898e-05, 2.36495699e-04]),\n",
       " 'param_alpha': masked_array(data=[1.0, 2.0, 3.0, 4.0, 5.0, 6.0, 7.0, 8.0, 9.0, 10.0,\n",
       "                    11.0, 12.0, 13.0, 14.0, 15.0, 16.0, 17.0, 18.0, 19.0,\n",
       "                    20.0, 21.0, 22.0, 23.0, 24.0, 25.0, 26.0, 27.0, 28.0,\n",
       "                    29.0, 30.0, 31.0, 32.0, 33.0, 34.0, 35.0, 36.0, 37.0,\n",
       "                    38.0, 39.0, 40.0, 41.0, 42.0, 43.0, 44.0, 45.0, 46.0,\n",
       "                    47.0, 48.0, 49.0, 50.0, 51.0, 52.0, 53.0, 54.0, 55.0,\n",
       "                    56.0, 57.0, 58.0, 59.0, 60.0, 61.0, 62.0, 63.0, 64.0,\n",
       "                    65.0, 66.0, 67.0, 68.0, 69.0, 70.0, 71.0, 72.0, 73.0,\n",
       "                    74.0, 75.0, 76.0, 77.0, 78.0, 79.0, 80.0, 81.0, 82.0,\n",
       "                    83.0, 84.0, 85.0, 86.0, 87.0, 88.0, 89.0, 90.0, 91.0,\n",
       "                    92.0, 93.0, 94.0, 95.0, 96.0, 97.0, 98.0, 99.0, 100.0],\n",
       "              mask=[False, False, False, False, False, False, False, False,\n",
       "                    False, False, False, False, False, False, False, False,\n",
       "                    False, False, False, False, False, False, False, False,\n",
       "                    False, False, False, False, False, False, False, False,\n",
       "                    False, False, False, False, False, False, False, False,\n",
       "                    False, False, False, False, False, False, False, False,\n",
       "                    False, False, False, False, False, False, False, False,\n",
       "                    False, False, False, False, False, False, False, False,\n",
       "                    False, False, False, False, False, False, False, False,\n",
       "                    False, False, False, False, False, False, False, False,\n",
       "                    False, False, False, False, False, False, False, False,\n",
       "                    False, False, False, False, False, False, False, False,\n",
       "                    False, False, False, False],\n",
       "        fill_value='?',\n",
       "             dtype=object),\n",
       " 'params': [{'alpha': 1.0},\n",
       "  {'alpha': 2.0},\n",
       "  {'alpha': 3.0},\n",
       "  {'alpha': 4.0},\n",
       "  {'alpha': 5.0},\n",
       "  {'alpha': 6.0},\n",
       "  {'alpha': 7.0},\n",
       "  {'alpha': 8.0},\n",
       "  {'alpha': 9.0},\n",
       "  {'alpha': 10.0},\n",
       "  {'alpha': 11.0},\n",
       "  {'alpha': 12.0},\n",
       "  {'alpha': 13.0},\n",
       "  {'alpha': 14.0},\n",
       "  {'alpha': 15.0},\n",
       "  {'alpha': 16.0},\n",
       "  {'alpha': 17.0},\n",
       "  {'alpha': 18.0},\n",
       "  {'alpha': 19.0},\n",
       "  {'alpha': 20.0},\n",
       "  {'alpha': 21.0},\n",
       "  {'alpha': 22.0},\n",
       "  {'alpha': 23.0},\n",
       "  {'alpha': 24.0},\n",
       "  {'alpha': 25.0},\n",
       "  {'alpha': 26.0},\n",
       "  {'alpha': 27.0},\n",
       "  {'alpha': 28.0},\n",
       "  {'alpha': 29.0},\n",
       "  {'alpha': 30.0},\n",
       "  {'alpha': 31.0},\n",
       "  {'alpha': 32.0},\n",
       "  {'alpha': 33.0},\n",
       "  {'alpha': 34.0},\n",
       "  {'alpha': 35.0},\n",
       "  {'alpha': 36.0},\n",
       "  {'alpha': 37.0},\n",
       "  {'alpha': 38.0},\n",
       "  {'alpha': 39.0},\n",
       "  {'alpha': 40.0},\n",
       "  {'alpha': 41.0},\n",
       "  {'alpha': 42.0},\n",
       "  {'alpha': 43.0},\n",
       "  {'alpha': 44.0},\n",
       "  {'alpha': 45.0},\n",
       "  {'alpha': 46.0},\n",
       "  {'alpha': 47.0},\n",
       "  {'alpha': 48.0},\n",
       "  {'alpha': 49.0},\n",
       "  {'alpha': 50.0},\n",
       "  {'alpha': 51.0},\n",
       "  {'alpha': 52.0},\n",
       "  {'alpha': 53.0},\n",
       "  {'alpha': 54.0},\n",
       "  {'alpha': 55.0},\n",
       "  {'alpha': 56.0},\n",
       "  {'alpha': 57.0},\n",
       "  {'alpha': 58.0},\n",
       "  {'alpha': 59.0},\n",
       "  {'alpha': 60.0},\n",
       "  {'alpha': 61.0},\n",
       "  {'alpha': 62.0},\n",
       "  {'alpha': 63.0},\n",
       "  {'alpha': 64.0},\n",
       "  {'alpha': 65.0},\n",
       "  {'alpha': 66.0},\n",
       "  {'alpha': 67.0},\n",
       "  {'alpha': 68.0},\n",
       "  {'alpha': 69.0},\n",
       "  {'alpha': 70.0},\n",
       "  {'alpha': 71.0},\n",
       "  {'alpha': 72.0},\n",
       "  {'alpha': 73.0},\n",
       "  {'alpha': 74.0},\n",
       "  {'alpha': 75.0},\n",
       "  {'alpha': 76.0},\n",
       "  {'alpha': 77.0},\n",
       "  {'alpha': 78.0},\n",
       "  {'alpha': 79.0},\n",
       "  {'alpha': 80.0},\n",
       "  {'alpha': 81.0},\n",
       "  {'alpha': 82.0},\n",
       "  {'alpha': 83.0},\n",
       "  {'alpha': 84.0},\n",
       "  {'alpha': 85.0},\n",
       "  {'alpha': 86.0},\n",
       "  {'alpha': 87.0},\n",
       "  {'alpha': 88.0},\n",
       "  {'alpha': 89.0},\n",
       "  {'alpha': 90.0},\n",
       "  {'alpha': 91.0},\n",
       "  {'alpha': 92.0},\n",
       "  {'alpha': 93.0},\n",
       "  {'alpha': 94.0},\n",
       "  {'alpha': 95.0},\n",
       "  {'alpha': 96.0},\n",
       "  {'alpha': 97.0},\n",
       "  {'alpha': 98.0},\n",
       "  {'alpha': 99.0},\n",
       "  {'alpha': 100.0}],\n",
       " 'split0_test_score': array([-1.72253875, -1.72334901, -1.72413461, -1.72487488, -1.72555884,\n",
       "        -1.72619876, -1.72680296, -1.72739264, -1.72799979, -1.72860761,\n",
       "        -1.72924003, -1.72986019, -1.73046393, -1.73105275, -1.73162788,\n",
       "        -1.73219041, -1.73274126, -1.73328123, -1.73381104, -1.73433129,\n",
       "        -1.73484256, -1.73534533, -1.73584005, -1.73632711, -1.7368069 ,\n",
       "        -1.73727973, -1.73774592, -1.73820573, -1.73865943, -1.73910726,\n",
       "        -1.73954942, -1.73998613, -1.74045126, -1.7409615 , -1.74151634,\n",
       "        -1.74206533, -1.74260866, -1.74314646, -1.74367889, -1.74423658,\n",
       "        -1.74490884, -1.74559775, -1.74628059, -1.74695747, -1.74762852,\n",
       "        -1.74829384, -1.74895355, -1.74963028, -1.75030137, -1.75096685,\n",
       "        -1.7516268 , -1.75228134, -1.75294321, -1.75361999, -1.75429091,\n",
       "        -1.75495607, -1.75561557, -1.75626952, -1.75691802, -1.75756116,\n",
       "        -1.75819904, -1.75883174, -1.75945935, -1.76008195, -1.76069963,\n",
       "        -1.76135125, -1.76199821, -1.76264021, -1.76328149, -1.76393606,\n",
       "        -1.7645857 , -1.76523048, -1.76587048, -1.76650575, -1.76713638,\n",
       "        -1.76777118, -1.76841472, -1.7690536 , -1.76968788, -1.77031762,\n",
       "        -1.77094289, -1.77156375, -1.77218025, -1.77279245, -1.7734004 ,\n",
       "        -1.77400417, -1.77460381, -1.77519936, -1.77579088, -1.77637841,\n",
       "        -1.77696202, -1.77754174, -1.77811762, -1.7786897 , -1.77925804,\n",
       "        -1.77982268, -1.78038366, -1.78094102, -1.7814948 , -1.78204505]),\n",
       " 'split1_test_score': array([-1.7654695 , -1.76254819, -1.75985944, -1.75760418, -1.75562082,\n",
       "        -1.75378061, -1.75201293, -1.75031812, -1.74869452, -1.74719625,\n",
       "        -1.74582755, -1.74451818, -1.74326483, -1.74206429, -1.74091344,\n",
       "        -1.73980935, -1.73874927, -1.73777868, -1.73691135, -1.73610036,\n",
       "        -1.73536048, -1.7346499 , -1.73396695, -1.73331008, -1.73267785,\n",
       "        -1.73206893, -1.73148205, -1.73091605, -1.73036987, -1.72984247,\n",
       "        -1.72933291, -1.72884032, -1.72836385, -1.72790275, -1.7274568 ,\n",
       "        -1.72707513, -1.72670934, -1.72635564, -1.72601349, -1.72568236,\n",
       "        -1.72536178, -1.72505129, -1.72475045, -1.72445886, -1.72417613,\n",
       "        -1.72390189, -1.72363581, -1.72337755, -1.7231268 , -1.72288327,\n",
       "        -1.72264667, -1.72241675, -1.72219325, -1.72197593, -1.72176456,\n",
       "        -1.72155892, -1.72135881, -1.72116403, -1.72097439, -1.7207897 ,\n",
       "        -1.72060981, -1.72043453, -1.72026372, -1.72009723, -1.71994335,\n",
       "        -1.71981361, -1.71968741, -1.71956463, -1.71944516, -1.71932888,\n",
       "        -1.71921568, -1.71910548, -1.71899817, -1.71889366, -1.71879186,\n",
       "        -1.71869269, -1.71859605, -1.71850188, -1.71841009, -1.71832062,\n",
       "        -1.71826736, -1.71821807, -1.7181708 , -1.71812546, -1.718082  ,\n",
       "        -1.71804037, -1.71803622, -1.71806773, -1.71810919, -1.71815175,\n",
       "        -1.71819535, -1.71823996, -1.71828553, -1.71833203, -1.71837943,\n",
       "        -1.71842768, -1.71847675, -1.71852661, -1.71858255, -1.71868105]),\n",
       " 'split2_test_score': array([-1.77330129, -1.77132736, -1.76955818, -1.76800466, -1.76662231,\n",
       "        -1.76534921, -1.76423207, -1.76390196, -1.76360635, -1.76334008,\n",
       "        -1.76309915, -1.76288041, -1.76268126, -1.76249961, -1.76233367,\n",
       "        -1.76218193, -1.76204313, -1.76191612, -1.76179996, -1.76169377,\n",
       "        -1.7615968 , -1.76150838, -1.76142983, -1.76139326, -1.76136284,\n",
       "        -1.76133815, -1.76131881, -1.76130448, -1.76129484, -1.7612896 ,\n",
       "        -1.76128849, -1.76129128, -1.76129771, -1.7613076 , -1.76132073,\n",
       "        -1.76133693, -1.76135603, -1.76137786, -1.76140228, -1.76142915,\n",
       "        -1.76145834, -1.7615619 , -1.76173634, -1.7619108 , -1.76208522,\n",
       "        -1.76230921, -1.7625647 , -1.7628193 , -1.76307309, -1.76333176,\n",
       "        -1.76358936, -1.76384588, -1.76410129, -1.76435561, -1.76460882,\n",
       "        -1.76486091, -1.76511189, -1.76536174, -1.76561047, -1.76586298,\n",
       "        -1.76613568, -1.7664275 , -1.7667355 , -1.7670444 , -1.76739335,\n",
       "        -1.76776096, -1.76812639, -1.76848965, -1.76885077, -1.76920976,\n",
       "        -1.76956663, -1.76992141, -1.77027411, -1.77064263, -1.77102285,\n",
       "        -1.77140041, -1.77177533, -1.77214766, -1.77251742, -1.77288465,\n",
       "        -1.77324939, -1.77361165, -1.77397149, -1.77432892, -1.77468398,\n",
       "        -1.77503669, -1.77538708, -1.77573519, -1.77608103, -1.77642464,\n",
       "        -1.77676604, -1.77710526, -1.77744232, -1.77777724, -1.77811006,\n",
       "        -1.77844079, -1.77876946, -1.77909609, -1.7794207 , -1.77974331]),\n",
       " 'split3_test_score': array([-1.64257232, -1.64188608, -1.64137536, -1.64123067, -1.64114369,\n",
       "        -1.64106527, -1.64099094, -1.64091412, -1.64083459, -1.64075238,\n",
       "        -1.64066765, -1.64063235, -1.64060874, -1.64058298, -1.64055526,\n",
       "        -1.64052578, -1.6404947 , -1.6404759 , -1.64050422, -1.64053052,\n",
       "        -1.64055491, -1.64057755, -1.64059854, -1.640618  , -1.64063602,\n",
       "        -1.6406527 , -1.64066812, -1.64068236, -1.64069549, -1.64070758,\n",
       "        -1.64071869, -1.64072887, -1.64073818, -1.64075221, -1.64076743,\n",
       "        -1.64078198, -1.64079589, -1.64081098, -1.64083316, -1.64085481,\n",
       "        -1.64087596, -1.64089662, -1.64091683, -1.6409366 , -1.64095594,\n",
       "        -1.64097488, -1.64099343, -1.6410116 , -1.6410386 , -1.64108876,\n",
       "        -1.64113822, -1.641187  , -1.6412351 , -1.64128256, -1.64132937,\n",
       "        -1.64137557, -1.64142116, -1.64146616, -1.64151058, -1.64155444,\n",
       "        -1.64159774, -1.64164051, -1.64168616, -1.64177882, -1.64188075,\n",
       "        -1.64198176, -1.64208185, -1.64218106, -1.64227938, -1.64237683,\n",
       "        -1.64247344, -1.64256921, -1.64266417, -1.64275831, -1.64285167,\n",
       "        -1.64294424, -1.64303605, -1.6431271 , -1.6432174 , -1.64334236,\n",
       "        -1.6434815 , -1.64365065, -1.64381863, -1.64398543, -1.64415105,\n",
       "        -1.64431551, -1.64451128, -1.64471124, -1.64490992, -1.64512682,\n",
       "        -1.6453466 , -1.64556505, -1.6457822 , -1.64599806, -1.64621263,\n",
       "        -1.64642594, -1.64663799, -1.6468488 , -1.64705838, -1.64726674]),\n",
       " 'split4_test_score': array([-1.45032777, -1.44944355, -1.4484879 , -1.44748883, -1.44647726,\n",
       "        -1.4454701 , -1.44447677, -1.44350249, -1.44256588, -1.44168861,\n",
       "        -1.44085813, -1.44006867, -1.43930796, -1.43863644, -1.43798283,\n",
       "        -1.43734646, -1.43672661, -1.43612257, -1.43553361, -1.43495906,\n",
       "        -1.43439823, -1.43385049, -1.43331895, -1.43280049, -1.43229345,\n",
       "        -1.43187231, -1.43147328, -1.43109384, -1.43077346, -1.43046125,\n",
       "        -1.4301564 , -1.42985855, -1.42959562, -1.42936848, -1.42914728,\n",
       "        -1.42893174, -1.42872162, -1.42851666, -1.42831665, -1.42812138,\n",
       "        -1.4279489 , -1.42778697, -1.42762858, -1.42749047, -1.42738814,\n",
       "        -1.42732973, -1.42727366, -1.42721981, -1.42716809, -1.42711841,\n",
       "        -1.42707066, -1.42702478, -1.42698067, -1.42697524, -1.42697527,\n",
       "        -1.42697639, -1.42697854, -1.42698166, -1.42698571, -1.42699065,\n",
       "        -1.42699643, -1.42700301, -1.42701035, -1.42701842, -1.42702718,\n",
       "        -1.427038  , -1.427077  , -1.4271164 , -1.42715618, -1.42719631,\n",
       "        -1.42723676, -1.42727752, -1.42731857, -1.42737806, -1.42748368,\n",
       "        -1.42759128, -1.42769828, -1.42780465, -1.42791043, -1.42801559,\n",
       "        -1.42812016, -1.42822413, -1.42832751, -1.4284303 , -1.4285325 ,\n",
       "        -1.42863413, -1.42873517, -1.42883565, -1.42893556, -1.42905029,\n",
       "        -1.42918566, -1.42932026, -1.42945411, -1.42958721, -1.42972478,\n",
       "        -1.42988176, -1.43003782, -1.43019296, -1.43034719, -1.43050051]),\n",
       " 'split5_test_score': array([-1.64004633, -1.63901912, -1.63809581, -1.63724413, -1.63644519,\n",
       "        -1.63571198, -1.63503705, -1.63438817, -1.63376158, -1.63315448,\n",
       "        -1.63256471, -1.63199058, -1.63143075, -1.63088408, -1.63034965,\n",
       "        -1.62982668, -1.62931551, -1.62881538, -1.62832496, -1.62784377,\n",
       "        -1.6273714 , -1.62690747, -1.62645163, -1.62600355, -1.62556295,\n",
       "        -1.62512954, -1.62470308, -1.62428332, -1.62389331, -1.62352364,\n",
       "        -1.6231607 , -1.62280427, -1.62245412, -1.62211005, -1.62177185,\n",
       "        -1.62143935, -1.62111236, -1.62079073, -1.62047427, -1.62016285,\n",
       "        -1.61985632, -1.61955454, -1.61925736, -1.61896467, -1.61870472,\n",
       "        -1.61850196, -1.61830247, -1.61811862, -1.61795548, -1.61779498,\n",
       "        -1.61763706, -1.61748165, -1.61732867, -1.61717806, -1.61702977,\n",
       "        -1.61691654, -1.61682553, -1.61673638, -1.61664903, -1.61656344,\n",
       "        -1.61647955, -1.61639732, -1.61631671, -1.61623766, -1.61616015,\n",
       "        -1.61608412, -1.61600953, -1.61593636, -1.61590137, -1.61587843,\n",
       "        -1.61585653, -1.61583566, -1.61581576, -1.61579683, -1.61577882,\n",
       "        -1.61576171, -1.61574548, -1.61573824, -1.61573343, -1.61572926,\n",
       "        -1.61572573, -1.61572281, -1.61575581, -1.61580089, -1.6158461 ,\n",
       "        -1.61589143, -1.61593686, -1.61598239, -1.616028  , -1.6160737 ,\n",
       "        -1.61612519, -1.6161877 , -1.61625009, -1.6163323 , -1.61643082,\n",
       "        -1.61652898, -1.61662679, -1.61672424, -1.61682134, -1.61691809]),\n",
       " 'split6_test_score': array([-1.42603072, -1.42527953, -1.42460292, -1.42412197, -1.42377146,\n",
       "        -1.42343705, -1.4231159 , -1.4228061 , -1.42250629, -1.42223274,\n",
       "        -1.42201914, -1.42187527, -1.42174739, -1.4216242 , -1.42150551,\n",
       "        -1.42139111, -1.42128084, -1.42118202, -1.42110588, -1.42103293,\n",
       "        -1.42097021, -1.42094471, -1.42094401, -1.42095835, -1.42097542,\n",
       "        -1.4209951 , -1.4210173 , -1.42104192, -1.42106888, -1.42109809,\n",
       "        -1.42112945, -1.4211629 , -1.42119835, -1.42123572, -1.42127494,\n",
       "        -1.42131595, -1.4213738 , -1.42146381, -1.42155485, -1.42164688,\n",
       "        -1.42173985, -1.42183372, -1.42192844, -1.42202587, -1.42213753,\n",
       "        -1.42224978, -1.42236257, -1.42247587, -1.42258965, -1.42270387,\n",
       "        -1.42281851, -1.42293354, -1.42304892, -1.42316463, -1.42328064,\n",
       "        -1.42340141, -1.42353523, -1.42366914, -1.42380312, -1.42393716,\n",
       "        -1.42407124, -1.42420534, -1.42433945, -1.42451598, -1.42475455,\n",
       "        -1.42499237, -1.42522943, -1.42546573, -1.42570126, -1.4259389 ,\n",
       "        -1.42620193, -1.42646403, -1.42672515, -1.42698528, -1.42724444,\n",
       "        -1.42750261, -1.42775981, -1.42801602, -1.42827125, -1.4285255 ,\n",
       "        -1.42877877, -1.42903107, -1.42928633, -1.42956319, -1.42983893,\n",
       "        -1.43016156, -1.43049875, -1.43083428, -1.43116817, -1.43150043,\n",
       "        -1.43183106, -1.43216009, -1.43248752, -1.43281337, -1.43313764,\n",
       "        -1.43346035, -1.43378151, -1.43410113, -1.43441922, -1.4347358 ]),\n",
       " 'split7_test_score': array([-1.57554032, -1.57362404, -1.57209475, -1.57082408, -1.5697378 ,\n",
       "        -1.56878954, -1.56794856, -1.5671935 , -1.56650892, -1.56588329,\n",
       "        -1.56530776, -1.56477541, -1.5642931 , -1.56392392, -1.56368855,\n",
       "        -1.56347554, -1.56328035, -1.56310128, -1.56293685, -1.56278578,\n",
       "        -1.56264696, -1.56256224, -1.56249981, -1.56244529, -1.56239806,\n",
       "        -1.5623576 , -1.56232341, -1.56229506, -1.56227216, -1.56225434,\n",
       "        -1.56224127, -1.56223265, -1.5622282 , -1.56222766, -1.56223081,\n",
       "        -1.56223741, -1.56224728, -1.56227   , -1.56229947, -1.56233197,\n",
       "        -1.56236731, -1.56240532, -1.56245941, -1.56256908, -1.56270606,\n",
       "        -1.5628758 , -1.56304617, -1.56321709, -1.5633885 , -1.56356032,\n",
       "        -1.56373885, -1.56392918, -1.56411962, -1.56431013, -1.56450067,\n",
       "        -1.5646912 , -1.5648901 , -1.5651205 , -1.56534986, -1.56560415,\n",
       "        -1.56587504, -1.5661446 , -1.56641284, -1.56667975, -1.56694535,\n",
       "        -1.56720963, -1.56747262, -1.5677343 , -1.5679947 , -1.56825778,\n",
       "        -1.5685741 , -1.56888874, -1.56928359, -1.56968053, -1.57007523,\n",
       "        -1.57046769, -1.57085793, -1.57124599, -1.57163186, -1.57201558,\n",
       "        -1.57239715, -1.57277661, -1.57315395, -1.57352922, -1.57390241,\n",
       "        -1.57427354, -1.57464265, -1.57500973, -1.57537481, -1.57573791,\n",
       "        -1.57609903, -1.57645821, -1.57681544, -1.57717076, -1.57752417,\n",
       "        -1.57788569, -1.57824923, -1.57861087, -1.57897061, -1.57932848]),\n",
       " 'split8_test_score': array([-1.5283931 , -1.52808646, -1.52769358, -1.52723645, -1.52674652,\n",
       "        -1.52624168, -1.52573248, -1.52544817, -1.52518092, -1.52494689,\n",
       "        -1.52474693, -1.52458292, -1.52442116, -1.52426275, -1.52410844,\n",
       "        -1.52395869, -1.52381379, -1.52367392, -1.52353912, -1.52340939,\n",
       "        -1.52328543, -1.52318679, -1.5230927 , -1.52300304, -1.5229177 ,\n",
       "        -1.52283652, -1.52275939, -1.52268616, -1.52261668, -1.52257081,\n",
       "        -1.52254107, -1.52251478, -1.52249179, -1.52247196, -1.52245515,\n",
       "        -1.52244122, -1.52243004, -1.5224215 , -1.52241548, -1.52241186,\n",
       "        -1.52241055, -1.52241144, -1.52241444, -1.52241946, -1.52243245,\n",
       "        -1.5224594 , -1.52248797, -1.5225181 , -1.52254971, -1.52258274,\n",
       "        -1.52261712, -1.5226528 , -1.52269546, -1.52281781, -1.52295375,\n",
       "        -1.52309042, -1.52322777, -1.52341213, -1.52360384, -1.52379565,\n",
       "        -1.52398752, -1.52418823, -1.52441174, -1.5246347 , -1.52485709,\n",
       "        -1.5250789 , -1.5253001 , -1.52552069, -1.52574064, -1.52595995,\n",
       "        -1.5261786 , -1.52639658, -1.52661387, -1.52683047, -1.52704637,\n",
       "        -1.52726156, -1.52747603, -1.52773129, -1.52798591, -1.52823944,\n",
       "        -1.52849188, -1.52874322, -1.52899347, -1.52924263, -1.52949192,\n",
       "        -1.52975141, -1.53000973, -1.53026689, -1.53052289, -1.53079633,\n",
       "        -1.53109014, -1.53138259, -1.53167366, -1.53196338, -1.53225174,\n",
       "        -1.53253875, -1.53282442, -1.53310876, -1.53339176, -1.53367344]),\n",
       " 'split9_test_score': array([-1.66222116, -1.66194039, -1.66169648, -1.6614949 , -1.66143541,\n",
       "        -1.66145015, -1.66157719, -1.66180997, -1.66211099, -1.66243107,\n",
       "        -1.66281158, -1.66321949, -1.66364179, -1.66407707, -1.66452402,\n",
       "        -1.66498142, -1.66544819, -1.66592329, -1.66640582, -1.66689492,\n",
       "        -1.66738984, -1.66788986, -1.66839436, -1.66890276, -1.66941452,\n",
       "        -1.66992916, -1.67044625, -1.67096538, -1.67148619, -1.67200833,\n",
       "        -1.67253151, -1.67305544, -1.67357987, -1.6741088 , -1.67465894,\n",
       "        -1.67520885, -1.67575837, -1.6763073 , -1.67685551, -1.67740286,\n",
       "        -1.6779492 , -1.67849443, -1.67903843, -1.67958111, -1.68012237,\n",
       "        -1.68066213, -1.68120907, -1.68179392, -1.68237714, -1.68295865,\n",
       "        -1.68354894, -1.68415855, -1.68476609, -1.68537152, -1.68597823,\n",
       "        -1.68660179, -1.68722245, -1.68784023, -1.68845512, -1.68906711,\n",
       "        -1.6896762 , -1.69029902, -1.6909202 , -1.69155482, -1.6922117 ,\n",
       "        -1.69286522, -1.6935154 , -1.69416225, -1.69480579, -1.69544603,\n",
       "        -1.696083  , -1.6967167 , -1.69734715, -1.69797437, -1.69859839,\n",
       "        -1.69921921, -1.69983685, -1.70045134, -1.70106269, -1.70167093,\n",
       "        -1.70227606, -1.70287811, -1.70347709, -1.70407303, -1.70466595,\n",
       "        -1.70525586, -1.70584278, -1.70642674, -1.70700774, -1.70758582,\n",
       "        -1.70816099, -1.70873326, -1.70932499, -1.70993128, -1.71053453,\n",
       "        -1.71113474, -1.71173195, -1.71232616, -1.71291741, -1.7135057 ]),\n",
       " 'mean_test_score': array([-1.61864413, -1.61765037, -1.6167599 , -1.61601248, -1.61535593,\n",
       "        -1.61474943, -1.61419269, -1.61376752, -1.61337698, -1.61302334,\n",
       "        -1.61271426, -1.61244035, -1.61218609, -1.61196081, -1.61175892,\n",
       "        -1.61156874, -1.61138937, -1.61122704, -1.61108728, -1.61095818,\n",
       "        -1.61084168, -1.61074227, -1.61065368, -1.61057619, -1.61050457,\n",
       "        -1.61044597, -1.61039376, -1.61034743, -1.61031303, -1.61028634,\n",
       "        -1.61026499, -1.61024752, -1.61023989, -1.61024467, -1.61026003,\n",
       "        -1.61028339, -1.61031134, -1.61034609, -1.61038441, -1.61042807,\n",
       "        -1.61048771, -1.6105594 , -1.61064109, -1.61073144, -1.61083371,\n",
       "        -1.61095586, -1.61108294, -1.61121821, -1.61135684, -1.61149896,\n",
       "        -1.61164322, -1.61179114, -1.61194123, -1.61210515, -1.6122712 ,\n",
       "        -1.61244292, -1.61261871, -1.61280215, -1.61298601, -1.61317264,\n",
       "        -1.61336283, -1.61355718, -1.6137556 , -1.61396437, -1.61418731,\n",
       "        -1.61441758, -1.61464979, -1.61488113, -1.61511567, -1.61535289,\n",
       "        -1.61559724, -1.61584058, -1.6160911 , -1.61634459, -1.61660297,\n",
       "        -1.61686126, -1.61711965, -1.61738178, -1.61764284, -1.61790616,\n",
       "        -1.61817309, -1.61844201, -1.61871353, -1.61898715, -1.61925952,\n",
       "        -1.61953647, -1.61982043, -1.62010692, -1.62039282, -1.62068261,\n",
       "        -1.62097621, -1.62126941, -1.62156335, -1.62185953, -1.62215638,\n",
       "        -1.62245474, -1.62275196, -1.62304766, -1.6233424 , -1.62363982]),\n",
       " 'std_test_score': array([0.11603176, 0.11577991, 0.11558638, 0.11545631, 0.11536498,\n",
       "        0.11530207, 0.11526612, 0.11532268, 0.1153888 , 0.11545943,\n",
       "        0.11553483, 0.11560174, 0.11567028, 0.11572943, 0.1157882 ,\n",
       "        0.11585067, 0.11591656, 0.11598991, 0.11607107, 0.11615676,\n",
       "        0.1162473 , 0.11633049, 0.11641073, 0.11649462, 0.11657961,\n",
       "        0.1166541 , 0.11672765, 0.11680046, 0.11686659, 0.11693208,\n",
       "        0.11699731, 0.11706316, 0.11712896, 0.11719672, 0.11727181,\n",
       "        0.11735232, 0.11743098, 0.11750461, 0.11757857, 0.11765625,\n",
       "        0.11774499, 0.11784479, 0.11795309, 0.11805623, 0.11815081,\n",
       "        0.11824351, 0.1183408 , 0.11844307, 0.11854559, 0.11864932,\n",
       "        0.11875327, 0.11885786, 0.11896335, 0.11905942, 0.11915391,\n",
       "        0.11924882, 0.11934122, 0.11942868, 0.11951546, 0.11960168,\n",
       "        0.11968977, 0.11978071, 0.11987218, 0.11995925, 0.12004428,\n",
       "        0.1201381 , 0.12022743, 0.12031656, 0.12040602, 0.12049688,\n",
       "        0.12058126, 0.12066543, 0.12074623, 0.12082615, 0.12090048,\n",
       "        0.12097539, 0.12105183, 0.12112505, 0.12119811, 0.12127178,\n",
       "        0.12134843, 0.12142571, 0.12150208, 0.1215747 , 0.12164703,\n",
       "        0.12171087, 0.12177563, 0.12184312, 0.12191113, 0.12197555,\n",
       "        0.12203492, 0.12209409, 0.1221547 , 0.12221634, 0.12227691,\n",
       "        0.12233377, 0.12239035, 0.12244678, 0.12250349, 0.12256329]),\n",
       " 'rank_test_score': array([ 82,  78,  73,  69,  66,  62,  59,  56,  53,  50,  47,  44,  42,\n",
       "         40,  37,  35,  33,  31,  29,  27,  25,  23,  21,  19,  17,  15,\n",
       "         13,  11,   9,   7,   5,   3,   1,   2,   4,   6,   8,  10,  12,\n",
       "         14,  16,  18,  20,  22,  24,  26,  28,  30,  32,  34,  36,  38,\n",
       "         39,  41,  43,  45,  46,  48,  49,  51,  52,  54,  55,  57,  58,\n",
       "         60,  61,  63,  64,  65,  67,  68,  70,  71,  72,  74,  75,  76,\n",
       "         77,  79,  80,  81,  83,  84,  85,  86,  87,  88,  89,  90,  91,\n",
       "         92,  93,  94,  95,  96,  97,  98,  99, 100], dtype=int32)}"
      ]
     },
     "execution_count": 50,
     "metadata": {},
     "output_type": "execute_result"
    }
   ],
   "source": [
    "grid_search.cv_results_"
   ]
  },
  {
   "cell_type": "markdown",
   "metadata": {},
   "source": [
    " if you want you can now fit a ridge regression model with obtained value of alpha , although there is no need, grid search automatically fits the best estimator on the entire data, you can directly use this to make predictions on test_data. But if you want to look at coefficients , its much more convenient to fit the model with direct function"
   ]
  },
  {
   "cell_type": "markdown",
   "metadata": {},
   "source": [
    "Using the report function given below you can see the cv performance of top few models as well, that will the tentative performance"
   ]
  },
  {
   "cell_type": "code",
   "execution_count": 51,
   "metadata": {},
   "outputs": [],
   "source": [
    "def report(results, n_top=3):\n",
    "    for i in range(1, n_top + 1):\n",
    "        candidates = np.flatnonzero(results['rank_test_score'] == i)\n",
    "        for candidate in candidates:\n",
    "            print(\"Model with rank: {0}\".format(i))\n",
    "            print(\"Mean validation score: {0:.3f} (std: {1:.3f})\".format(\n",
    "                  results['mean_test_score'][candidate],\n",
    "                  results['std_test_score'][candidate]))\n",
    "            print(\"Parameters: {0}\".format(results['params'][candidate]))\n",
    "            print(\"\")"
   ]
  },
  {
   "cell_type": "code",
   "execution_count": 52,
   "metadata": {},
   "outputs": [
    {
     "name": "stdout",
     "output_type": "stream",
     "text": [
      "Model with rank: 1\n",
      "Mean validation score: -1.610 (std: 0.117)\n",
      "Parameters: {'alpha': 33.0}\n",
      "\n",
      "Model with rank: 2\n",
      "Mean validation score: -1.610 (std: 0.117)\n",
      "Parameters: {'alpha': 34.0}\n",
      "\n",
      "Model with rank: 3\n",
      "Mean validation score: -1.610 (std: 0.117)\n",
      "Parameters: {'alpha': 32.0}\n",
      "\n",
      "Model with rank: 4\n",
      "Mean validation score: -1.610 (std: 0.117)\n",
      "Parameters: {'alpha': 35.0}\n",
      "\n",
      "Model with rank: 5\n",
      "Mean validation score: -1.610 (std: 0.117)\n",
      "Parameters: {'alpha': 31.0}\n",
      "\n",
      "Model with rank: 6\n",
      "Mean validation score: -1.610 (std: 0.117)\n",
      "Parameters: {'alpha': 36.0}\n",
      "\n",
      "Model with rank: 7\n",
      "Mean validation score: -1.610 (std: 0.117)\n",
      "Parameters: {'alpha': 30.0}\n",
      "\n",
      "Model with rank: 8\n",
      "Mean validation score: -1.610 (std: 0.117)\n",
      "Parameters: {'alpha': 37.0}\n",
      "\n",
      "Model with rank: 9\n",
      "Mean validation score: -1.610 (std: 0.117)\n",
      "Parameters: {'alpha': 29.0}\n",
      "\n",
      "Model with rank: 10\n",
      "Mean validation score: -1.610 (std: 0.118)\n",
      "Parameters: {'alpha': 38.0}\n",
      "\n",
      "Model with rank: 11\n",
      "Mean validation score: -1.610 (std: 0.117)\n",
      "Parameters: {'alpha': 28.0}\n",
      "\n",
      "Model with rank: 12\n",
      "Mean validation score: -1.610 (std: 0.118)\n",
      "Parameters: {'alpha': 39.0}\n",
      "\n",
      "Model with rank: 13\n",
      "Mean validation score: -1.610 (std: 0.117)\n",
      "Parameters: {'alpha': 27.0}\n",
      "\n",
      "Model with rank: 14\n",
      "Mean validation score: -1.610 (std: 0.118)\n",
      "Parameters: {'alpha': 40.0}\n",
      "\n",
      "Model with rank: 15\n",
      "Mean validation score: -1.610 (std: 0.117)\n",
      "Parameters: {'alpha': 26.0}\n",
      "\n",
      "Model with rank: 16\n",
      "Mean validation score: -1.610 (std: 0.118)\n",
      "Parameters: {'alpha': 41.0}\n",
      "\n",
      "Model with rank: 17\n",
      "Mean validation score: -1.611 (std: 0.117)\n",
      "Parameters: {'alpha': 25.0}\n",
      "\n",
      "Model with rank: 18\n",
      "Mean validation score: -1.611 (std: 0.118)\n",
      "Parameters: {'alpha': 42.0}\n",
      "\n",
      "Model with rank: 19\n",
      "Mean validation score: -1.611 (std: 0.116)\n",
      "Parameters: {'alpha': 24.0}\n",
      "\n",
      "Model with rank: 20\n",
      "Mean validation score: -1.611 (std: 0.118)\n",
      "Parameters: {'alpha': 43.0}\n",
      "\n",
      "Model with rank: 21\n",
      "Mean validation score: -1.611 (std: 0.116)\n",
      "Parameters: {'alpha': 23.0}\n",
      "\n",
      "Model with rank: 22\n",
      "Mean validation score: -1.611 (std: 0.118)\n",
      "Parameters: {'alpha': 44.0}\n",
      "\n",
      "Model with rank: 23\n",
      "Mean validation score: -1.611 (std: 0.116)\n",
      "Parameters: {'alpha': 22.0}\n",
      "\n",
      "Model with rank: 24\n",
      "Mean validation score: -1.611 (std: 0.118)\n",
      "Parameters: {'alpha': 45.0}\n",
      "\n",
      "Model with rank: 25\n",
      "Mean validation score: -1.611 (std: 0.116)\n",
      "Parameters: {'alpha': 21.0}\n",
      "\n",
      "Model with rank: 26\n",
      "Mean validation score: -1.611 (std: 0.118)\n",
      "Parameters: {'alpha': 46.0}\n",
      "\n",
      "Model with rank: 27\n",
      "Mean validation score: -1.611 (std: 0.116)\n",
      "Parameters: {'alpha': 20.0}\n",
      "\n",
      "Model with rank: 28\n",
      "Mean validation score: -1.611 (std: 0.118)\n",
      "Parameters: {'alpha': 47.0}\n",
      "\n",
      "Model with rank: 29\n",
      "Mean validation score: -1.611 (std: 0.116)\n",
      "Parameters: {'alpha': 19.0}\n",
      "\n",
      "Model with rank: 30\n",
      "Mean validation score: -1.611 (std: 0.118)\n",
      "Parameters: {'alpha': 48.0}\n",
      "\n",
      "Model with rank: 31\n",
      "Mean validation score: -1.611 (std: 0.116)\n",
      "Parameters: {'alpha': 18.0}\n",
      "\n",
      "Model with rank: 32\n",
      "Mean validation score: -1.611 (std: 0.119)\n",
      "Parameters: {'alpha': 49.0}\n",
      "\n",
      "Model with rank: 33\n",
      "Mean validation score: -1.611 (std: 0.116)\n",
      "Parameters: {'alpha': 17.0}\n",
      "\n",
      "Model with rank: 34\n",
      "Mean validation score: -1.611 (std: 0.119)\n",
      "Parameters: {'alpha': 50.0}\n",
      "\n",
      "Model with rank: 35\n",
      "Mean validation score: -1.612 (std: 0.116)\n",
      "Parameters: {'alpha': 16.0}\n",
      "\n",
      "Model with rank: 36\n",
      "Mean validation score: -1.612 (std: 0.119)\n",
      "Parameters: {'alpha': 51.0}\n",
      "\n",
      "Model with rank: 37\n",
      "Mean validation score: -1.612 (std: 0.116)\n",
      "Parameters: {'alpha': 15.0}\n",
      "\n",
      "Model with rank: 38\n",
      "Mean validation score: -1.612 (std: 0.119)\n",
      "Parameters: {'alpha': 52.0}\n",
      "\n",
      "Model with rank: 39\n",
      "Mean validation score: -1.612 (std: 0.119)\n",
      "Parameters: {'alpha': 53.0}\n",
      "\n",
      "Model with rank: 40\n",
      "Mean validation score: -1.612 (std: 0.116)\n",
      "Parameters: {'alpha': 14.0}\n",
      "\n",
      "Model with rank: 41\n",
      "Mean validation score: -1.612 (std: 0.119)\n",
      "Parameters: {'alpha': 54.0}\n",
      "\n",
      "Model with rank: 42\n",
      "Mean validation score: -1.612 (std: 0.116)\n",
      "Parameters: {'alpha': 13.0}\n",
      "\n",
      "Model with rank: 43\n",
      "Mean validation score: -1.612 (std: 0.119)\n",
      "Parameters: {'alpha': 55.0}\n",
      "\n",
      "Model with rank: 44\n",
      "Mean validation score: -1.612 (std: 0.116)\n",
      "Parameters: {'alpha': 12.0}\n",
      "\n",
      "Model with rank: 45\n",
      "Mean validation score: -1.612 (std: 0.119)\n",
      "Parameters: {'alpha': 56.0}\n",
      "\n",
      "Model with rank: 46\n",
      "Mean validation score: -1.613 (std: 0.119)\n",
      "Parameters: {'alpha': 57.0}\n",
      "\n",
      "Model with rank: 47\n",
      "Mean validation score: -1.613 (std: 0.116)\n",
      "Parameters: {'alpha': 11.0}\n",
      "\n",
      "Model with rank: 48\n",
      "Mean validation score: -1.613 (std: 0.119)\n",
      "Parameters: {'alpha': 58.0}\n",
      "\n",
      "Model with rank: 49\n",
      "Mean validation score: -1.613 (std: 0.120)\n",
      "Parameters: {'alpha': 59.0}\n",
      "\n",
      "Model with rank: 50\n",
      "Mean validation score: -1.613 (std: 0.115)\n",
      "Parameters: {'alpha': 10.0}\n",
      "\n",
      "Model with rank: 51\n",
      "Mean validation score: -1.613 (std: 0.120)\n",
      "Parameters: {'alpha': 60.0}\n",
      "\n",
      "Model with rank: 52\n",
      "Mean validation score: -1.613 (std: 0.120)\n",
      "Parameters: {'alpha': 61.0}\n",
      "\n",
      "Model with rank: 53\n",
      "Mean validation score: -1.613 (std: 0.115)\n",
      "Parameters: {'alpha': 9.0}\n",
      "\n",
      "Model with rank: 54\n",
      "Mean validation score: -1.614 (std: 0.120)\n",
      "Parameters: {'alpha': 62.0}\n",
      "\n",
      "Model with rank: 55\n",
      "Mean validation score: -1.614 (std: 0.120)\n",
      "Parameters: {'alpha': 63.0}\n",
      "\n",
      "Model with rank: 56\n",
      "Mean validation score: -1.614 (std: 0.115)\n",
      "Parameters: {'alpha': 8.0}\n",
      "\n",
      "Model with rank: 57\n",
      "Mean validation score: -1.614 (std: 0.120)\n",
      "Parameters: {'alpha': 64.0}\n",
      "\n",
      "Model with rank: 58\n",
      "Mean validation score: -1.614 (std: 0.120)\n",
      "Parameters: {'alpha': 65.0}\n",
      "\n",
      "Model with rank: 59\n",
      "Mean validation score: -1.614 (std: 0.115)\n",
      "Parameters: {'alpha': 7.0}\n",
      "\n",
      "Model with rank: 60\n",
      "Mean validation score: -1.614 (std: 0.120)\n",
      "Parameters: {'alpha': 66.0}\n",
      "\n",
      "Model with rank: 61\n",
      "Mean validation score: -1.615 (std: 0.120)\n",
      "Parameters: {'alpha': 67.0}\n",
      "\n",
      "Model with rank: 62\n",
      "Mean validation score: -1.615 (std: 0.115)\n",
      "Parameters: {'alpha': 6.0}\n",
      "\n",
      "Model with rank: 63\n",
      "Mean validation score: -1.615 (std: 0.120)\n",
      "Parameters: {'alpha': 68.0}\n",
      "\n",
      "Model with rank: 64\n",
      "Mean validation score: -1.615 (std: 0.120)\n",
      "Parameters: {'alpha': 69.0}\n",
      "\n",
      "Model with rank: 65\n",
      "Mean validation score: -1.615 (std: 0.120)\n",
      "Parameters: {'alpha': 70.0}\n",
      "\n",
      "Model with rank: 66\n",
      "Mean validation score: -1.615 (std: 0.115)\n",
      "Parameters: {'alpha': 5.0}\n",
      "\n",
      "Model with rank: 67\n",
      "Mean validation score: -1.616 (std: 0.121)\n",
      "Parameters: {'alpha': 71.0}\n",
      "\n",
      "Model with rank: 68\n",
      "Mean validation score: -1.616 (std: 0.121)\n",
      "Parameters: {'alpha': 72.0}\n",
      "\n",
      "Model with rank: 69\n",
      "Mean validation score: -1.616 (std: 0.115)\n",
      "Parameters: {'alpha': 4.0}\n",
      "\n",
      "Model with rank: 70\n",
      "Mean validation score: -1.616 (std: 0.121)\n",
      "Parameters: {'alpha': 73.0}\n",
      "\n",
      "Model with rank: 71\n",
      "Mean validation score: -1.616 (std: 0.121)\n",
      "Parameters: {'alpha': 74.0}\n",
      "\n",
      "Model with rank: 72\n",
      "Mean validation score: -1.617 (std: 0.121)\n",
      "Parameters: {'alpha': 75.0}\n",
      "\n",
      "Model with rank: 73\n",
      "Mean validation score: -1.617 (std: 0.116)\n",
      "Parameters: {'alpha': 3.0}\n",
      "\n",
      "Model with rank: 74\n",
      "Mean validation score: -1.617 (std: 0.121)\n",
      "Parameters: {'alpha': 76.0}\n",
      "\n",
      "Model with rank: 75\n",
      "Mean validation score: -1.617 (std: 0.121)\n",
      "Parameters: {'alpha': 77.0}\n",
      "\n",
      "Model with rank: 76\n",
      "Mean validation score: -1.617 (std: 0.121)\n",
      "Parameters: {'alpha': 78.0}\n",
      "\n",
      "Model with rank: 77\n",
      "Mean validation score: -1.618 (std: 0.121)\n",
      "Parameters: {'alpha': 79.0}\n",
      "\n",
      "Model with rank: 78\n",
      "Mean validation score: -1.618 (std: 0.116)\n",
      "Parameters: {'alpha': 2.0}\n",
      "\n",
      "Model with rank: 79\n",
      "Mean validation score: -1.618 (std: 0.121)\n",
      "Parameters: {'alpha': 80.0}\n",
      "\n",
      "Model with rank: 80\n",
      "Mean validation score: -1.618 (std: 0.121)\n",
      "Parameters: {'alpha': 81.0}\n",
      "\n",
      "Model with rank: 81\n",
      "Mean validation score: -1.618 (std: 0.121)\n",
      "Parameters: {'alpha': 82.0}\n",
      "\n",
      "Model with rank: 82\n",
      "Mean validation score: -1.619 (std: 0.116)\n",
      "Parameters: {'alpha': 1.0}\n",
      "\n",
      "Model with rank: 83\n",
      "Mean validation score: -1.619 (std: 0.122)\n",
      "Parameters: {'alpha': 83.0}\n",
      "\n",
      "Model with rank: 84\n",
      "Mean validation score: -1.619 (std: 0.122)\n",
      "Parameters: {'alpha': 84.0}\n",
      "\n",
      "Model with rank: 85\n",
      "Mean validation score: -1.619 (std: 0.122)\n",
      "Parameters: {'alpha': 85.0}\n",
      "\n",
      "Model with rank: 86\n",
      "Mean validation score: -1.620 (std: 0.122)\n",
      "Parameters: {'alpha': 86.0}\n",
      "\n",
      "Model with rank: 87\n",
      "Mean validation score: -1.620 (std: 0.122)\n",
      "Parameters: {'alpha': 87.0}\n",
      "\n",
      "Model with rank: 88\n",
      "Mean validation score: -1.620 (std: 0.122)\n",
      "Parameters: {'alpha': 88.0}\n",
      "\n",
      "Model with rank: 89\n",
      "Mean validation score: -1.620 (std: 0.122)\n",
      "Parameters: {'alpha': 89.0}\n",
      "\n",
      "Model with rank: 90\n",
      "Mean validation score: -1.621 (std: 0.122)\n",
      "Parameters: {'alpha': 90.0}\n",
      "\n",
      "Model with rank: 91\n",
      "Mean validation score: -1.621 (std: 0.122)\n",
      "Parameters: {'alpha': 91.0}\n",
      "\n",
      "Model with rank: 92\n",
      "Mean validation score: -1.621 (std: 0.122)\n",
      "Parameters: {'alpha': 92.0}\n",
      "\n",
      "Model with rank: 93\n",
      "Mean validation score: -1.622 (std: 0.122)\n",
      "Parameters: {'alpha': 93.0}\n",
      "\n",
      "Model with rank: 94\n",
      "Mean validation score: -1.622 (std: 0.122)\n",
      "Parameters: {'alpha': 94.0}\n",
      "\n",
      "Model with rank: 95\n",
      "Mean validation score: -1.622 (std: 0.122)\n",
      "Parameters: {'alpha': 95.0}\n",
      "\n",
      "Model with rank: 96\n",
      "Mean validation score: -1.622 (std: 0.122)\n",
      "Parameters: {'alpha': 96.0}\n",
      "\n",
      "Model with rank: 97\n",
      "Mean validation score: -1.623 (std: 0.122)\n",
      "Parameters: {'alpha': 97.0}\n",
      "\n",
      "Model with rank: 98\n",
      "Mean validation score: -1.623 (std: 0.122)\n",
      "Parameters: {'alpha': 98.0}\n",
      "\n",
      "Model with rank: 99\n",
      "Mean validation score: -1.623 (std: 0.123)\n",
      "Parameters: {'alpha': 99.0}\n",
      "\n",
      "Model with rank: 100\n",
      "Mean validation score: -1.624 (std: 0.123)\n",
      "Parameters: {'alpha': 100.0}\n",
      "\n"
     ]
    }
   ],
   "source": [
    "report(grid_search.cv_results_,100)"
   ]
  },
  {
   "cell_type": "code",
   "execution_count": 53,
   "metadata": {},
   "outputs": [],
   "source": [
    "test_pred=grid_search.predict(ld_test)"
   ]
  },
  {
   "cell_type": "code",
   "execution_count": 54,
   "metadata": {},
   "outputs": [],
   "source": [
    "pd.DataFrame(test_pred).to_csv(\"mysubmission.csv\",index=False)"
   ]
  },
  {
   "cell_type": "markdown",
   "metadata": {
    "collapsed": true
   },
   "source": [
    "## For looking at coefficients"
   ]
  },
  {
   "cell_type": "code",
   "execution_count": 55,
   "metadata": {},
   "outputs": [],
   "source": [
    "ridge_model=grid_search.best_estimator_"
   ]
  },
  {
   "cell_type": "code",
   "execution_count": 56,
   "metadata": {},
   "outputs": [
    {
     "data": {
      "text/plain": [
       "Ridge(alpha=33.0, copy_X=True, fit_intercept=True, max_iter=None,\n",
       "      normalize=False, random_state=None, solver='auto', tol=0.001)"
      ]
     },
     "execution_count": 56,
     "metadata": {},
     "output_type": "execute_result"
    }
   ],
   "source": [
    "ridge_model.fit(x_train,y_train)"
   ]
  },
  {
   "cell_type": "code",
   "execution_count": 57,
   "metadata": {},
   "outputs": [
    {
     "data": {
      "text/plain": [
       "[('Amount.Requested', 0.00016694728491458563),\n",
       " ('Debt.To.Income.Ratio', -0.0012318165592272812),\n",
       " ('Monthly.Income', -2.958745941066143e-05),\n",
       " ('Open.CREDIT.Lines', -0.036844456548317195),\n",
       " ('Revolving.CREDIT.Balance', -3.0298763520014647e-06),\n",
       " ('Inquiries.in.the.Last.6.Months', 0.34256440527076776),\n",
       " ('Employment.Length', 0.019386236424857758),\n",
       " ('fico', -0.0866470894033935),\n",
       " ('Loan.Length_36 months', -2.8391539157194545),\n",
       " ('Loan.Purpose_debt_consolidation', -0.37224429580381174),\n",
       " ('Loan.Purpose_credit_card', -0.4669643121927723),\n",
       " ('Loan.Purpose_other', 0.37826730338506587),\n",
       " ('Loan.Purpose_home_improvement', -0.23409022842016053),\n",
       " ('Loan.Purpose_major_purchase', -0.013616976256589884),\n",
       " ('Loan.Purpose_small_business', 0.08759197675127452),\n",
       " ('Loan.Purpose_car', -0.03257553103244007),\n",
       " ('Loan.Purpose_wedding', -0.3347599518867084),\n",
       " ('Loan.Purpose_medical', -0.09809622633427419),\n",
       " ('Loan.Purpose_moving', 0.46418890336399576),\n",
       " ('State_CA', -0.09953195660418734),\n",
       " ('State_NY', -0.05010586258365044),\n",
       " ('State_TX', 0.4246877237607747),\n",
       " ('State_FL', 0.019156225627726883),\n",
       " ('State_IL', -0.35516156308015384),\n",
       " ('State_GA', -0.08937978986862502),\n",
       " ('State_PA', -0.2884488285398782),\n",
       " ('State_NJ', -0.2158260035578721),\n",
       " ('State_VA', -0.0068205341186680256),\n",
       " ('State_MA', -0.021151484211526666),\n",
       " ('State_OH', -0.13837526923960863),\n",
       " ('State_MD', 0.0074043188758405225),\n",
       " ('State_NC', -0.250552990250435),\n",
       " ('State_CO', 0.08955252000003118),\n",
       " ('State_WA', -0.0932608015225566),\n",
       " ('State_CT', 0.2487011005044037),\n",
       " ('State_AZ', 0.2753625745253661),\n",
       " ('State_MI', -0.007178475477557746),\n",
       " ('State_AL', 0.009932143762134246),\n",
       " ('State_MN', -0.047041779455303925),\n",
       " ('State_MO', -0.12622562059305956),\n",
       " ('State_NV', -0.01649166255728207),\n",
       " ('State_OR', 0.042979132776075735),\n",
       " ('State_SC', 0.00610011793845434),\n",
       " ('State_WI', 0.06329473893294685),\n",
       " ('State_KY', 0.06769778677841294),\n",
       " ('State_LA', 0.10832206261195172),\n",
       " ('State_OK', -0.09254255640581448),\n",
       " ('Home.Ownership_MORTGAGE', -0.305146341684624),\n",
       " ('Home.Ownership_RENT', -0.09822137961739777)]"
      ]
     },
     "execution_count": 57,
     "metadata": {},
     "output_type": "execute_result"
    }
   ],
   "source": [
    "list(zip(x_train1.columns,ridge_model.coef_))"
   ]
  },
  {
   "cell_type": "markdown",
   "metadata": {},
   "source": [
    "## Lasso Regression"
   ]
  },
  {
   "cell_type": "code",
   "execution_count": 58,
   "metadata": {},
   "outputs": [],
   "source": [
    "lambdas=np.linspace(1,10,100)\n",
    "model=Lasso(fit_intercept=True)\n",
    "params={'alpha':lambdas}"
   ]
  },
  {
   "cell_type": "code",
   "execution_count": 59,
   "metadata": {},
   "outputs": [],
   "source": [
    "grid_search=GridSearchCV(model,param_grid=params,cv=10,scoring='neg_mean_absolute_error')"
   ]
  },
  {
   "cell_type": "code",
   "execution_count": 60,
   "metadata": {},
   "outputs": [
    {
     "data": {
      "text/plain": [
       "GridSearchCV(cv=10, error_score='raise-deprecating',\n",
       "             estimator=Lasso(alpha=1.0, copy_X=True, fit_intercept=True,\n",
       "                             max_iter=1000, normalize=False, positive=False,\n",
       "                             precompute=False, random_state=None,\n",
       "                             selection='cyclic', tol=0.0001, warm_start=False),\n",
       "             iid='warn', n_jobs=None,\n",
       "             param_grid={'alpha': array([ 1.        ,  1.09090909,  1.18181818,  1.27272727,  1.36363636,\n",
       "        1.45454545,  1.5454...\n",
       "        7.81818182,  7.90909091,  8.        ,  8.09090909,  8.18181818,\n",
       "        8.27272727,  8.36363636,  8.45454545,  8.54545455,  8.63636364,\n",
       "        8.72727273,  8.81818182,  8.90909091,  9.        ,  9.09090909,\n",
       "        9.18181818,  9.27272727,  9.36363636,  9.45454545,  9.54545455,\n",
       "        9.63636364,  9.72727273,  9.81818182,  9.90909091, 10.        ])},\n",
       "             pre_dispatch='2*n_jobs', refit=True, return_train_score=False,\n",
       "             scoring='neg_mean_absolute_error', verbose=0)"
      ]
     },
     "execution_count": 60,
     "metadata": {},
     "output_type": "execute_result"
    }
   ],
   "source": [
    "grid_search.fit(x_train,y_train)"
   ]
  },
  {
   "cell_type": "code",
   "execution_count": 61,
   "metadata": {},
   "outputs": [
    {
     "data": {
      "text/plain": [
       "Lasso(alpha=1.0, copy_X=True, fit_intercept=True, max_iter=1000,\n",
       "      normalize=False, positive=False, precompute=False, random_state=None,\n",
       "      selection='cyclic', tol=0.0001, warm_start=False)"
      ]
     },
     "execution_count": 61,
     "metadata": {},
     "output_type": "execute_result"
    }
   ],
   "source": [
    "grid_search.best_estimator_"
   ]
  },
  {
   "cell_type": "markdown",
   "metadata": {},
   "source": [
    "you can see that, the best value of alpha comes at the edge of the range that we tried , we should expand the trial range on that side and run this again"
   ]
  },
  {
   "cell_type": "code",
   "execution_count": 62,
   "metadata": {},
   "outputs": [],
   "source": [
    "lambdas=np.linspace(.001,2,100)\n",
    "params={'alpha':lambdas}"
   ]
  },
  {
   "cell_type": "code",
   "execution_count": 63,
   "metadata": {},
   "outputs": [
    {
     "data": {
      "text/plain": [
       "GridSearchCV(cv=10, error_score='raise-deprecating',\n",
       "             estimator=Lasso(alpha=1.0, copy_X=True, fit_intercept=True,\n",
       "                             max_iter=1000, normalize=False, positive=False,\n",
       "                             precompute=False, random_state=None,\n",
       "                             selection='cyclic', tol=0.0001, warm_start=False),\n",
       "             iid='warn', n_jobs=None,\n",
       "             param_grid={'alpha': array([1.00000000e-03, 2.11919192e-02, 4.13838384e-02, 6.15757576e-02,\n",
       "       8.17...\n",
       "       1.61635354e+00, 1.63654545e+00, 1.65673737e+00, 1.67692929e+00,\n",
       "       1.69712121e+00, 1.71731313e+00, 1.73750505e+00, 1.75769697e+00,\n",
       "       1.77788889e+00, 1.79808081e+00, 1.81827273e+00, 1.83846465e+00,\n",
       "       1.85865657e+00, 1.87884848e+00, 1.89904040e+00, 1.91923232e+00,\n",
       "       1.93942424e+00, 1.95961616e+00, 1.97980808e+00, 2.00000000e+00])},\n",
       "             pre_dispatch='2*n_jobs', refit=True, return_train_score=False,\n",
       "             scoring='neg_mean_absolute_error', verbose=0)"
      ]
     },
     "execution_count": 63,
     "metadata": {},
     "output_type": "execute_result"
    }
   ],
   "source": [
    "grid_search=GridSearchCV(model,param_grid=params,cv=10,scoring='neg_mean_absolute_error')\n",
    "grid_search.fit(x_train,y_train)"
   ]
  },
  {
   "cell_type": "code",
   "execution_count": 64,
   "metadata": {},
   "outputs": [
    {
     "data": {
      "text/plain": [
       "Lasso(alpha=0.021191919191919192, copy_X=True, fit_intercept=True,\n",
       "      max_iter=1000, normalize=False, positive=False, precompute=False,\n",
       "      random_state=None, selection='cyclic', tol=0.0001, warm_start=False)"
      ]
     },
     "execution_count": 64,
     "metadata": {},
     "output_type": "execute_result"
    }
   ],
   "source": [
    "grid_search.best_estimator_"
   ]
  },
  {
   "cell_type": "code",
   "execution_count": 65,
   "metadata": {},
   "outputs": [
    {
     "name": "stdout",
     "output_type": "stream",
     "text": [
      "Model with rank: 1\n",
      "Mean validation score: -1.603 (std: 0.120)\n",
      "Parameters: {'alpha': 0.021191919191919192}\n",
      "\n",
      "Model with rank: 2\n",
      "Mean validation score: -1.612 (std: 0.126)\n",
      "Parameters: {'alpha': 0.041383838383838384}\n",
      "\n",
      "Model with rank: 3\n",
      "Mean validation score: -1.615 (std: 0.116)\n",
      "Parameters: {'alpha': 0.001}\n",
      "\n",
      "Model with rank: 4\n",
      "Mean validation score: -1.619 (std: 0.127)\n",
      "Parameters: {'alpha': 0.061575757575757575}\n",
      "\n",
      "Model with rank: 5\n",
      "Mean validation score: -1.624 (std: 0.128)\n",
      "Parameters: {'alpha': 0.08176767676767677}\n",
      "\n"
     ]
    }
   ],
   "source": [
    "report(grid_search.cv_results_,5)"
   ]
  },
  {
   "cell_type": "code",
   "execution_count": 66,
   "metadata": {},
   "outputs": [],
   "source": [
    "lasso_model=grid_search.best_estimator_"
   ]
  },
  {
   "cell_type": "code",
   "execution_count": 67,
   "metadata": {},
   "outputs": [
    {
     "data": {
      "text/plain": [
       "Lasso(alpha=0.021191919191919192, copy_X=True, fit_intercept=True,\n",
       "      max_iter=1000, normalize=False, positive=False, precompute=False,\n",
       "      random_state=None, selection='cyclic', tol=0.0001, warm_start=False)"
      ]
     },
     "execution_count": 67,
     "metadata": {},
     "output_type": "execute_result"
    }
   ],
   "source": [
    "lasso_model.fit(x_train,y_train)"
   ]
  },
  {
   "cell_type": "code",
   "execution_count": 68,
   "metadata": {},
   "outputs": [
    {
     "data": {
      "text/plain": [
       "[('Amount.Requested', 0.00016025576388069374),\n",
       " ('Debt.To.Income.Ratio', -0.00099404553350864),\n",
       " ('Monthly.Income', -2.7161150694601464e-05),\n",
       " ('Open.CREDIT.Lines', -0.037760669422682566),\n",
       " ('Revolving.CREDIT.Balance', -3.229158290234788e-06),\n",
       " ('Inquiries.in.the.Last.6.Months', 0.32734647665538585),\n",
       " ('Employment.Length', 0.011883001638602748),\n",
       " ('fico', -0.08647817945138424),\n",
       " ('Loan.Length_36 months', -3.009893274484663),\n",
       " ('Loan.Purpose_debt_consolidation', -0.17801822304251222),\n",
       " ('Loan.Purpose_credit_card', -0.2205326921338361),\n",
       " ('Loan.Purpose_other', 0.3196217853383156),\n",
       " ('Loan.Purpose_home_improvement', -0.0),\n",
       " ('Loan.Purpose_major_purchase', 0.0),\n",
       " ('Loan.Purpose_small_business', 0.0),\n",
       " ('Loan.Purpose_car', 0.0),\n",
       " ('Loan.Purpose_wedding', -0.0),\n",
       " ('Loan.Purpose_medical', -0.0),\n",
       " ('Loan.Purpose_moving', 0.0),\n",
       " ('State_CA', -0.0),\n",
       " ('State_NY', 0.0),\n",
       " ('State_TX', 0.2592516325019153),\n",
       " ('State_FL', 0.0),\n",
       " ('State_IL', -0.0),\n",
       " ('State_GA', -0.0),\n",
       " ('State_PA', -0.0),\n",
       " ('State_NJ', -0.0),\n",
       " ('State_VA', 0.0),\n",
       " ('State_MA', 0.0),\n",
       " ('State_OH', -0.0),\n",
       " ('State_MD', 0.0),\n",
       " ('State_NC', -0.0),\n",
       " ('State_CO', 0.0),\n",
       " ('State_WA', -0.0),\n",
       " ('State_CT', 0.0),\n",
       " ('State_AZ', 0.0),\n",
       " ('State_MI', 0.0),\n",
       " ('State_AL', 0.0),\n",
       " ('State_MN', -0.0),\n",
       " ('State_MO', -0.0),\n",
       " ('State_NV', 0.0),\n",
       " ('State_OR', 0.0),\n",
       " ('State_SC', 0.0),\n",
       " ('State_WI', 0.0),\n",
       " ('State_KY', 0.0),\n",
       " ('State_LA', 0.0),\n",
       " ('State_OK', -0.0),\n",
       " ('Home.Ownership_MORTGAGE', -0.1559877775011339),\n",
       " ('Home.Ownership_RENT', 0.0)]"
      ]
     },
     "execution_count": 68,
     "metadata": {},
     "output_type": "execute_result"
    }
   ],
   "source": [
    "list(zip(x_train.columns,lasso_model.coef_))"
   ]
  },
  {
   "cell_type": "markdown",
   "metadata": {
    "collapsed": true
   },
   "source": [
    "# Logistic Regression"
   ]
  },
  {
   "cell_type": "code",
   "execution_count": 69,
   "metadata": {},
   "outputs": [],
   "source": [
    "import numpy as np\n",
    "import pandas as pd"
   ]
  },
  {
   "cell_type": "code",
   "execution_count": 70,
   "metadata": {},
   "outputs": [
    {
     "ename": "FileNotFoundError",
     "evalue": "File b'/home/dell/Dropbox/0.0 Data/rg_train.csv' does not exist",
     "output_type": "error",
     "traceback": [
      "\u001b[0;31m---------------------------------------------------------------------------\u001b[0m",
      "\u001b[0;31mFileNotFoundError\u001b[0m                         Traceback (most recent call last)",
      "\u001b[0;32m<ipython-input-70-c3c511495c3e>\u001b[0m in \u001b[0;36m<module>\u001b[0;34m\u001b[0m\n\u001b[1;32m      1\u001b[0m \u001b[0mtrain_file\u001b[0m\u001b[0;34m=\u001b[0m\u001b[0;34mr'~/Dropbox/0.0 Data/rg_train.csv'\u001b[0m\u001b[0;34m\u001b[0m\u001b[0;34m\u001b[0m\u001b[0m\n\u001b[1;32m      2\u001b[0m \u001b[0mtest_file\u001b[0m\u001b[0;34m=\u001b[0m\u001b[0;34mr'~/Dropbox/0.0 Data/rg_test.csv'\u001b[0m\u001b[0;34m\u001b[0m\u001b[0;34m\u001b[0m\u001b[0m\n\u001b[0;32m----> 3\u001b[0;31m \u001b[0mbd_train\u001b[0m\u001b[0;34m=\u001b[0m\u001b[0mpd\u001b[0m\u001b[0;34m.\u001b[0m\u001b[0mread_csv\u001b[0m\u001b[0;34m(\u001b[0m\u001b[0mtrain_file\u001b[0m\u001b[0;34m)\u001b[0m\u001b[0;34m\u001b[0m\u001b[0;34m\u001b[0m\u001b[0m\n\u001b[0m\u001b[1;32m      4\u001b[0m \u001b[0;34m\u001b[0m\u001b[0m\n\u001b[1;32m      5\u001b[0m \u001b[0mbd_test\u001b[0m\u001b[0;34m=\u001b[0m\u001b[0mpd\u001b[0m\u001b[0;34m.\u001b[0m\u001b[0mread_csv\u001b[0m\u001b[0;34m(\u001b[0m\u001b[0mtest_file\u001b[0m\u001b[0;34m)\u001b[0m\u001b[0;34m\u001b[0m\u001b[0;34m\u001b[0m\u001b[0m\n",
      "\u001b[0;32m~/anaconda3/lib/python3.7/site-packages/pandas/io/parsers.py\u001b[0m in \u001b[0;36mparser_f\u001b[0;34m(filepath_or_buffer, sep, delimiter, header, names, index_col, usecols, squeeze, prefix, mangle_dupe_cols, dtype, engine, converters, true_values, false_values, skipinitialspace, skiprows, nrows, na_values, keep_default_na, na_filter, verbose, skip_blank_lines, parse_dates, infer_datetime_format, keep_date_col, date_parser, dayfirst, iterator, chunksize, compression, thousands, decimal, lineterminator, quotechar, quoting, escapechar, comment, encoding, dialect, tupleize_cols, error_bad_lines, warn_bad_lines, skipfooter, doublequote, delim_whitespace, low_memory, memory_map, float_precision)\u001b[0m\n\u001b[1;32m    676\u001b[0m                     skip_blank_lines=skip_blank_lines)\n\u001b[1;32m    677\u001b[0m \u001b[0;34m\u001b[0m\u001b[0m\n\u001b[0;32m--> 678\u001b[0;31m         \u001b[0;32mreturn\u001b[0m \u001b[0m_read\u001b[0m\u001b[0;34m(\u001b[0m\u001b[0mfilepath_or_buffer\u001b[0m\u001b[0;34m,\u001b[0m \u001b[0mkwds\u001b[0m\u001b[0;34m)\u001b[0m\u001b[0;34m\u001b[0m\u001b[0;34m\u001b[0m\u001b[0m\n\u001b[0m\u001b[1;32m    679\u001b[0m \u001b[0;34m\u001b[0m\u001b[0m\n\u001b[1;32m    680\u001b[0m     \u001b[0mparser_f\u001b[0m\u001b[0;34m.\u001b[0m\u001b[0m__name__\u001b[0m \u001b[0;34m=\u001b[0m \u001b[0mname\u001b[0m\u001b[0;34m\u001b[0m\u001b[0;34m\u001b[0m\u001b[0m\n",
      "\u001b[0;32m~/anaconda3/lib/python3.7/site-packages/pandas/io/parsers.py\u001b[0m in \u001b[0;36m_read\u001b[0;34m(filepath_or_buffer, kwds)\u001b[0m\n\u001b[1;32m    438\u001b[0m \u001b[0;34m\u001b[0m\u001b[0m\n\u001b[1;32m    439\u001b[0m     \u001b[0;31m# Create the parser.\u001b[0m\u001b[0;34m\u001b[0m\u001b[0;34m\u001b[0m\u001b[0;34m\u001b[0m\u001b[0m\n\u001b[0;32m--> 440\u001b[0;31m     \u001b[0mparser\u001b[0m \u001b[0;34m=\u001b[0m \u001b[0mTextFileReader\u001b[0m\u001b[0;34m(\u001b[0m\u001b[0mfilepath_or_buffer\u001b[0m\u001b[0;34m,\u001b[0m \u001b[0;34m**\u001b[0m\u001b[0mkwds\u001b[0m\u001b[0;34m)\u001b[0m\u001b[0;34m\u001b[0m\u001b[0;34m\u001b[0m\u001b[0m\n\u001b[0m\u001b[1;32m    441\u001b[0m \u001b[0;34m\u001b[0m\u001b[0m\n\u001b[1;32m    442\u001b[0m     \u001b[0;32mif\u001b[0m \u001b[0mchunksize\u001b[0m \u001b[0;32mor\u001b[0m \u001b[0miterator\u001b[0m\u001b[0;34m:\u001b[0m\u001b[0;34m\u001b[0m\u001b[0;34m\u001b[0m\u001b[0m\n",
      "\u001b[0;32m~/anaconda3/lib/python3.7/site-packages/pandas/io/parsers.py\u001b[0m in \u001b[0;36m__init__\u001b[0;34m(self, f, engine, **kwds)\u001b[0m\n\u001b[1;32m    785\u001b[0m             \u001b[0mself\u001b[0m\u001b[0;34m.\u001b[0m\u001b[0moptions\u001b[0m\u001b[0;34m[\u001b[0m\u001b[0;34m'has_index_names'\u001b[0m\u001b[0;34m]\u001b[0m \u001b[0;34m=\u001b[0m \u001b[0mkwds\u001b[0m\u001b[0;34m[\u001b[0m\u001b[0;34m'has_index_names'\u001b[0m\u001b[0;34m]\u001b[0m\u001b[0;34m\u001b[0m\u001b[0;34m\u001b[0m\u001b[0m\n\u001b[1;32m    786\u001b[0m \u001b[0;34m\u001b[0m\u001b[0m\n\u001b[0;32m--> 787\u001b[0;31m         \u001b[0mself\u001b[0m\u001b[0;34m.\u001b[0m\u001b[0m_make_engine\u001b[0m\u001b[0;34m(\u001b[0m\u001b[0mself\u001b[0m\u001b[0;34m.\u001b[0m\u001b[0mengine\u001b[0m\u001b[0;34m)\u001b[0m\u001b[0;34m\u001b[0m\u001b[0;34m\u001b[0m\u001b[0m\n\u001b[0m\u001b[1;32m    788\u001b[0m \u001b[0;34m\u001b[0m\u001b[0m\n\u001b[1;32m    789\u001b[0m     \u001b[0;32mdef\u001b[0m \u001b[0mclose\u001b[0m\u001b[0;34m(\u001b[0m\u001b[0mself\u001b[0m\u001b[0;34m)\u001b[0m\u001b[0;34m:\u001b[0m\u001b[0;34m\u001b[0m\u001b[0;34m\u001b[0m\u001b[0m\n",
      "\u001b[0;32m~/anaconda3/lib/python3.7/site-packages/pandas/io/parsers.py\u001b[0m in \u001b[0;36m_make_engine\u001b[0;34m(self, engine)\u001b[0m\n\u001b[1;32m   1012\u001b[0m     \u001b[0;32mdef\u001b[0m \u001b[0m_make_engine\u001b[0m\u001b[0;34m(\u001b[0m\u001b[0mself\u001b[0m\u001b[0;34m,\u001b[0m \u001b[0mengine\u001b[0m\u001b[0;34m=\u001b[0m\u001b[0;34m'c'\u001b[0m\u001b[0;34m)\u001b[0m\u001b[0;34m:\u001b[0m\u001b[0;34m\u001b[0m\u001b[0;34m\u001b[0m\u001b[0m\n\u001b[1;32m   1013\u001b[0m         \u001b[0;32mif\u001b[0m \u001b[0mengine\u001b[0m \u001b[0;34m==\u001b[0m \u001b[0;34m'c'\u001b[0m\u001b[0;34m:\u001b[0m\u001b[0;34m\u001b[0m\u001b[0;34m\u001b[0m\u001b[0m\n\u001b[0;32m-> 1014\u001b[0;31m             \u001b[0mself\u001b[0m\u001b[0;34m.\u001b[0m\u001b[0m_engine\u001b[0m \u001b[0;34m=\u001b[0m \u001b[0mCParserWrapper\u001b[0m\u001b[0;34m(\u001b[0m\u001b[0mself\u001b[0m\u001b[0;34m.\u001b[0m\u001b[0mf\u001b[0m\u001b[0;34m,\u001b[0m \u001b[0;34m**\u001b[0m\u001b[0mself\u001b[0m\u001b[0;34m.\u001b[0m\u001b[0moptions\u001b[0m\u001b[0;34m)\u001b[0m\u001b[0;34m\u001b[0m\u001b[0;34m\u001b[0m\u001b[0m\n\u001b[0m\u001b[1;32m   1015\u001b[0m         \u001b[0;32melse\u001b[0m\u001b[0;34m:\u001b[0m\u001b[0;34m\u001b[0m\u001b[0;34m\u001b[0m\u001b[0m\n\u001b[1;32m   1016\u001b[0m             \u001b[0;32mif\u001b[0m \u001b[0mengine\u001b[0m \u001b[0;34m==\u001b[0m \u001b[0;34m'python'\u001b[0m\u001b[0;34m:\u001b[0m\u001b[0;34m\u001b[0m\u001b[0;34m\u001b[0m\u001b[0m\n",
      "\u001b[0;32m~/anaconda3/lib/python3.7/site-packages/pandas/io/parsers.py\u001b[0m in \u001b[0;36m__init__\u001b[0;34m(self, src, **kwds)\u001b[0m\n\u001b[1;32m   1706\u001b[0m         \u001b[0mkwds\u001b[0m\u001b[0;34m[\u001b[0m\u001b[0;34m'usecols'\u001b[0m\u001b[0;34m]\u001b[0m \u001b[0;34m=\u001b[0m \u001b[0mself\u001b[0m\u001b[0;34m.\u001b[0m\u001b[0musecols\u001b[0m\u001b[0;34m\u001b[0m\u001b[0;34m\u001b[0m\u001b[0m\n\u001b[1;32m   1707\u001b[0m \u001b[0;34m\u001b[0m\u001b[0m\n\u001b[0;32m-> 1708\u001b[0;31m         \u001b[0mself\u001b[0m\u001b[0;34m.\u001b[0m\u001b[0m_reader\u001b[0m \u001b[0;34m=\u001b[0m \u001b[0mparsers\u001b[0m\u001b[0;34m.\u001b[0m\u001b[0mTextReader\u001b[0m\u001b[0;34m(\u001b[0m\u001b[0msrc\u001b[0m\u001b[0;34m,\u001b[0m \u001b[0;34m**\u001b[0m\u001b[0mkwds\u001b[0m\u001b[0;34m)\u001b[0m\u001b[0;34m\u001b[0m\u001b[0;34m\u001b[0m\u001b[0m\n\u001b[0m\u001b[1;32m   1709\u001b[0m \u001b[0;34m\u001b[0m\u001b[0m\n\u001b[1;32m   1710\u001b[0m         \u001b[0mpassed_names\u001b[0m \u001b[0;34m=\u001b[0m \u001b[0mself\u001b[0m\u001b[0;34m.\u001b[0m\u001b[0mnames\u001b[0m \u001b[0;32mis\u001b[0m \u001b[0;32mNone\u001b[0m\u001b[0;34m\u001b[0m\u001b[0;34m\u001b[0m\u001b[0m\n",
      "\u001b[0;32mpandas/_libs/parsers.pyx\u001b[0m in \u001b[0;36mpandas._libs.parsers.TextReader.__cinit__\u001b[0;34m()\u001b[0m\n",
      "\u001b[0;32mpandas/_libs/parsers.pyx\u001b[0m in \u001b[0;36mpandas._libs.parsers.TextReader._setup_parser_source\u001b[0;34m()\u001b[0m\n",
      "\u001b[0;31mFileNotFoundError\u001b[0m: File b'/home/dell/Dropbox/0.0 Data/rg_train.csv' does not exist"
     ]
    }
   ],
   "source": [
    "train_file=r'~/Dropbox/0.0 Data/rg_train.csv'\n",
    "test_file=r'~/Dropbox/0.0 Data/rg_test.csv'\n",
    "bd_train=pd.read_csv(train_file)\n",
    "\n",
    "bd_test=pd.read_csv(test_file)\n",
    "\n",
    "\n",
    "bd_test['Revenue.Grid']=np.nan\n",
    "bd_train['data']='train'\n",
    "bd_test['data']='test'\n",
    "bd_test=bd_test[bd_train.columns]\n",
    "bd_all=pd.concat([bd_train,bd_test],axis=0)"
   ]
  },
  {
   "cell_type": "code",
   "execution_count": null,
   "metadata": {},
   "outputs": [],
   "source": [
    "bd_all['Revenue.Grid'].value_counts()"
   ]
  },
  {
   "cell_type": "code",
   "execution_count": null,
   "metadata": {},
   "outputs": [],
   "source": [
    "list(zip(bd_all.columns,bd_all.dtypes,bd_all.nunique()))"
   ]
  },
  {
   "cell_type": "code",
   "execution_count": null,
   "metadata": {},
   "outputs": [],
   "source": [
    "# REF_NO,post_code , post_area  : drop \n",
    "# children : Zero : 0 , 4+ : 4 and then convert to numeric\n",
    "# age_band : dummies \n",
    "# status , occupation , occupation_partner , home_status,family_income : dummies\n",
    "# self_employed, ` : dummies\n",
    "# TVArea , Region , gender : dummies\n",
    "# Revenue Grid : 1,2 : 1,0"
   ]
  },
  {
   "cell_type": "code",
   "execution_count": null,
   "metadata": {},
   "outputs": [],
   "source": [
    "bd_all.drop(['REF_NO','post_code','post_area'],axis=1,inplace=True)"
   ]
  },
  {
   "cell_type": "code",
   "execution_count": null,
   "metadata": {},
   "outputs": [],
   "source": [
    "bd_all['children']=np.where(bd_all['children']=='Zero',0,bd_all['children'])\n",
    "bd_all['children']=np.where(bd_all['children'][:1]=='4',4,bd_all['children'])\n",
    "bd_all['children']=pd.to_numeric(bd_all['children'],errors='coerce')"
   ]
  },
  {
   "cell_type": "code",
   "execution_count": null,
   "metadata": {},
   "outputs": [],
   "source": [
    "bd_all['Revenue.Grid']=(bd_all['Revenue.Grid']==1).astype(int)"
   ]
  },
  {
   "cell_type": "code",
   "execution_count": null,
   "metadata": {},
   "outputs": [],
   "source": [
    "cat_vars=bd_all.select_dtypes(['object']).columns\n",
    "\n",
    "cat_vars"
   ]
  },
  {
   "cell_type": "code",
   "execution_count": null,
   "metadata": {},
   "outputs": [],
   "source": [
    "for col in cat_vars[:-1]:\n",
    "    dummy=pd.get_dummies(bd_all[col],drop_first=True,prefix=col)\n",
    "    bd_all=pd.concat([bd_all,dummy],axis=1)\n",
    "    del bd_all[col]\n",
    "    print(col)\n",
    "del dummy"
   ]
  },
  {
   "cell_type": "code",
   "execution_count": null,
   "metadata": {},
   "outputs": [],
   "source": [
    "bd_all.shape"
   ]
  },
  {
   "cell_type": "code",
   "execution_count": null,
   "metadata": {},
   "outputs": [],
   "source": [
    "bd_all.isnull().sum()"
   ]
  },
  {
   "cell_type": "code",
   "execution_count": null,
   "metadata": {},
   "outputs": [],
   "source": [
    "bd_all.loc[bd_all['children'].isnull(),'children']=bd_all.loc[bd_all['data']=='train','children'].mean()\n"
   ]
  },
  {
   "cell_type": "code",
   "execution_count": null,
   "metadata": {},
   "outputs": [],
   "source": [
    "bd_train=bd_all[bd_all['data']=='train']\n",
    "del bd_train['data']\n",
    "bd_test=bd_all[bd_all['data']=='test']\n",
    "bd_test.drop(['Revenue.Grid','data'],axis=1,inplace=True)"
   ]
  },
  {
   "cell_type": "code",
   "execution_count": null,
   "metadata": {},
   "outputs": [],
   "source": [
    "from sklearn.linear_model import LogisticRegression\n",
    "from sklearn.metrics import roc_auc_score"
   ]
  },
  {
   "cell_type": "code",
   "execution_count": null,
   "metadata": {},
   "outputs": [],
   "source": [
    "params={'class_weight':['balanced',None],\n",
    "        'penalty':['l1','l2'],\n",
    "        'C':np.linspace(0.01,1000,10)}"
   ]
  },
  {
   "cell_type": "code",
   "execution_count": null,
   "metadata": {},
   "outputs": [],
   "source": [
    "model=LogisticRegression(fit_intercept=True)"
   ]
  },
  {
   "cell_type": "code",
   "execution_count": null,
   "metadata": {},
   "outputs": [],
   "source": [
    "grid_search=GridSearchCV(model,param_grid=params,cv=5,scoring=\"roc_auc\")"
   ]
  },
  {
   "cell_type": "code",
   "execution_count": null,
   "metadata": {},
   "outputs": [],
   "source": [
    "x_train=bd_train.drop('Revenue.Grid',axis=1)\n",
    "y_train=bd_train['Revenue.Grid']"
   ]
  },
  {
   "cell_type": "code",
   "execution_count": null,
   "metadata": {},
   "outputs": [],
   "source": [
    "grid_search.fit(x_train,y_train)"
   ]
  },
  {
   "cell_type": "code",
   "execution_count": null,
   "metadata": {},
   "outputs": [],
   "source": [
    "grid_search.best_estimator_"
   ]
  },
  {
   "cell_type": "code",
   "execution_count": null,
   "metadata": {},
   "outputs": [],
   "source": [
    "logr=grid_search.best_estimator_"
   ]
  },
  {
   "cell_type": "code",
   "execution_count": null,
   "metadata": {},
   "outputs": [],
   "source": [
    "report(grid_search.cv_results_,5)"
   ]
  },
  {
   "cell_type": "code",
   "execution_count": null,
   "metadata": {},
   "outputs": [],
   "source": [
    "logr.fit(x_train,y_train)"
   ]
  },
  {
   "cell_type": "code",
   "execution_count": null,
   "metadata": {},
   "outputs": [],
   "source": [
    "cutoffs=np.linspace(0.01,0.99,99)\n",
    "\n",
    "cutoffs"
   ]
  },
  {
   "cell_type": "code",
   "execution_count": null,
   "metadata": {},
   "outputs": [],
   "source": [
    "train_score=logr.predict_proba(x_train)[:,1]\n",
    "\n",
    "real=y_train"
   ]
  },
  {
   "cell_type": "code",
   "execution_count": null,
   "metadata": {},
   "outputs": [],
   "source": [
    "train_score>0.2"
   ]
  },
  {
   "cell_type": "code",
   "execution_count": null,
   "metadata": {},
   "outputs": [],
   "source": [
    "KS_all=[]\n",
    "\n",
    "for cutoff in cutoffs:\n",
    "    \n",
    "    predicted=(train_score>cutoff).astype(int)\n",
    "\n",
    "    TP=((predicted==1) & (real==1)).sum()\n",
    "    TN=((predicted==0) & (real==0)).sum()\n",
    "    FP=((predicted==1) & (real==0)).sum()\n",
    "    FN=((predicted==0) & (real==1)).sum()\n",
    "    \n",
    "    P=TP+FN\n",
    "    N=TN+FP\n",
    "      \n",
    "    KS=(TP/P)-(FP/N)\n",
    "    \n",
    "    \n",
    "    KS_all.append(KS)\n",
    "\n",
    "# try out what cutoffs you get when you use F_beta scores with different values of betas [0.5 , 5]\n",
    "# beta < 1 : you will get cutoff , which is high ( favours precision)\n",
    "# beta > 1 : you will get cutoff , which is low (favours precision )"
   ]
  },
  {
   "cell_type": "code",
   "execution_count": null,
   "metadata": {},
   "outputs": [],
   "source": [
    "mycutoff=cutoffs[KS_all==max(KS_all)][0]\n",
    "mycutoff"
   ]
  },
  {
   "cell_type": "code",
   "execution_count": null,
   "metadata": {},
   "outputs": [],
   "source": [
    "logr.intercept_"
   ]
  },
  {
   "cell_type": "code",
   "execution_count": null,
   "metadata": {},
   "outputs": [],
   "source": [
    "list(zip(x_train.columns,logr.coef_[0]))"
   ]
  },
  {
   "cell_type": "markdown",
   "metadata": {},
   "source": [
    "if you simply had to submit probability scores , you could do this "
   ]
  },
  {
   "cell_type": "code",
   "execution_count": null,
   "metadata": {},
   "outputs": [],
   "source": [
    "test_score=logr.predict_proba(bd_test)[:,1]\n",
    "pd.DataFrame(test_score).to_csv(\"mysubmission.csv\",index=False)"
   ]
  },
  {
   "cell_type": "markdown",
   "metadata": {},
   "source": [
    "if you had to submit hardclasses , you can apply the cutoff obtained above and then submit"
   ]
  },
  {
   "cell_type": "code",
   "execution_count": null,
   "metadata": {},
   "outputs": [],
   "source": [
    "test_classes=(test_score>mycutoff).astype(int)"
   ]
  },
  {
   "cell_type": "code",
   "execution_count": null,
   "metadata": {},
   "outputs": [],
   "source": [
    "pd.DataFrame(test_classes).to_csv(\"mysubmission.csv\",index=False)"
   ]
  },
  {
   "cell_type": "code",
   "execution_count": null,
   "metadata": {},
   "outputs": [],
   "source": []
  }
 ],
 "metadata": {
  "kernelspec": {
   "display_name": "Python 3",
   "language": "python",
   "name": "python3"
  },
  "language_info": {
   "codemirror_mode": {
    "name": "ipython",
    "version": 3
   },
   "file_extension": ".py",
   "mimetype": "text/x-python",
   "name": "python",
   "nbconvert_exporter": "python",
   "pygments_lexer": "ipython3",
   "version": "3.7.4"
  }
 },
 "nbformat": 4,
 "nbformat_minor": 2
}
