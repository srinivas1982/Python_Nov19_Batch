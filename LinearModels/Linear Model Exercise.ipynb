{
 "cells": [
  {
   "cell_type": "markdown",
   "metadata": {},
   "source": [
    "# Linear Model Practice Exercise\n",
    "\n",
    "Logistic regression discussion in class did not include tuning of hyperparameter C. Also the model developed in the class only used l1 penalty. \n",
    "\n",
    "Please carry out following exercises for the same data:\n",
    "\n",
    "<ol>\n",
    "<li> Build logistic regression model with **l1** penalty and best value of penalty C. Find out auc score on test data for the same. </li>\n",
    "<li> For **l1** penalty plot a graph showing how number of variables with coeffient 0 increase with increasing penalty and on the same graph also show how auc score on test data moves with increasing penalty</li>\n",
    "<li> Build logistic regression model with **l2** penalty and best value of penalty C. Find out auc score on test data for the same.</li>\n",
    "<li> For linear regression problem discussed in class, examine trend between your response and fico score. Is the trend linear as we assumed?</li>\n",
    "</ol>"
   ]
  }
 ],
 "metadata": {
  "kernelspec": {
   "display_name": "Python 3",
   "language": "python",
   "name": "python3"
  },
  "language_info": {
   "codemirror_mode": {
    "name": "ipython",
    "version": 3
   },
   "file_extension": ".py",
   "mimetype": "text/x-python",
   "name": "python",
   "nbconvert_exporter": "python",
   "pygments_lexer": "ipython3",
   "version": "3.7.4"
  }
 },
 "nbformat": 4,
 "nbformat_minor": 1
}
