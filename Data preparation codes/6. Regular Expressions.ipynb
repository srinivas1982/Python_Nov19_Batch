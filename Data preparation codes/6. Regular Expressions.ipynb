{
 "cells": [
  {
   "cell_type": "code",
   "execution_count": 1,
   "metadata": {},
   "outputs": [
    {
     "data": {
      "text/plain": [
       "['abcMATCHxyz', 'define456', '789sth', '379tut']"
      ]
     },
     "execution_count": 1,
     "metadata": {},
     "output_type": "execute_result"
    }
   ],
   "source": [
    "import re\n",
    "\n",
    "mylist=[\"abc123xyz\",\"define456\",\"789sth\",\"379tut\"]\n",
    "[re.sub(\"123\",\"MATCH\",elem) for elem in mylist]"
   ]
  },
  {
   "cell_type": "code",
   "execution_count": 2,
   "metadata": {},
   "outputs": [
    {
     "data": {
      "text/plain": [
       "['abcMATCHMATCHMATCHxyz',\n",
       " 'defineMATCHMATCHMATCH',\n",
       " 'MATCHMATCHMATCHsth',\n",
       " 'MATCHMATCHMATCHtut']"
      ]
     },
     "execution_count": 2,
     "metadata": {},
     "output_type": "execute_result"
    }
   ],
   "source": [
    "mylist=[\"abc123xyz\",\"define456\",\"789sth\",\"379tut\"]\n",
    "[re.sub(\"\\\\d\",\"MATCH\",elem) for elem in mylist]"
   ]
  },
  {
   "cell_type": "code",
   "execution_count": 3,
   "metadata": {},
   "outputs": [
    {
     "data": {
      "text/plain": [
       "['abcMATCHxyz', 'defineMATCH', 'MATCHsth', 'MATCHtut']"
      ]
     },
     "execution_count": 3,
     "metadata": {},
     "output_type": "execute_result"
    }
   ],
   "source": [
    "mylist=[\"abc123xyz\",\"define456\",\"789sth\",\"379tut\"]\n",
    "[re.sub(\"\\\\d\\\\d\\\\d\",\"MATCH\",elem) for elem in mylist]"
   ]
  },
  {
   "cell_type": "code",
   "execution_count": 4,
   "metadata": {},
   "outputs": [
    {
     "data": {
      "text/plain": [
       "['abc123xyz', 'define456', 'MATCHsth', 'MATCHtut']"
      ]
     },
     "execution_count": 4,
     "metadata": {},
     "output_type": "execute_result"
    }
   ],
   "source": [
    "mylist=[\"abc123xyz\",\"define456\",\"789sth\",\"379tut\"]\n",
    "[re.sub(\"\\\\d\\\\d9\",\"MATCH\",elem) for elem in mylist]"
   ]
  },
  {
   "cell_type": "code",
   "execution_count": 5,
   "metadata": {},
   "outputs": [],
   "source": [
    "# 2 : . means any single character, for symbol . use \\\\. \n",
    "\n",
    "mylist=[\"ab@c\",\"123#\",\"$qwe.123\",\"...\"]\n",
    "\n",
    "#[re.sub(\".\",\"MATCH\",elem) for elem in mylist]"
   ]
  },
  {
   "cell_type": "code",
   "execution_count": 6,
   "metadata": {},
   "outputs": [
    {
     "data": {
      "text/plain": [
       "['ab@c', '123#', '$qweMATCH123', 'MATCHMATCHMATCH']"
      ]
     },
     "execution_count": 6,
     "metadata": {},
     "output_type": "execute_result"
    }
   ],
   "source": [
    "[re.sub(\"\\\\.\",\"MATCH\",elem) for elem in mylist]"
   ]
  },
  {
   "cell_type": "code",
   "execution_count": 7,
   "metadata": {},
   "outputs": [],
   "source": [
    "#exercise : substitute first two members only with a single MATCHs\n",
    "mylist=[\"896.\",\"?Q+.\",\"abc1\"]\n",
    "# [\"Match\",\"Match\",\"abc1\"]"
   ]
  },
  {
   "cell_type": "code",
   "execution_count": 8,
   "metadata": {},
   "outputs": [
    {
     "data": {
      "text/plain": [
       "['MATCH', 'MATCH', 'abc1']"
      ]
     },
     "execution_count": 8,
     "metadata": {},
     "output_type": "execute_result"
    }
   ],
   "source": [
    "[re.sub(\"...\\\\.\",\"MATCH\",elem) for elem in mylist]"
   ]
  },
  {
   "cell_type": "code",
   "execution_count": 9,
   "metadata": {},
   "outputs": [
    {
     "data": {
      "text/plain": [
       "['MATCHabc', 'MATCHabc', 'abcMATCHMATCHMATCH']"
      ]
     },
     "execution_count": 9,
     "metadata": {},
     "output_type": "execute_result"
    }
   ],
   "source": [
    "# 3 : replacing multiple characters at once\n",
    "\n",
    "mylist=[\"<abc\",\"#abc\",\"abc<#%\"]\n",
    "\n",
    "[re.sub(\"[<#%]\",\"MATCH\",elem) for elem in mylist]"
   ]
  },
  {
   "cell_type": "code",
   "execution_count": 10,
   "metadata": {},
   "outputs": [
    {
     "data": {
      "text/plain": [
       "['MATCHabc', 'MATCHMATCHabc', 'abcMATCH']"
      ]
     },
     "execution_count": 10,
     "metadata": {},
     "output_type": "execute_result"
    }
   ],
   "source": [
    "# 4 : excluding a pattern with metacharacter ^\n",
    "\n",
    "mylist=[\"<abc\",\"#1abc\",\"abc%\"]\n",
    "[re.sub(\"[^abc]\",\"MATCH\",elem) for elem in mylist]"
   ]
  },
  {
   "cell_type": "code",
   "execution_count": 15,
   "metadata": {},
   "outputs": [
    {
     "data": {
      "text/plain": [
       "['<MATCHMATCHMATCH', '#MATCHMATCHMATCH', 'GMATCHMATCH%']"
      ]
     },
     "execution_count": 15,
     "metadata": {},
     "output_type": "execute_result"
    }
   ],
   "source": [
    "# 5 : character ranges with -\n",
    "\n",
    "mylist=[\"<abc\",\"#def\",\"Ghi%\"]\n",
    "#[re.sub(\"[^a-z]\",\"MATCH\",elem) for elem in mylist]\n",
    "\n",
    "[re.sub(\"[a-z]\",\"MATCH\",elem) for elem in mylist]"
   ]
  },
  {
   "cell_type": "code",
   "execution_count": 16,
   "metadata": {},
   "outputs": [],
   "source": [
    "#exercise:\n",
    "myvec=[\"Ana\",\"Bob\",\"Cpc\",\"aax\",\"bby\",\"ccz\"]\n",
    "\n",
    "# Match  Ana,Bob,Cpc\t\n",
    "# Skip\taax,bby,ccz"
   ]
  },
  {
   "cell_type": "code",
   "execution_count": 17,
   "metadata": {},
   "outputs": [
    {
     "data": {
      "text/plain": [
       "['MATCH', 'MATCH', 'MATCH', 'aax', 'bby', 'ccz']"
      ]
     },
     "execution_count": 17,
     "metadata": {},
     "output_type": "execute_result"
    }
   ],
   "source": [
    "[re.sub(\"[A-Z][a-z][a-z]\",\"MATCH\",elem) for elem in myvec]"
   ]
  },
  {
   "cell_type": "code",
   "execution_count": null,
   "metadata": {},
   "outputs": [],
   "source": [
    "# 6 : more compact way for repetition\n",
    "\n",
    "myvec=[\"abc123xyz\",\"define456\",\"789sth\",\"379tut6\"]\n",
    "[re.sub(\"\\\\d\\\\d\\\\d\",\"MATCH\",elem) for elem in myvec]"
   ]
  },
  {
   "cell_type": "code",
   "execution_count": null,
   "metadata": {},
   "outputs": [],
   "source": [
    "myvec=[\"abc123xy1234z12345\",\"def4567ine456\",\"789sth\",\"379tut6\"]\n",
    "[re.sub(\"\\\\d{3,5}\",\"MATCH\",elem) for elem in myvec]"
   ]
  },
  {
   "cell_type": "code",
   "execution_count": null,
   "metadata": {},
   "outputs": [],
   "source": [
    "[re.sub(\"\\\\d{3,}\",\"MATCH\",elem) for elem in myvec]"
   ]
  },
  {
   "cell_type": "code",
   "execution_count": null,
   "metadata": {},
   "outputs": [],
   "source": [
    "[re.sub(\"\\\\d{3}\",\"MATCH\",elem) for elem in myvec]"
   ]
  },
  {
   "cell_type": "code",
   "execution_count": null,
   "metadata": {},
   "outputs": [],
   "source": [
    "[re.sub(\"\\\\d{1,}\",\"MATCH\",elem) for elem in myvec]"
   ]
  },
  {
   "cell_type": "code",
   "execution_count": null,
   "metadata": {},
   "outputs": [],
   "source": [
    "# 7 : Kleene Plus and Kleene Star\n",
    "\n",
    "# * means it matches zero or more character\n",
    "# + means it matches atleast one or more character\n",
    "\n",
    "# people names\n",
    "people = [\"rori\", \"emmilia\", \"matteo\", \"mehmemt\", \"filipe\",\n",
    "          \"anna\", \"tyler\",\n",
    "           \"rasmus\", \"mt jacob\", \"youna\", \"flora\", \"adi mmt\"]"
   ]
  },
  {
   "cell_type": "code",
   "execution_count": null,
   "metadata": {},
   "outputs": [],
   "source": [
    "# match m zero or more times, and t\n",
    "[re.sub(\"m*t\",\"MATCH\",elem) for elem in people]"
   ]
  },
  {
   "cell_type": "code",
   "execution_count": null,
   "metadata": {},
   "outputs": [],
   "source": [
    "people = [\"rori\", \"emmilia\", \"matteo\", \"mehmemt\", \"filipe\",\n",
    "          \"anna\", \"tyler\",\n",
    "           \"rasmus\", \"mt jacob\", \"youna\", \"flora\", \"adi mmt\"]\n",
    "[re.sub(\"m+t\",\"MATCH\",elem) for elem in people]"
   ]
  },
  {
   "cell_type": "code",
   "execution_count": null,
   "metadata": {},
   "outputs": [],
   "source": [
    "# 8 : metacharacter or with ?\n",
    "\n",
    "myvec=[\"ac\",\"abc\",\"ab?c\",\"12ac\"]\n",
    "[re.sub(\"abc\",\"MATCH\",elem) for elem in myvec]"
   ]
  },
  {
   "cell_type": "code",
   "execution_count": null,
   "metadata": {},
   "outputs": [],
   "source": [
    "[re.sub(\"ab?c\",\"MATCH\",elem) for elem in myvec]"
   ]
  },
  {
   "cell_type": "code",
   "execution_count": null,
   "metadata": {},
   "outputs": [],
   "source": [
    "[re.sub(\"ab?\\\\??c\",\"MATCH\",elem) for elem in myvec]"
   ]
  },
  {
   "cell_type": "code",
   "execution_count": null,
   "metadata": {},
   "outputs": [],
   "source": [
    "# 10 : ^ start and $ end\n",
    "myvec=[\"file_record_transcript.pdf\",\"file_07241999.pdf\",\n",
    "       \"file.pdf\",\n",
    "        \"fileabcpdf\",\"fileabc.pdf\",\"testfile_fake.pdf.tmp\",\n",
    "       \"file_record_transcript.pdff\"]\n",
    "\n",
    "[re.sub(\"^file.+\\\\.pdf$\",\"MATCH\",elem) for elem in myvec]"
   ]
  },
  {
   "cell_type": "code",
   "execution_count": null,
   "metadata": {},
   "outputs": [],
   "source": [
    "# 11 : groups with ()\n",
    "\n",
    "myvec=[\"ac\",\"abc\",\"aQAc\",\"12ac\"]\n",
    "[re.sub(\"ab?Q?A?c\",\"MATCH\",elem) for elem in myvec]"
   ]
  },
  {
   "cell_type": "code",
   "execution_count": null,
   "metadata": {},
   "outputs": [],
   "source": [
    "[re.sub(\"ab?QA?c\",\"MATCH\",elem) for elem in myvec]"
   ]
  },
  {
   "cell_type": "code",
   "execution_count": null,
   "metadata": {},
   "outputs": [],
   "source": [
    "[re.sub(\"ab?(QA)?c\",\"MATCH\",elem) for elem in myvec]"
   ]
  },
  {
   "cell_type": "markdown",
   "metadata": {},
   "source": [
    "## Extracting with findall"
   ]
  },
  {
   "cell_type": "code",
   "execution_count": null,
   "metadata": {},
   "outputs": [],
   "source": [
    "mydata=['name:lalit, phone:9920581396','name:john doe , contact:1234567890']"
   ]
  },
  {
   "cell_type": "code",
   "execution_count": null,
   "metadata": {},
   "outputs": [],
   "source": [
    "[re.findall('\\\\d{10}' for x in mydata)]"
   ]
  }
 ],
 "metadata": {
  "kernelspec": {
   "display_name": "Python 3",
   "language": "python",
   "name": "python3"
  },
  "language_info": {
   "codemirror_mode": {
    "name": "ipython",
    "version": 3
   },
   "file_extension": ".py",
   "mimetype": "text/x-python",
   "name": "python",
   "nbconvert_exporter": "python",
   "pygments_lexer": "ipython3",
   "version": "3.7.4"
  }
 },
 "nbformat": 4,
 "nbformat_minor": 2
}
