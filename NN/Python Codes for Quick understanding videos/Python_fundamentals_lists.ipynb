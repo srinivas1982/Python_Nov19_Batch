{
 "cells": [
  {
   "cell_type": "markdown",
   "metadata": {
    "collapsed": true
   },
   "source": [
    "# Lists\n",
    "\n",
    "hey everyone , lalit here again. so far we have covered basic data types in python . SO far the variables that we have created can contain only a single value . But working with data we eventually will need data structures which enable us to store multiple values. There are multiple such datastrucres in python with different properties such as lists, dictionaries, sets and tuples , most used among them are lists which this video focuses on. Other data structres will be covered in the subsequent videos.\n",
    "\n",
    "In this video we will talk about \n",
    "1. how to create lists\n",
    "2. how to access individual and group of elements in the list \n",
    "3. How to change with accessing indices \n",
    "4. Then we'll learn about some special functions which make your job easier in terms of handling and modifying  lists\n",
    "\n",
    "Lets get started . For creating a list , put values inside a square bracket separated by commas"
   ]
  },
  {
   "cell_type": "code",
   "execution_count": 27,
   "metadata": {},
   "outputs": [
    {
     "data": {
      "text/plain": [
       "[1, 2, 3, 70, -10, 0, 99, 'a', 'b', 'c']"
      ]
     },
     "execution_count": 27,
     "metadata": {},
     "output_type": "execute_result"
    }
   ],
   "source": [
    "x = [1,2,3,70,-10,0,99,\"a\",\"b\",\"c\"]\n",
    "x"
   ]
  },
  {
   "cell_type": "markdown",
   "metadata": {},
   "source": [
    "you can put any kind of value in there , there is no restriction like them being of same type. Accessing invidual elemnts of lists works just like strings. The way each character in the strings got counted as single position, in case of lists each element gets counted as single position. Every thing else works just like strings. If you have forgotten how indexing and slicing worked in case of strings, you might want to go back and revise before we move ahead in this section"
   ]
  },
  {
   "cell_type": "code",
   "execution_count": 28,
   "metadata": {},
   "outputs": [
    {
     "name": "stdout",
     "output_type": "stream",
     "text": [
      "[1, 2, 3, 70, -10, 0, 99, 'a', 'b', 'c']\n"
     ]
    },
    {
     "data": {
      "text/plain": [
       "[70, -10, 0, 99]"
      ]
     },
     "execution_count": 28,
     "metadata": {},
     "output_type": "execute_result"
    }
   ],
   "source": [
    "print(x)\n",
    "x[3:7]"
   ]
  },
  {
   "cell_type": "markdown",
   "metadata": {},
   "source": [
    "counting here also starts with 0, 70 being the index 3 gets included .'a' being the index 7 is the last element which will not be included , subsetting will stop at an element before that @ 99"
   ]
  },
  {
   "cell_type": "code",
   "execution_count": 29,
   "metadata": {},
   "outputs": [
    {
     "name": "stdout",
     "output_type": "stream",
     "text": [
      "[1, 2, 3, 70, -10, 0, 99, 'a', 'b', 'c']\n"
     ]
    },
    {
     "data": {
      "text/plain": [
       "[70, -10, 0, 99, 'a', 'b', 'c']"
      ]
     },
     "execution_count": 29,
     "metadata": {},
     "output_type": "execute_result"
    }
   ],
   "source": [
    "print(x)\n",
    "x[3:]"
   ]
  },
  {
   "cell_type": "markdown",
   "metadata": {},
   "source": [
    "if you dont mention the second index , all elements till the end will come to output"
   ]
  },
  {
   "cell_type": "code",
   "execution_count": 30,
   "metadata": {},
   "outputs": [
    {
     "name": "stdout",
     "output_type": "stream",
     "text": [
      "[1, 2, 3, 70, -10, 0, 99, 'a', 'b', 'c']\n"
     ]
    },
    {
     "data": {
      "text/plain": [
       "[1, 2, 3]"
      ]
     },
     "execution_count": 30,
     "metadata": {},
     "output_type": "execute_result"
    }
   ],
   "source": [
    "print(x)\n",
    "x[:3]"
   ]
  },
  {
   "cell_type": "markdown",
   "metadata": {},
   "source": [
    "if you dont mention the starting index, elements from the very beginning will come to output. We will take an \n",
    "example with a negative index as well."
   ]
  },
  {
   "cell_type": "code",
   "execution_count": 31,
   "metadata": {},
   "outputs": [
    {
     "name": "stdout",
     "output_type": "stream",
     "text": [
      "[1, 2, 3, 70, -10, 0, 99, 'a', 'b', 'c']\n"
     ]
    },
    {
     "data": {
      "text/plain": [
       "[70, -10]"
      ]
     },
     "execution_count": 31,
     "metadata": {},
     "output_type": "execute_result"
    }
   ],
   "source": [
    "print(x)\n",
    "x[3:-5]"
   ]
  },
  {
   "cell_type": "markdown",
   "metadata": {},
   "source": [
    "Starting position here is same as earlier example, as you recall if its a negative index , counting strats backword and with 1 . so index -5 belongs to 0, element till just before that will come to output. While using indices to access elements , you can also use a different stepsize than the default step size of 1 . lets see how"
   ]
  },
  {
   "cell_type": "code",
   "execution_count": 32,
   "metadata": {},
   "outputs": [
    {
     "name": "stdout",
     "output_type": "stream",
     "text": [
      "[1, 2, 3, 70, -10, 0, 99, 'a', 'b', 'c']\n",
      "[2, 3, 70, -10, 0, 99]\n",
      "[2, 70, 0]\n"
     ]
    }
   ],
   "source": [
    "print(x)\n",
    "print(x[1:7])\n",
    "print(x[1:7:2])"
   ]
  },
  {
   "cell_type": "markdown",
   "metadata": {},
   "source": [
    "see here , when you used step size , output , instead of containing all the elements , has only every 2nd elements instead , because the take step wise was 2. If you use a negative step size , output comes in a reversed order instead of usual sequence present in the list "
   ]
  },
  {
   "cell_type": "code",
   "execution_count": 33,
   "metadata": {},
   "outputs": [
    {
     "name": "stdout",
     "output_type": "stream",
     "text": [
      "['a', 99, 0, -10, 70, 3]\n"
     ]
    }
   ],
   "source": [
    "print(x[7:1:-1])"
   ]
  },
  {
   "cell_type": "code",
   "execution_count": 34,
   "metadata": {},
   "outputs": [
    {
     "name": "stdout",
     "output_type": "stream",
     "text": [
      "['a', 0, 70]\n"
     ]
    }
   ],
   "source": [
    "print(x[7:1:-2])"
   ]
  },
  {
   "cell_type": "markdown",
   "metadata": {},
   "source": [
    "while accessing the elements with position , we can do replacement/substitution of the values too. Here is how:"
   ]
  },
  {
   "cell_type": "code",
   "execution_count": 35,
   "metadata": {},
   "outputs": [
    {
     "name": "stdout",
     "output_type": "stream",
     "text": [
      "[1, 2, 3, 70, -10, 0, 99, 'a', 'b', 'c']\n",
      "3\n"
     ]
    }
   ],
   "source": [
    "print(x)\n",
    "print(x[2])"
   ]
  },
  {
   "cell_type": "markdown",
   "metadata": {},
   "source": [
    "you can see that the index 2 value in x is 2"
   ]
  },
  {
   "cell_type": "code",
   "execution_count": 36,
   "metadata": {},
   "outputs": [
    {
     "name": "stdout",
     "output_type": "stream",
     "text": [
      "[1, 2, 1000, 70, -10, 0, 99, 'a', 'b', 'c']\n"
     ]
    }
   ],
   "source": [
    "x[2]=1000\n",
    "print(x)"
   ]
  },
  {
   "cell_type": "markdown",
   "metadata": {},
   "source": [
    "now that value has been replaced with 1000. There is no restriction as such to replace a number with a number. you can reassign to a string as well. "
   ]
  },
  {
   "cell_type": "code",
   "execution_count": 37,
   "metadata": {},
   "outputs": [
    {
     "name": "stdout",
     "output_type": "stream",
     "text": [
      "[1, 2, 1000, 70, -10, 0, 99, 'a', 'b', 'c']\n",
      "1000\n",
      "[1, 2, 'abcd', 70, -10, 0, 99, 'a', 'b', 'c']\n"
     ]
    }
   ],
   "source": [
    "print(x)\n",
    "print(x[2])\n",
    "x[2]='abcd'\n",
    "print(x)\n"
   ]
  },
  {
   "cell_type": "markdown",
   "metadata": {},
   "source": [
    "you can reassign multiple values at once as well . one change there is that value or values being assigned need to be in the list . here are few examples for the same"
   ]
  },
  {
   "cell_type": "code",
   "execution_count": 38,
   "metadata": {},
   "outputs": [
    {
     "name": "stdout",
     "output_type": "stream",
     "text": [
      "[1, 2, 'abcd', 70, -10, 0, 99, 'a', 'b', 'c']\n",
      "[2, 'abcd']\n",
      "[1, 34, 70, -10, 0, 99, 'a', 'b', 'c']\n"
     ]
    }
   ],
   "source": [
    "print(x)\n",
    "print(x[1:3])\n",
    "x[1:3]=[34]\n",
    "print(x)"
   ]
  },
  {
   "cell_type": "markdown",
   "metadata": {},
   "source": [
    "while reassinging multiple values with strings you need to be however little careful. Behaviour is little different. Strings are considered list of constituent characters instead of single elements if you dont put them into a list . Here are few examples to make that clear"
   ]
  },
  {
   "cell_type": "code",
   "execution_count": 40,
   "metadata": {},
   "outputs": [
    {
     "name": "stdout",
     "output_type": "stream",
     "text": [
      "[1, 34, 70, -10, 0, 99, 'a', 'b', 'c']\n",
      "[34, 70]\n",
      "[1, 'l', 'a', 'l', 'i', 't', -10, 0, 99, 'a', 'b', 'c']\n"
     ]
    }
   ],
   "source": [
    "print(x)\n",
    "print(x[1:3])\n",
    "x[1:3]='lalit'\n",
    "print(x)"
   ]
  },
  {
   "cell_type": "markdown",
   "metadata": {},
   "source": [
    "however if you put the string in a list , its not broken into its constituent characters . See this example"
   ]
  },
  {
   "cell_type": "code",
   "execution_count": 42,
   "metadata": {},
   "outputs": [
    {
     "name": "stdout",
     "output_type": "stream",
     "text": [
      "[1, 'l', 'a', 'l', 'i', 't', -10, 0, 99, 'a', 'b', 'c']\n",
      "['l', 'a', 'l', 'i', 't']\n",
      "[1, 'lalit', -10, 0, 99, 'a', 'b', 'c']\n"
     ]
    }
   ],
   "source": [
    "print(x)\n",
    "print(x[1:6])\n",
    "x[1:6]=['lalit']\n",
    "print(x)"
   ]
  },
  {
   "cell_type": "markdown",
   "metadata": {},
   "source": [
    "Ok , thats enough list and indices , play around that master this as we'll use that a lot in one or the other way throughout the course. Next we'll look at various functions associate with lists which make handling/modifying lists easy. First function we'll look at ways and functions for adding an element to a list at the end . "
   ]
  },
  {
   "cell_type": "code",
   "execution_count": 43,
   "metadata": {},
   "outputs": [
    {
     "name": "stdout",
     "output_type": "stream",
     "text": [
      "[1, 'lalit', -10, 0, 99, 'a', 'b', 'c']\n",
      "[1, 'lalit', -10, 0, 99, 'a', 'b', 'c', 'new']\n"
     ]
    }
   ],
   "source": [
    "print(x)\n",
    "x.append(\"new\")\n",
    "print(x)"
   ]
  },
  {
   "cell_type": "markdown",
   "metadata": {},
   "source": [
    "as you can see appends adds the value at the end , new list has one more element. If you try to add another list with append , it adds that as a single element of the list instead of extending the list by as many elements as there are in the list"
   ]
  },
  {
   "cell_type": "code",
   "execution_count": 50,
   "metadata": {},
   "outputs": [
    {
     "name": "stdout",
     "output_type": "stream",
     "text": [
      "[1, 'lalit', -10, 0, 99, 'a', 'b', 'c', 'new'] & 9\n",
      "[1, 'lalit', -10, 0, 99, 'a', 'b', 'c', 'new', [1, 2, 3]] & 10\n"
     ]
    }
   ],
   "source": [
    "print(x,'&',len(x))\n",
    "x.append([1,2,3])\n",
    "print(x,'&',len(x))"
   ]
  },
  {
   "cell_type": "markdown",
   "metadata": {},
   "source": [
    "you can see here that length of x has increased by 1, despite list being added has multiple values. However if you want to extend the list instead it being added as single element , you can use function extend"
   ]
  },
  {
   "cell_type": "code",
   "execution_count": 51,
   "metadata": {},
   "outputs": [
    {
     "name": "stdout",
     "output_type": "stream",
     "text": [
      "[1, 'lalit', -10, 0, 99, 'a', 'b', 'c', 'new', [1, 2, 3]] & 10\n",
      "[1, 'lalit', -10, 0, 99, 'a', 'b', 'c', 'new', [1, 2, 3], 10, 20, 30] & 13\n"
     ]
    }
   ],
   "source": [
    "print(x,'&',len(x))\n",
    "x.extend([10,20,30])\n",
    "print(x,'&',len(x))"
   ]
  },
  {
   "cell_type": "markdown",
   "metadata": {},
   "source": [
    "you can also simply add two lists together as shown next "
   ]
  },
  {
   "cell_type": "code",
   "execution_count": 52,
   "metadata": {},
   "outputs": [
    {
     "name": "stdout",
     "output_type": "stream",
     "text": [
      "[1, 'lalit', -10, 0, 99, 'a', 'b', 'c', 'new', [1, 2, 3], 10, 20, 30]\n",
      "[1, 'lalit', -10, 0, 99, 'a', 'b', 'c', 'new', [1, 2, 3], 10, 20, 30, 3, 4, 5]\n"
     ]
    }
   ],
   "source": [
    "print(x)\n",
    "x=x+[3,4,5]\n",
    "print(x)"
   ]
  },
  {
   "cell_type": "markdown",
   "metadata": {},
   "source": [
    "If you havent noticed yet , do see that these functions are making inplace changes to the object on which they are being applied , you dont need to reassign the output to x for changes to appear.\n",
    "\n",
    "for inserting a value at any other position instead of at the end , you can use function insert ."
   ]
  },
  {
   "cell_type": "code",
   "execution_count": 53,
   "metadata": {},
   "outputs": [
    {
     "name": "stdout",
     "output_type": "stream",
     "text": [
      "[1, 'lalit', -10, 0, 99, 'a', 'b', 'c', 'new', [1, 2, 3], 10, 20, 30, 3, 4, 5]\n",
      "[1, 'lalit', 'another', -10, 0, 99, 'a', 'b', 'c', 'new', [1, 2, 3], 10, 20, 30, 3, 4, 5]\n"
     ]
    }
   ],
   "source": [
    "print(x)\n",
    "x.insert(2,\"another\")\n",
    "print(x)"
   ]
  },
  {
   "cell_type": "markdown",
   "metadata": {},
   "source": [
    "As you might have figured out , first argument is the index of insertion and second argument is the value to be inserted . Next we'll look at functions to use if we want to remove elements from a list instead of adding. There are two ways to eliminate members from a list , by specifying a position and by specifying the value. We have different function for both the purposes. For eliminating by position you can use function pop"
   ]
  },
  {
   "cell_type": "code",
   "execution_count": 54,
   "metadata": {},
   "outputs": [
    {
     "name": "stdout",
     "output_type": "stream",
     "text": [
      "[1, 'lalit', 'another', -10, 0, 99, 'a', 'b', 'c', 'new', [1, 2, 3], 10, 20, 30, 3, 4, 5]\n",
      "[1, 'lalit', 'another', -10, 0, 99, 'a', 'b', 'c', 'new', [1, 2, 3], 10, 20, 30, 3, 4]\n"
     ]
    }
   ],
   "source": [
    "print(x)\n",
    "x.pop()\n",
    "print(x)"
   ]
  },
  {
   "cell_type": "markdown",
   "metadata": {},
   "source": [
    "by default pop removes elements from the end of the list . you can specify a position also"
   ]
  },
  {
   "cell_type": "code",
   "execution_count": 55,
   "metadata": {},
   "outputs": [
    {
     "name": "stdout",
     "output_type": "stream",
     "text": [
      "[1, 'lalit', 'another', -10, 0, 99, 'a', 'b', 'c', 'new', [1, 2, 3], 10, 20, 30, 3, 4]\n",
      "[1, 'lalit', -10, 0, 99, 'a', 'b', 'c', 'new', [1, 2, 3], 10, 20, 30, 3, 4]\n"
     ]
    }
   ],
   "source": [
    "print(x)\n",
    "x.pop(2)\n",
    "print(x)"
   ]
  },
  {
   "cell_type": "markdown",
   "metadata": {},
   "source": [
    "this has removed element from the index 2 which was 'another'. For eliminating a member by specifying its value , you can use function remove."
   ]
  },
  {
   "cell_type": "code",
   "execution_count": 56,
   "metadata": {},
   "outputs": [
    {
     "name": "stdout",
     "output_type": "stream",
     "text": [
      "[1, 'lalit', -10, 0, 99, 'a', 'b', 'c', 'new', [1, 2, 3], 10, 20, 30, 3, 4]\n",
      "[1, 'lalit', -10, 0, 99, 'a', 'b', 'c', [1, 2, 3], 10, 20, 30, 3, 4]\n"
     ]
    }
   ],
   "source": [
    "print(x)\n",
    "x.remove('new')\n",
    "print(x)"
   ]
  },
  {
   "cell_type": "markdown",
   "metadata": {},
   "source": [
    "keep in mind that if you try to remove a value which is not there in the list , you will get an error"
   ]
  },
  {
   "cell_type": "code",
   "execution_count": 57,
   "metadata": {},
   "outputs": [
    {
     "ename": "ValueError",
     "evalue": "list.remove(x): x not in list",
     "output_type": "error",
     "traceback": [
      "\u001b[0;31m---------------------------------------------------------------------------\u001b[0m",
      "\u001b[0;31mValueError\u001b[0m                                Traceback (most recent call last)",
      "\u001b[0;32m<ipython-input-57-86e047ee15b8>\u001b[0m in \u001b[0;36m<module>\u001b[0;34m()\u001b[0m\n\u001b[0;32m----> 1\u001b[0;31m \u001b[0mx\u001b[0m\u001b[0;34m.\u001b[0m\u001b[0mremove\u001b[0m\u001b[0;34m(\u001b[0m\u001b[0;34m'new'\u001b[0m\u001b[0;34m)\u001b[0m\u001b[0;34m\u001b[0m\u001b[0m\n\u001b[0m",
      "\u001b[0;31mValueError\u001b[0m: list.remove(x): x not in list"
     ]
    }
   ],
   "source": [
    "x.remove('new')"
   ]
  },
  {
   "cell_type": "markdown",
   "metadata": {},
   "source": [
    "also if there are multiple occurences of the value specified , then only the first one is removed . Let see that in action"
   ]
  },
  {
   "cell_type": "code",
   "execution_count": 59,
   "metadata": {
    "collapsed": true
   },
   "outputs": [],
   "source": [
    "x=[2,3,40,2,14,2,3,11,71,26]"
   ]
  },
  {
   "cell_type": "code",
   "execution_count": 60,
   "metadata": {},
   "outputs": [
    {
     "name": "stdout",
     "output_type": "stream",
     "text": [
      "[2, 40, 2, 14, 2, 3, 11, 71, 26]\n"
     ]
    }
   ],
   "source": [
    "x.remove(3)\n",
    "print(x)"
   ]
  },
  {
   "cell_type": "markdown",
   "metadata": {},
   "source": [
    "Last thing that we'll learn in this video is how to sort a list . Function sort , sorts a list in ascending manner ."
   ]
  },
  {
   "cell_type": "code",
   "execution_count": 61,
   "metadata": {},
   "outputs": [
    {
     "name": "stdout",
     "output_type": "stream",
     "text": [
      "[2, 40, 2, 14, 2, 3, 11, 71, 26]\n",
      "[2, 2, 2, 3, 11, 14, 26, 40, 71]\n"
     ]
    }
   ],
   "source": [
    "print(x)\n",
    "x.sort()\n",
    "print(x)"
   ]
  },
  {
   "cell_type": "markdown",
   "metadata": {},
   "source": [
    "for reversing a string without sorting , you can use function reverse ."
   ]
  },
  {
   "cell_type": "code",
   "execution_count": 62,
   "metadata": {},
   "outputs": [
    {
     "name": "stdout",
     "output_type": "stream",
     "text": [
      "[2, 3, 40, 2, 14, 2, 3, 11, 71, 26]\n",
      "[26, 71, 11, 3, 2, 14, 2, 40, 3, 2]\n"
     ]
    }
   ],
   "source": [
    "x=[2,3,40,2,14,2,3,11,71,26]\n",
    "print(x)\n",
    "x.reverse()\n",
    "print(x)"
   ]
  },
  {
   "cell_type": "markdown",
   "metadata": {},
   "source": [
    "before we close , i want to mention one thing about function which makes inplace changes . These functions do not return anything . There return type is None. So if you accidentally end up assigning there output to the original variable , it will become a None type object and lose values previously held. See for yourself to understand better"
   ]
  },
  {
   "cell_type": "code",
   "execution_count": 63,
   "metadata": {},
   "outputs": [
    {
     "name": "stdout",
     "output_type": "stream",
     "text": [
      "[2, 3, 40, 2, 14, 2, 3, 11, 71, 26]\n"
     ]
    }
   ],
   "source": [
    "x=[2,3,40,2,14,2,3,11,71,26]\n",
    "print(x)"
   ]
  },
  {
   "cell_type": "code",
   "execution_count": 64,
   "metadata": {
    "collapsed": true
   },
   "outputs": [],
   "source": [
    "x=x.reverse()"
   ]
  },
  {
   "cell_type": "code",
   "execution_count": 66,
   "metadata": {},
   "outputs": [
    {
     "name": "stdout",
     "output_type": "stream",
     "text": [
      "None\n"
     ]
    }
   ],
   "source": [
    "print(x)"
   ]
  },
  {
   "cell_type": "markdown",
   "metadata": {},
   "source": [
    "Keep that in mind. this will come in handy many cases , not just when you are working with lists. in the next video  we'll learn about flow control in python with if-else blocks, for loops and while loops. We'll also learn about very interesting idea known as list comprehension , its one of the most revered idea in python language. See you in the next video"
   ]
  },
  {
   "cell_type": "code",
   "execution_count": null,
   "metadata": {
    "collapsed": true
   },
   "outputs": [],
   "source": []
  }
 ],
 "metadata": {
  "kernelspec": {
   "display_name": "Python 2",
   "language": "python",
   "name": "python2"
  },
  "language_info": {
   "codemirror_mode": {
    "name": "ipython",
    "version": 2
   },
   "file_extension": ".py",
   "mimetype": "text/x-python",
   "name": "python",
   "nbconvert_exporter": "python",
   "pygments_lexer": "ipython2",
   "version": "2.7.14"
  }
 },
 "nbformat": 4,
 "nbformat_minor": 2
}
