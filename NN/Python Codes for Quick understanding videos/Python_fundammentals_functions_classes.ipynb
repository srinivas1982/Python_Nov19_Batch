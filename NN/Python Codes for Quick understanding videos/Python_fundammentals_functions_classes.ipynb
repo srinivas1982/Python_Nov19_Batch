{
 "cells": [
  {
   "cell_type": "markdown",
   "metadata": {},
   "source": [
    " Hey everyone this is lalit again , So far we have been using many functions and classes in the programming examples , probably without even conciously noticing . In this video we will learn about writing our functions and classes . We'll start with function .\n",
    " \n",
    " but before we start writing function, you need to understand utility of a function. A function is a block of code which we need to use repeatedly . So instead of writing the same bit of code again and again, we put it in a function and use that function instead. "
   ]
  },
  {
   "cell_type": "markdown",
   "metadata": {},
   "source": [
    "Lets try to write a simple program first to solve a simple problem and then we will see how converting it in to a function will make our life easy and in the process , of course we will learn to write a function "
   ]
  },
  {
   "cell_type": "markdown",
   "metadata": {},
   "source": [
    "Lets say , given a list of numbers we want to find out minimum and maximum numbers among them . A note of caution here , the way we are going to solve this problem is deifinitely not the only way to solve this . There exists far more efficient ways to solve this. Lets begin"
   ]
  },
  {
   "cell_type": "markdown",
   "metadata": {},
   "source": [
    "this is the list given to us "
   ]
  },
  {
   "cell_type": "code",
   "execution_count": 1,
   "metadata": {
    "collapsed": true
   },
   "outputs": [],
   "source": [
    "x=[2,3,40,-9,4,8,6,30,21]"
   ]
  },
  {
   "cell_type": "markdown",
   "metadata": {},
   "source": [
    "we can start by creating place holder vars for min and max and change them as we traverse through the list inside a for loop"
   ]
  },
  {
   "cell_type": "code",
   "execution_count": 2,
   "metadata": {},
   "outputs": [
    {
     "name": "stdout",
     "output_type": "stream",
     "text": [
      "-9 40\n"
     ]
    }
   ],
   "source": [
    "x_min=x[0]\n",
    "x_max=x[0]\n",
    "\n",
    "for val in x:\n",
    "    if val<x_min:\n",
    "        x_min=val\n",
    "    if val>x_max:\n",
    "        x_max=val\n",
    "print(x_min,x_max)"
   ]
  },
  {
   "cell_type": "markdown",
   "metadata": {},
   "source": [
    "But everytime i want to do this for a new list, i will have to write entire bit of code all over again"
   ]
  },
  {
   "cell_type": "markdown",
   "metadata": {},
   "source": [
    "lets see how we can put this block of code inside a function and how to use it later"
   ]
  },
  {
   "cell_type": "markdown",
   "metadata": {},
   "source": [
    "We need to understand what are the inputs for the program that we wrote above. We need just the said list as input. That mean our function will also need just one input"
   ]
  },
  {
   "cell_type": "code",
   "execution_count": 3,
   "metadata": {
    "collapsed": true
   },
   "outputs": [],
   "source": [
    "def find_min_max(my_list):\n",
    "    x_min=my_list[0]\n",
    "    x_max=my_list[0]\n",
    "\n",
    "    for val in my_list:\n",
    "        if val<x_min:\n",
    "            x_min=val\n",
    "        if val>x_max:\n",
    "            x_max=val\n",
    "    return(x_min,x_max)\n",
    "     \n"
   ]
  },
  {
   "cell_type": "markdown",
   "metadata": {},
   "source": [
    "Here the keyword def tells python that we are going to write a function, the name find_min_max could have been anything. Python doesnt care about function names as long as another function with the same doesnt exist already. But as a good programming practice , you should name your function which relfects what the function does"
   ]
  },
  {
   "cell_type": "markdown",
   "metadata": {},
   "source": [
    "In the prarenthesis after the function name you put name of the inputs that you are going to use in the function. Within the function, these inputs will be referred with the said name only . Many sources that you will read online or elsewhere refer to these inputs ad arguments as well"
   ]
  },
  {
   "cell_type": "markdown",
   "metadata": {},
   "source": [
    "Once you are done doing your calculation with the inputs and have the result at hand , you will need to \"return\" it in order to get the result as output"
   ]
  },
  {
   "cell_type": "markdown",
   "metadata": {},
   "source": [
    "Lets use the function with other lists"
   ]
  },
  {
   "cell_type": "code",
   "execution_count": 4,
   "metadata": {
    "collapsed": true
   },
   "outputs": [],
   "source": [
    "a=[34,5,6,32,45,67,89,2,4,99,23]"
   ]
  },
  {
   "cell_type": "code",
   "execution_count": 5,
   "metadata": {},
   "outputs": [
    {
     "data": {
      "text/plain": [
       "(2, 99)"
      ]
     },
     "execution_count": 5,
     "metadata": {},
     "output_type": "execute_result"
    }
   ],
   "source": [
    "find_min_max(a)"
   ]
  },
  {
   "cell_type": "markdown",
   "metadata": {},
   "source": [
    "See i dont have to write that bit of code all over again, i can simply call this function to find min and max a list of numbers"
   ]
  },
  {
   "cell_type": "markdown",
   "metadata": {},
   "source": [
    "A function can have multiple arguments depending on what exactly do we want to achieve with it "
   ]
  },
  {
   "cell_type": "markdown",
   "metadata": {},
   "source": [
    "Here is a function which takes three arguments for length, breadth and height for a cube and returns its surface area and volum in form of a dictionary"
   ]
  },
  {
   "cell_type": "code",
   "execution_count": 8,
   "metadata": {
    "collapsed": true
   },
   "outputs": [],
   "source": [
    "def cube_volume_surfacearea(l,w,h):\n",
    "    \n",
    "    volume=l*w*h\n",
    "    \n",
    "    surface_area=2*(l*w+w*h+l*h)\n",
    "    \n",
    "    return(volume, surface_area)\n",
    "    "
   ]
  },
  {
   "cell_type": "code",
   "execution_count": 9,
   "metadata": {},
   "outputs": [
    {
     "data": {
      "text/plain": [
       "(160, 184)"
      ]
     },
     "execution_count": 9,
     "metadata": {},
     "output_type": "execute_result"
    }
   ],
   "source": [
    "cube_volume_surfacearea(4,5,8)"
   ]
  },
  {
   "cell_type": "markdown",
   "metadata": {},
   "source": [
    "In here if i do not pass value any of the arguments , function will throw an error"
   ]
  },
  {
   "cell_type": "code",
   "execution_count": 10,
   "metadata": {},
   "outputs": [
    {
     "ename": "TypeError",
     "evalue": "cube_volume_surfacearea() missing 1 required positional argument: 'h'",
     "output_type": "error",
     "traceback": [
      "\u001b[0;31m---------------------------------------------------------------------------\u001b[0m",
      "\u001b[0;31mTypeError\u001b[0m                                 Traceback (most recent call last)",
      "\u001b[0;32m<ipython-input-10-2f70d6ea9880>\u001b[0m in \u001b[0;36m<module>\u001b[0;34m()\u001b[0m\n\u001b[0;32m----> 1\u001b[0;31m \u001b[0mcube_volume_surfacearea\u001b[0m\u001b[0;34m(\u001b[0m\u001b[0;36m5\u001b[0m\u001b[0;34m,\u001b[0m\u001b[0;36m6\u001b[0m\u001b[0;34m)\u001b[0m\u001b[0;34m\u001b[0m\u001b[0m\n\u001b[0m",
      "\u001b[0;31mTypeError\u001b[0m: cube_volume_surfacearea() missing 1 required positional argument: 'h'"
     ]
    }
   ],
   "source": [
    "cube_volume_surfacearea(5,6)"
   ]
  },
  {
   "cell_type": "markdown",
   "metadata": {},
   "source": [
    "We can avoid that if while defining the function we give these arguments some default value."
   ]
  },
  {
   "cell_type": "code",
   "execution_count": 11,
   "metadata": {
    "collapsed": true
   },
   "outputs": [],
   "source": [
    "def cube_volume_surfacearea(l=1,w=1,h=1):\n",
    "    \n",
    "    volume=l*w*h\n",
    "    \n",
    "    surface_area=2*(l*w+w*h+l*h)\n",
    "    \n",
    "    return(volume, surface_area)"
   ]
  },
  {
   "cell_type": "code",
   "execution_count": 12,
   "metadata": {},
   "outputs": [
    {
     "data": {
      "text/plain": [
       "(210, 214)"
      ]
     },
     "execution_count": 12,
     "metadata": {},
     "output_type": "execute_result"
    }
   ],
   "source": [
    "cube_volume_surfacearea(5,6,7)\n"
   ]
  },
  {
   "cell_type": "code",
   "execution_count": 13,
   "metadata": {},
   "outputs": [
    {
     "data": {
      "text/plain": [
       "(30, 82)"
      ]
     },
     "execution_count": 13,
     "metadata": {},
     "output_type": "execute_result"
    }
   ],
   "source": [
    "cube_volume_surfacearea(5,6)"
   ]
  },
  {
   "cell_type": "code",
   "execution_count": 14,
   "metadata": {},
   "outputs": [
    {
     "data": {
      "text/plain": [
       "(5, 22)"
      ]
     },
     "execution_count": 14,
     "metadata": {},
     "output_type": "execute_result"
    }
   ],
   "source": [
    "cube_volume_surfacearea(5)"
   ]
  },
  {
   "cell_type": "code",
   "execution_count": 15,
   "metadata": {},
   "outputs": [
    {
     "data": {
      "text/plain": [
       "(1, 6)"
      ]
     },
     "execution_count": 15,
     "metadata": {},
     "output_type": "execute_result"
    }
   ],
   "source": [
    "cube_volume_surfacearea()"
   ]
  },
  {
   "cell_type": "markdown",
   "metadata": {},
   "source": [
    "Here the argument values are assigned to l, w, h respectively in the order they appear when defining the function. If we name our arguements the order in which we pass doesnt really matter"
   ]
  },
  {
   "cell_type": "code",
   "execution_count": 16,
   "metadata": {},
   "outputs": [
    {
     "data": {
      "text/plain": [
       "(594, 1398)"
      ]
     },
     "execution_count": 16,
     "metadata": {},
     "output_type": "execute_result"
    }
   ],
   "source": [
    "cube_volume_surfacearea(w=6,l=99)"
   ]
  },
  {
   "cell_type": "markdown",
   "metadata": {},
   "source": [
    "We can have arbitrary number of arguments as well in our functions by defining arguments in a special way "
   ]
  },
  {
   "cell_type": "code",
   "execution_count": 18,
   "metadata": {},
   "outputs": [
    {
     "name": "stdout",
     "output_type": "stream",
     "text": [
      "formal arg: 1\n",
      "another arg: two\n",
      "another arg: 3\n"
     ]
    }
   ],
   "source": [
    "def test_var_args(farg, *args):\n",
    "    print (\"formal arg:\", farg)\n",
    "    for arg in args:\n",
    "        print (\"another arg:\", arg)\n",
    "\n",
    "test_var_args(1, \"two\", 3)"
   ]
  },
  {
   "cell_type": "markdown",
   "metadata": {},
   "source": [
    "Here the function that we defined has one normal agrument named farg , *args can be taken as list of all subsequent arguments"
   ]
  },
  {
   "cell_type": "markdown",
   "metadata": {},
   "source": [
    "Even when you are defining a function capable of handling arbitray number of arguments , you can have arguments with names using **kwargs"
   ]
  },
  {
   "cell_type": "code",
   "execution_count": 20,
   "metadata": {},
   "outputs": [
    {
     "name": "stdout",
     "output_type": "stream",
     "text": [
      "formal arg: 1\n",
      "another keyword arg: myarg3: 3\n",
      "another keyword arg: myarg2: two\n"
     ]
    }
   ],
   "source": [
    "def test_var_kwargs(farg, **kwargs):\n",
    "    print (\"formal arg:\", farg)\n",
    "    for key in kwargs:\n",
    "        print (\"another keyword arg: %s: %s\" % (key, kwargs[key]))\n",
    "\n",
    "test_var_kwargs(farg=1, myarg2=\"two\", myarg3=3)"
   ]
  },
  {
   "cell_type": "markdown",
   "metadata": {},
   "source": [
    "Here you can understand **kwargs to be a dictionary where argument names work as keys"
   ]
  },
  {
   "cell_type": "markdown",
   "metadata": {},
   "source": [
    "We will now move towards writing your own classes in python and in the process try to grasp some basic ideas about object oriented programing"
   ]
  },
  {
   "cell_type": "markdown",
   "metadata": {},
   "source": [
    "what is a class? Simply a logical grouping of data and functions . What do we mean by \"logical grouping\"? Well, a class can contain any data we'd like it to, and can have any functions (methods) attached to it that we please. Rather than just throwing random things together under the name \"class\", we try to create classes where there is a logical connection between things. Many times, classes are based on objects in the real world (like Customer or Product or Points)."
   ]
  },
  {
   "cell_type": "markdown",
   "metadata": {},
   "source": [
    "Regardless, classes are a  way of thinking about programs. When you think about and implement your system in this way, you're said to be performing Object-Oriented Programming. \"Classes\" and \"objects\" are words that are often used interchangeably."
   ]
  },
  {
   "cell_type": "markdown",
   "metadata": {},
   "source": [
    "Lets look at a use case which will convince you that when using a class to define a logical grouping makes your life easier"
   ]
  },
  {
   "cell_type": "markdown",
   "metadata": {},
   "source": [
    "Lets say i am working with points in geometry which are defined by having a x_coordinate value and a y_coordinate value. We'd like to calculate their distance from origin, we'd like to calculate distance between two points . Lets try to do that without bothering about writing a class"
   ]
  },
  {
   "cell_type": "code",
   "execution_count": 23,
   "metadata": {
    "collapsed": true
   },
   "outputs": [],
   "source": [
    "x1,y1=2,3\n",
    "x2,y2=5,7\n",
    "origin_x, origin_y=0,0"
   ]
  },
  {
   "cell_type": "markdown",
   "metadata": {},
   "source": [
    "We have to manage all these vars explicitly in order to maintain and keep track of these points. Now lets write a function which calculates a points distance from the origin"
   ]
  },
  {
   "cell_type": "code",
   "execution_count": 24,
   "metadata": {
    "collapsed": true
   },
   "outputs": [],
   "source": [
    "import math\n",
    "\n",
    "def dist_from_origin(x,y):\n",
    "    \n",
    "    temp=(x-origin_x)**2+(y-origin_y)**2\n",
    "    dist=math.sqrt(temp)\n",
    "    return(dist)"
   ]
  },
  {
   "cell_type": "code",
   "execution_count": 25,
   "metadata": {},
   "outputs": [
    {
     "data": {
      "text/plain": [
       "3.605551275463989"
      ]
     },
     "execution_count": 25,
     "metadata": {},
     "output_type": "execute_result"
    }
   ],
   "source": [
    "dist_from_origin(x1,y1)"
   ]
  },
  {
   "cell_type": "code",
   "execution_count": 26,
   "metadata": {},
   "outputs": [
    {
     "data": {
      "text/plain": [
       "8.602325267042627"
      ]
     },
     "execution_count": 26,
     "metadata": {},
     "output_type": "execute_result"
    }
   ],
   "source": [
    "dist_from_origin(x2,y2)"
   ]
  },
  {
   "cell_type": "markdown",
   "metadata": {},
   "source": [
    "Lets write a function to calculate a distance between two points "
   ]
  },
  {
   "cell_type": "code",
   "execution_count": 27,
   "metadata": {
    "collapsed": true
   },
   "outputs": [],
   "source": [
    "def dist_two_points(x_a,y_a,x_b,y_b):\n",
    "    \n",
    "    temp=(x_a-x_b)**2 + (y_a-y_b)**2\n",
    "    \n",
    "    dist=math.sqrt(temp)\n",
    "    \n",
    "    return(dist)"
   ]
  },
  {
   "cell_type": "code",
   "execution_count": 28,
   "metadata": {},
   "outputs": [
    {
     "data": {
      "text/plain": [
       "5.0"
      ]
     },
     "execution_count": 28,
     "metadata": {},
     "output_type": "execute_result"
    }
   ],
   "source": [
    "dist_two_points(x1,y1,x2,y2)"
   ]
  },
  {
   "cell_type": "markdown",
   "metadata": {},
   "source": [
    "this works , however it would be really convenient if i did not have to manage so many vars to define a point and it was somehow managed internally . Lets see how we can achieve by defining a class. We'll name this class Point."
   ]
  },
  {
   "cell_type": "code",
   "execution_count": 65,
   "metadata": {
    "collapsed": true
   },
   "outputs": [],
   "source": [
    "class Point(object):\n",
    "    \n",
    "    # the first function is __init__ , with double underscore \n",
    "    # this is used to set properties of object of the class point when it gets created\n",
    "    # we can also put data here which can be used by any object of the class Point \n",
    "    # can also be used by other methods/functions contained in the class\n",
    "    \n",
    "    # self here is a way to refer to object of the same class and its attribute \n",
    "    \n",
    "    def __init__(self,x,y):\n",
    "        self.X=x\n",
    "        self.Y=y\n",
    "    \n",
    "    def origin(self):\n",
    "        return Point(0,0)\n",
    "    \n",
    "    def dist_two_points(self,other):\n",
    "        \n",
    "        temp=(self.X-other.X)**2+(self.Y-other.Y)**2\n",
    "        \n",
    "        return(math.sqrt(temp))\n",
    "    \n",
    "    def dist_from_origin(self):\n",
    "        \n",
    "        temp=(self.X)**2+(self.Y)**2\n",
    "        \n",
    "        return(math.sqrt(temp))\n",
    "        \n",
    "    "
   ]
  },
  {
   "cell_type": "code",
   "execution_count": 70,
   "metadata": {
    "collapsed": true
   },
   "outputs": [],
   "source": [
    "a=Point(2,3)\n",
    "b=Point(5,7)"
   ]
  },
  {
   "cell_type": "markdown",
   "metadata": {},
   "source": [
    "Here we have created two points, if we now wan to know what their X and Y coordinate values are we can simply access attribute of the object ."
   ]
  },
  {
   "cell_type": "code",
   "execution_count": 72,
   "metadata": {},
   "outputs": [
    {
     "data": {
      "text/plain": [
       "(2, 3)"
      ]
     },
     "execution_count": 72,
     "metadata": {},
     "output_type": "execute_result"
    }
   ],
   "source": [
    "a.X,a.Y"
   ]
  },
  {
   "cell_type": "code",
   "execution_count": 73,
   "metadata": {},
   "outputs": [
    {
     "data": {
      "text/plain": [
       "(5, 7)"
      ]
     },
     "execution_count": 73,
     "metadata": {},
     "output_type": "execute_result"
    }
   ],
   "source": [
    "b.X,b.Y"
   ]
  },
  {
   "cell_type": "code",
   "execution_count": 74,
   "metadata": {},
   "outputs": [
    {
     "data": {
      "text/plain": [
       "5.0"
      ]
     },
     "execution_count": 74,
     "metadata": {},
     "output_type": "execute_result"
    }
   ],
   "source": [
    "Point.dist_two_points(a,b)"
   ]
  },
  {
   "cell_type": "code",
   "execution_count": 75,
   "metadata": {},
   "outputs": [
    {
     "data": {
      "text/plain": [
       "3.605551275463989"
      ]
     },
     "execution_count": 75,
     "metadata": {},
     "output_type": "execute_result"
    }
   ],
   "source": [
    "Point.dist_from_origin(a)"
   ]
  },
  {
   "cell_type": "code",
   "execution_count": 76,
   "metadata": {},
   "outputs": [
    {
     "data": {
      "text/plain": [
       "8.602325267042627"
      ]
     },
     "execution_count": 76,
     "metadata": {},
     "output_type": "execute_result"
    }
   ],
   "source": [
    "Point.dist_from_origin(b)"
   ]
  },
  {
   "cell_type": "markdown",
   "metadata": {},
   "source": [
    "In above to call to functions we called these functions using the class name , another popular and very often seen way of calling the function contained in the class is by using the object itself instead using the class name needlessly"
   ]
  },
  {
   "cell_type": "code",
   "execution_count": 77,
   "metadata": {},
   "outputs": [
    {
     "data": {
      "text/plain": [
       "3.605551275463989"
      ]
     },
     "execution_count": 77,
     "metadata": {},
     "output_type": "execute_result"
    }
   ],
   "source": [
    "a.dist_from_origin()"
   ]
  },
  {
   "cell_type": "markdown",
   "metadata": {},
   "source": [
    "here the role of self gets very evident , when we are calling a function like the object itself in this case \"a\" becomes self and is treated like such in the functions within the class"
   ]
  },
  {
   "cell_type": "code",
   "execution_count": 78,
   "metadata": {},
   "outputs": [
    {
     "data": {
      "text/plain": [
       "5.0"
      ]
     },
     "execution_count": 78,
     "metadata": {},
     "output_type": "execute_result"
    }
   ],
   "source": [
    "a.dist_two_points(b)"
   ]
  },
  {
   "cell_type": "markdown",
   "metadata": {},
   "source": [
    "A note of caution or rather a note for putting you at ease here would be that it will not happen in the course that you end up writing your own classes. Not because we will avoid that, but because we dont really need to . We discussed object oriented programming for the sake of completing discussion on python. Its definitely a good to know concept, but you dont really need to worry or stress too much over it as a data scientist , at least to start with.\n",
    "\n",
    "We'll close this now , this also marks end of the introduction to python module. You can now move to second module of the course where we discuss how to handle datasets, summarise and visualise them using pandas and seaborn packages"
   ]
  },
  {
   "cell_type": "code",
   "execution_count": null,
   "metadata": {
    "collapsed": true
   },
   "outputs": [],
   "source": []
  }
 ],
 "metadata": {
  "kernelspec": {
   "display_name": "Python [Root]",
   "language": "python",
   "name": "Python [Root]"
  },
  "language_info": {
   "codemirror_mode": {
    "name": "ipython",
    "version": 3
   },
   "file_extension": ".py",
   "mimetype": "text/x-python",
   "name": "python",
   "nbconvert_exporter": "python",
   "pygments_lexer": "ipython3",
   "version": "3.5.3"
  }
 },
 "nbformat": 4,
 "nbformat_minor": 2
}
