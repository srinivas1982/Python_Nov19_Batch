{
 "cells": [
  {
   "cell_type": "markdown",
   "metadata": {},
   "source": [
    "in this module we will talk about flow control in python with if-else blocks , for and while loops. If else blocks are used when you want to carry out two different operations depending on certain conditions. lets understand that with a simple example."
   ]
  },
  {
   "cell_type": "code",
   "execution_count": 1,
   "metadata": {},
   "outputs": [
    {
     "name": "stdout",
     "output_type": "stream",
     "text": [
      "x is smaller than 10 by 5 units\n"
     ]
    }
   ],
   "source": [
    "x=5\n",
    "if x>10:\n",
    "    print('x is larger than 10')\n",
    "else:\n",
    "    difference=10-x\n",
    "    print('x is smaller than 10 by '+str(difference)+' units')"
   ]
  },
  {
   "cell_type": "markdown",
   "metadata": {},
   "source": [
    "here the code which is contained in if block is executed if the condition [x>10] is met otherwise code in the else block is executed. Very importent thing to notice here is how the blocks are defined . Level of indentation that you see here defines which bit of code belongs to if block . once the level of indentation changes block ends. Unlike other languages where code blocks are contained by parenthesis , in python this forced indentation makes the code mroe readable. This way of defining code blocks will remain true throught out this course or else where you use python programming"
   ]
  },
  {
   "cell_type": "markdown",
   "metadata": {},
   "source": [
    "there is no limit on how big or small the code blocks need to be , it can be as small as containing a single line as above or thousands of lines. \n",
    "\n",
    "although logically apparent but important nonetheless , a bit of information will be that else block can not be used stand alone , it always comes only if accompanied by an if block. Whereas its not neccessary to have an else block after if ."
   ]
  },
  {
   "cell_type": "markdown",
   "metadata": {},
   "source": [
    "These if-else blocks are executed only once . but what if x was a list and we wanted to carry out this operation for each member of x. we can do that iteratively by putting the whole thing inside a for loop."
   ]
  },
  {
   "cell_type": "code",
   "execution_count": 3,
   "metadata": {},
   "outputs": [
    {
     "name": "stdout",
     "output_type": "stream",
     "text": [
      "elem is smaller than 10 by 5 units\n",
      "elem is larger than 10\n",
      "elem is larger than 10\n",
      "elem is smaller than 10 by 20 units\n",
      "elem is smaller than 10 by 10 units\n",
      "elem is larger than 10\n",
      "elem is smaller than 10 by 6 units\n",
      "elem is smaller than 10 by 7 units\n",
      "elem is smaller than 10 by 4 units\n",
      "elem is larger than 10\n"
     ]
    }
   ],
   "source": [
    "x=[5,40,12,-10,0,32,4,3,6,72]\n",
    "\n",
    "for elem in x:\n",
    "    if elem>10:\n",
    "        print('elem is larger than 10')\n",
    "    else:\n",
    "        difference=10-elem\n",
    "        print('elem is smaller than 10 by '+str(difference)+' units')"
   ]
  },
  {
   "cell_type": "markdown",
   "metadata": {
    "collapsed": true
   },
   "source": [
    "There are three components of a for loop , elem here is known as index . you can name it whatever you want , this index takes values from the value list which is x in this case. For each value that index takes , code inside the for loop is executed. Let me summarise what i just said and add few more things about these components of a for loop .\n",
    "\n",
    "1. You can name your index whatever you want \n",
    "2. Value list can be any list , it doesnt have to contain just numbers \n",
    "3. Code contained in the body of the for loop will be executed as many times as there are values in the value list\n",
    "\n",
    "lets look at another example "
   ]
  },
  {
   "cell_type": "code",
   "execution_count": 1,
   "metadata": {
    "collapsed": true
   },
   "outputs": [],
   "source": [
    "cities = ['Mumbai','London','Bangalore','Pune','Hyderabad']"
   ]
  },
  {
   "cell_type": "markdown",
   "metadata": {},
   "source": [
    "Lets say i want to store number of characters in the name of each city in a list . Lets start with an empty list . We will name our index city , that freedom just makes our code easy to read . inside our for loop we will calculate length of the name string and append to the empty list."
   ]
  },
  {
   "cell_type": "code",
   "execution_count": 2,
   "metadata": {},
   "outputs": [
    {
     "data": {
      "text/plain": [
       "[6, 6, 9, 4, 9]"
      ]
     },
     "execution_count": 2,
     "metadata": {},
     "output_type": "execute_result"
    }
   ],
   "source": [
    "num_chars=[]\n",
    "\n",
    "for city in cities :\n",
    "    num_char=len(city)\n",
    "    num_chars.append(num_char)\n",
    "    \n",
    "num_chars"
   ]
  },
  {
   "cell_type": "markdown",
   "metadata": {},
   "source": [
    "Takeaway here is that if we want to carry out any process or execute any program iteratively we can use a for loop instead of writing the similar lines of code multiuple times "
   ]
  },
  {
   "cell_type": "markdown",
   "metadata": {},
   "source": [
    "many at times we want to carry out an iterative process, but  we dont really know how many times it will be executed . Essentially there is no index or value list , we want to keep on running the same bit of code untill a certain condition remains true. We can do that using while loop ."
   ]
  },
  {
   "cell_type": "markdown",
   "metadata": {},
   "source": [
    "Lets say we want to write a simple game program which a player can run . This program lets people have simulated dice throws as many times as they want , if sum of their throws exceed 20 within 6 throws they win otherwise they lose"
   ]
  },
  {
   "cell_type": "markdown",
   "metadata": {},
   "source": [
    "We will be using package numpy and subpackage random to simulate random numbers between 1 to 6 "
   ]
  },
  {
   "cell_type": "code",
   "execution_count": 30,
   "metadata": {},
   "outputs": [
    {
     "name": "stdout",
     "output_type": "stream",
     "text": [
      "3\n",
      "5\n",
      "5\n",
      "4\n",
      "4\n",
      "Win\n"
     ]
    }
   ],
   "source": [
    "mysum=0\n",
    "throws=0\n",
    "import numpy as np \n",
    "while mysum<=20:\n",
    "    throw = np.random.randint(high=6,low=1)\n",
    "    mysum += throw\n",
    "    throws +=1\n",
    "    print(throw)\n",
    "\n",
    "if throws>6: \n",
    "    print('Loss')\n",
    "else :\n",
    "    print('Win')"
   ]
  },
  {
   "cell_type": "markdown",
   "metadata": {},
   "source": [
    "By adding a print call there , we can see actual throw values and you can see while loops keeps on running until the condition is met . One key thing that you will need to keep in mind here is that there needs to be a mechanism within the while loop body which at some point flips the conditon, otherwise your loop might run indefinitely . A way to stop it will be to kill the kernel . You will get that option if you click on the kernel button on top of this notebook , try hitting interrupt first , wait for some time , if that doesnt work , click on restart and clear output ."
   ]
  },
  {
   "cell_type": "markdown",
   "metadata": {},
   "source": [
    "The next thing that we will look at is known as list comprehension . Let me show you waht it is with an example . Lets try to do a simple thing. we are given a simple list with these numbers"
   ]
  },
  {
   "cell_type": "code",
   "execution_count": 31,
   "metadata": {
    "collapsed": true
   },
   "outputs": [],
   "source": [
    "x=[2,3,4,5,6,8,9,-10,0,33,44,12]"
   ]
  },
  {
   "cell_type": "markdown",
   "metadata": {},
   "source": [
    "and we want to create another list which contains squares of these numbers , we can again start with an empty list and keep on appending the squares of the numbers as we iterate through the given list using for loop"
   ]
  },
  {
   "cell_type": "code",
   "execution_count": 32,
   "metadata": {},
   "outputs": [
    {
     "name": "stdout",
     "output_type": "stream",
     "text": [
      "[2, 3, 4, 5, 6, 8, 9, -10, 0, 33, 44, 12]\n",
      "[4, 9, 16, 25, 36, 64, 81, 100, 0, 1089, 1936, 144]\n"
     ]
    }
   ],
   "source": [
    "squares = []\n",
    "\n",
    "for num in x :\n",
    "    squares.append(num**2)\n",
    "\n",
    "print(x)\n",
    "print(squares)"
   ]
  },
  {
   "cell_type": "markdown",
   "metadata": {},
   "source": [
    "it turns out , to populate this empty list , we dont really need to write an explicit for loop, we can use list comprehension instead , which is nothing but a short form a for loop writeen inside a list. Here , have a look"
   ]
  },
  {
   "cell_type": "code",
   "execution_count": 33,
   "metadata": {
    "collapsed": true
   },
   "outputs": [],
   "source": [
    "squares=[num**2 for num in x]"
   ]
  },
  {
   "cell_type": "code",
   "execution_count": 34,
   "metadata": {},
   "outputs": [
    {
     "data": {
      "text/plain": [
       "[4, 9, 16, 25, 36, 64, 81, 100, 0, 1089, 1936, 144]"
      ]
     },
     "execution_count": 34,
     "metadata": {},
     "output_type": "execute_result"
    }
   ],
   "source": [
    "squares"
   ]
  },
  {
   "cell_type": "markdown",
   "metadata": {},
   "source": [
    "here the expression written before \"for num in x\", becomes an element of the list "
   ]
  },
  {
   "cell_type": "markdown",
   "metadata": {},
   "source": [
    "you can have conditions in list comprehension as well. Lets say we wanted to have squares of only even numbers . we can use modulo operator to write that condition. First we will do that using an explicit for loop and then with list comprehension"
   ]
  },
  {
   "cell_type": "code",
   "execution_count": 35,
   "metadata": {},
   "outputs": [
    {
     "name": "stdout",
     "output_type": "stream",
     "text": [
      "[2, 3, 4, 5, 6, 8, 9, -10, 0, 33, 44, 12]\n",
      "[4, 16, 36, 64, 100, 0, 1936, 144]\n"
     ]
    }
   ],
   "source": [
    "even_squares=[]\n",
    "\n",
    "for num in x:\n",
    "    if num%2==0:\n",
    "        even_squares.append(num**2)\n",
    "print(x)\n",
    "print(even_squares)"
   ]
  },
  {
   "cell_type": "markdown",
   "metadata": {},
   "source": [
    "now lets see how we can write the same thing with using list comprehension "
   ]
  },
  {
   "cell_type": "code",
   "execution_count": 36,
   "metadata": {
    "collapsed": true
   },
   "outputs": [],
   "source": [
    "even_squares=[num**2 for num in x if num%2==0]"
   ]
  },
  {
   "cell_type": "code",
   "execution_count": 37,
   "metadata": {},
   "outputs": [
    {
     "data": {
      "text/plain": [
       "[4, 16, 36, 64, 100, 0, 1936, 144]"
      ]
     },
     "execution_count": 37,
     "metadata": {},
     "output_type": "execute_result"
    }
   ],
   "source": [
    "even_squares"
   ]
  },
  {
   "cell_type": "markdown",
   "metadata": {},
   "source": [
    "Same result . We'll use this a lot through out the co"
   ]
  }
 ],
 "metadata": {
  "kernelspec": {
   "display_name": "Python [Root]",
   "language": "python",
   "name": "Python [Root]"
  },
  "language_info": {
   "codemirror_mode": {
    "name": "ipython",
    "version": 3
   },
   "file_extension": ".py",
   "mimetype": "text/x-python",
   "name": "python",
   "nbconvert_exporter": "python",
   "pygments_lexer": "ipython3",
   "version": "3.5.3"
  }
 },
 "nbformat": 4,
 "nbformat_minor": 2
}
